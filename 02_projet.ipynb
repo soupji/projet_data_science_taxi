{
 "cells": [
  {
   "cell_type": "markdown",
   "id": "db4eb735",
   "metadata": {},
   "source": [
    "# Introduction\n",
    "\n",
    "Pour notre projet tutoré de fin d'année, il nous a été demandé de réaliser un projet en rapport avec la data science, sur une période d'envirion deux mois, en binôme, sur Python. La réalisation se porte sur les données des taxis new-yorkais, ces-derniers provenant sur site gouvernemantale de la ville de New York City. <br/>\n",
    "L'objectif est de présenter le meilleur modèle, parmi trois, de Machine Learning permettant la prédiction du prix de la course. La portée de l'étude se déroule sur la période de mai 2020. Notre target étant de type numérique, nous utiliserons ainsi des modèles de régression.\n",
    "\n",
    "## Infos diverses \n",
    "\n",
    "- Source des données: https://www1.nyc.gov/site/tlc/about/tlc-trip-record-data.page\n",
    "- Portée de l'étude: mois de mai 2020\n",
    "- Période: du 29/04/2022 au 01/07/2022\n",
    "- Target y: 'total_amount'\n",
    "- Lien Github: yen a pas bien sûr\n",
    "\n",
    "### Acteurs (meilleur duo bien sûr ツ): \n",
    "Rayan Awasil <br/>\n",
    "Islam Bensaad\n",
    "\n",
    "test github <br/>\n",
    "essai d'une nouvelle branche"
   ]
  },
  {
   "cell_type": "markdown",
   "id": "ac85e9ed",
   "metadata": {},
   "source": [
    "# Dynamique du rapport\n",
    "\n",
    "Pour réaliser cette étude, nous allons d'abord dans un premier temps explorer nos données via les méthodes de statistiques descriptives. Puis, nous allons préparer nos données afin d'avoir une base de travail la plus propre possible pour réaliser nos modèles. Enfin, nous finirons sur les modèles de Machine Learning à proprement parlé.\n",
    "\n",
    "## Plan\n",
    "\n",
    "1. Exploration du jeu de données\n",
    "2. Sélection des variables & nettoyage des données\n",
    "3. Modèles de Machine Learning"
   ]
  },
  {
   "cell_type": "markdown",
   "id": "cae325e7",
   "metadata": {},
   "source": [
    "# 1. Analyse exploratoire des données"
   ]
  },
  {
   "cell_type": "markdown",
   "id": "0425dd88",
   "metadata": {},
   "source": [
    "Afin de pouvoir réaliser cette étude, il est nécessaire d'importer les librairies nécessaires de Data Science, consultable et exploitable sur PyPi. <br/>\n",
    "Lien web: https://pypi.org/"
   ]
  },
  {
   "cell_type": "code",
   "execution_count": 23,
   "id": "00958ed4",
   "metadata": {},
   "outputs": [],
   "source": [
    "# traitement des données\n",
    "import pandas as pd\n",
    "import numpy as np\n",
    "import matplotlib.pyplot as plt \n",
    "import seaborn as sns\n",
    "\n",
    "# les différents modèles\n",
    "from sklearn.linear_model import LinearRegression\n",
    "from sklearn.tree import DecisionTreeRegressor\n",
    "from sklearn.ensemble import RandomForestRegressor\n",
    "from sklearn import neighbors\n",
    "\n",
    "# les différentes mesures pour aider à l'analyse\n",
    "from sklearn.metrics import r2_score\n",
    "from sklearn.metrics import mean_squared_error\n",
    "\n",
    "# optimisation des modèles\n",
    "from sklearn.model_selection import train_test_split\n",
    "from sklearn.model_selection import cross_val_score"
   ]
  },
  {
   "cell_type": "markdown",
   "id": "95966145",
   "metadata": {},
   "source": [
    "On charge dans un premier temps le fichier dans un dataframe, et on affiche le nombre de lignes et de colonnes."
   ]
  },
  {
   "cell_type": "code",
   "execution_count": 24,
   "id": "a92af4e8",
   "metadata": {},
   "outputs": [
    {
     "name": "stderr",
     "output_type": "stream",
     "text": [
      "C:\\Users\\rayan_\\AppData\\Local\\Temp\\ipykernel_4188\\2422764065.py:1: DtypeWarning: Columns (6) have mixed types. Specify dtype option on import or set low_memory=False.\n",
      "  taxi = pd.read_csv('yellow_tripdata_2020-05.csv')\n"
     ]
    },
    {
     "data": {
      "text/plain": [
       "(348371, 18)"
      ]
     },
     "execution_count": 24,
     "metadata": {},
     "output_type": "execute_result"
    }
   ],
   "source": [
    "taxi = pd.read_csv('yellow_tripdata_2020-05.csv')\n",
    "taxi.shape"
   ]
  },
  {
   "cell_type": "markdown",
   "id": "77cd57f1",
   "metadata": {},
   "source": [
    "On a ainsi un fichier initial de 348 371 lignes et 18 colonnes."
   ]
  },
  {
   "cell_type": "markdown",
   "id": "e3362d06",
   "metadata": {},
   "source": [
    "On affiche les cinq premières lignes."
   ]
  },
  {
   "cell_type": "code",
   "execution_count": 25,
   "id": "9b3f2301",
   "metadata": {
    "scrolled": true
   },
   "outputs": [
    {
     "data": {
      "text/html": [
       "<div>\n",
       "<style scoped>\n",
       "    .dataframe tbody tr th:only-of-type {\n",
       "        vertical-align: middle;\n",
       "    }\n",
       "\n",
       "    .dataframe tbody tr th {\n",
       "        vertical-align: top;\n",
       "    }\n",
       "\n",
       "    .dataframe thead th {\n",
       "        text-align: right;\n",
       "    }\n",
       "</style>\n",
       "<table border=\"1\" class=\"dataframe\">\n",
       "  <thead>\n",
       "    <tr style=\"text-align: right;\">\n",
       "      <th></th>\n",
       "      <th>VendorID</th>\n",
       "      <th>tpep_pickup_datetime</th>\n",
       "      <th>tpep_dropoff_datetime</th>\n",
       "      <th>passenger_count</th>\n",
       "      <th>trip_distance</th>\n",
       "      <th>RatecodeID</th>\n",
       "      <th>store_and_fwd_flag</th>\n",
       "      <th>PULocationID</th>\n",
       "      <th>DOLocationID</th>\n",
       "      <th>payment_type</th>\n",
       "      <th>fare_amount</th>\n",
       "      <th>extra</th>\n",
       "      <th>mta_tax</th>\n",
       "      <th>tip_amount</th>\n",
       "      <th>tolls_amount</th>\n",
       "      <th>improvement_surcharge</th>\n",
       "      <th>total_amount</th>\n",
       "      <th>congestion_surcharge</th>\n",
       "    </tr>\n",
       "  </thead>\n",
       "  <tbody>\n",
       "    <tr>\n",
       "      <th>0</th>\n",
       "      <td>1.0</td>\n",
       "      <td>2020-05-01 00:02:28</td>\n",
       "      <td>2020-05-01 00:18:07</td>\n",
       "      <td>1.0</td>\n",
       "      <td>0.0</td>\n",
       "      <td>1.0</td>\n",
       "      <td>N</td>\n",
       "      <td>234</td>\n",
       "      <td>256</td>\n",
       "      <td>1.0</td>\n",
       "      <td>12.2</td>\n",
       "      <td>3.0</td>\n",
       "      <td>0.5</td>\n",
       "      <td>2.4</td>\n",
       "      <td>0.0</td>\n",
       "      <td>0.3</td>\n",
       "      <td>18.4</td>\n",
       "      <td>2.5</td>\n",
       "    </tr>\n",
       "    <tr>\n",
       "      <th>1</th>\n",
       "      <td>1.0</td>\n",
       "      <td>2020-05-01 00:23:21</td>\n",
       "      <td>2020-05-01 00:26:01</td>\n",
       "      <td>2.0</td>\n",
       "      <td>0.4</td>\n",
       "      <td>1.0</td>\n",
       "      <td>N</td>\n",
       "      <td>264</td>\n",
       "      <td>264</td>\n",
       "      <td>1.0</td>\n",
       "      <td>4.0</td>\n",
       "      <td>0.5</td>\n",
       "      <td>0.5</td>\n",
       "      <td>0.5</td>\n",
       "      <td>0.0</td>\n",
       "      <td>0.3</td>\n",
       "      <td>5.8</td>\n",
       "      <td>0.0</td>\n",
       "    </tr>\n",
       "    <tr>\n",
       "      <th>2</th>\n",
       "      <td>1.0</td>\n",
       "      <td>2020-05-01 00:54:58</td>\n",
       "      <td>2020-05-01 00:57:11</td>\n",
       "      <td>1.0</td>\n",
       "      <td>0.3</td>\n",
       "      <td>1.0</td>\n",
       "      <td>N</td>\n",
       "      <td>264</td>\n",
       "      <td>264</td>\n",
       "      <td>2.0</td>\n",
       "      <td>3.5</td>\n",
       "      <td>0.5</td>\n",
       "      <td>0.5</td>\n",
       "      <td>0.0</td>\n",
       "      <td>0.0</td>\n",
       "      <td>0.3</td>\n",
       "      <td>4.8</td>\n",
       "      <td>0.0</td>\n",
       "    </tr>\n",
       "    <tr>\n",
       "      <th>3</th>\n",
       "      <td>1.0</td>\n",
       "      <td>2020-05-01 00:07:10</td>\n",
       "      <td>2020-05-01 00:12:46</td>\n",
       "      <td>1.0</td>\n",
       "      <td>1.7</td>\n",
       "      <td>1.0</td>\n",
       "      <td>N</td>\n",
       "      <td>107</td>\n",
       "      <td>229</td>\n",
       "      <td>2.0</td>\n",
       "      <td>7.0</td>\n",
       "      <td>3.0</td>\n",
       "      <td>0.5</td>\n",
       "      <td>0.0</td>\n",
       "      <td>0.0</td>\n",
       "      <td>0.3</td>\n",
       "      <td>10.8</td>\n",
       "      <td>2.5</td>\n",
       "    </tr>\n",
       "    <tr>\n",
       "      <th>4</th>\n",
       "      <td>1.0</td>\n",
       "      <td>2020-05-01 00:55:47</td>\n",
       "      <td>2020-05-01 01:01:54</td>\n",
       "      <td>0.0</td>\n",
       "      <td>0.9</td>\n",
       "      <td>1.0</td>\n",
       "      <td>N</td>\n",
       "      <td>237</td>\n",
       "      <td>262</td>\n",
       "      <td>1.0</td>\n",
       "      <td>6.0</td>\n",
       "      <td>3.0</td>\n",
       "      <td>0.5</td>\n",
       "      <td>1.2</td>\n",
       "      <td>0.0</td>\n",
       "      <td>0.3</td>\n",
       "      <td>11.0</td>\n",
       "      <td>2.5</td>\n",
       "    </tr>\n",
       "  </tbody>\n",
       "</table>\n",
       "</div>"
      ],
      "text/plain": [
       "   VendorID tpep_pickup_datetime tpep_dropoff_datetime  passenger_count  \\\n",
       "0       1.0  2020-05-01 00:02:28   2020-05-01 00:18:07              1.0   \n",
       "1       1.0  2020-05-01 00:23:21   2020-05-01 00:26:01              2.0   \n",
       "2       1.0  2020-05-01 00:54:58   2020-05-01 00:57:11              1.0   \n",
       "3       1.0  2020-05-01 00:07:10   2020-05-01 00:12:46              1.0   \n",
       "4       1.0  2020-05-01 00:55:47   2020-05-01 01:01:54              0.0   \n",
       "\n",
       "   trip_distance  RatecodeID store_and_fwd_flag  PULocationID  DOLocationID  \\\n",
       "0            0.0         1.0                  N           234           256   \n",
       "1            0.4         1.0                  N           264           264   \n",
       "2            0.3         1.0                  N           264           264   \n",
       "3            1.7         1.0                  N           107           229   \n",
       "4            0.9         1.0                  N           237           262   \n",
       "\n",
       "   payment_type  fare_amount  extra  mta_tax  tip_amount  tolls_amount  \\\n",
       "0           1.0         12.2    3.0      0.5         2.4           0.0   \n",
       "1           1.0          4.0    0.5      0.5         0.5           0.0   \n",
       "2           2.0          3.5    0.5      0.5         0.0           0.0   \n",
       "3           2.0          7.0    3.0      0.5         0.0           0.0   \n",
       "4           1.0          6.0    3.0      0.5         1.2           0.0   \n",
       "\n",
       "   improvement_surcharge  total_amount  congestion_surcharge  \n",
       "0                    0.3          18.4                   2.5  \n",
       "1                    0.3           5.8                   0.0  \n",
       "2                    0.3           4.8                   0.0  \n",
       "3                    0.3          10.8                   2.5  \n",
       "4                    0.3          11.0                   2.5  "
      ]
     },
     "execution_count": 25,
     "metadata": {},
     "output_type": "execute_result"
    }
   ],
   "source": [
    "taxi.head()"
   ]
  },
  {
   "cell_type": "markdown",
   "id": "873bcb87",
   "metadata": {},
   "source": [
    "Résumé statistique avant le traitement des valeurs manquantes."
   ]
  },
  {
   "cell_type": "code",
   "execution_count": 26,
   "id": "ea316023",
   "metadata": {},
   "outputs": [
    {
     "data": {
      "text/html": [
       "<div>\n",
       "<style scoped>\n",
       "    .dataframe tbody tr th:only-of-type {\n",
       "        vertical-align: middle;\n",
       "    }\n",
       "\n",
       "    .dataframe tbody tr th {\n",
       "        vertical-align: top;\n",
       "    }\n",
       "\n",
       "    .dataframe thead th {\n",
       "        text-align: right;\n",
       "    }\n",
       "</style>\n",
       "<table border=\"1\" class=\"dataframe\">\n",
       "  <thead>\n",
       "    <tr style=\"text-align: right;\">\n",
       "      <th></th>\n",
       "      <th>VendorID</th>\n",
       "      <th>passenger_count</th>\n",
       "      <th>trip_distance</th>\n",
       "      <th>RatecodeID</th>\n",
       "      <th>PULocationID</th>\n",
       "      <th>DOLocationID</th>\n",
       "      <th>payment_type</th>\n",
       "      <th>fare_amount</th>\n",
       "      <th>extra</th>\n",
       "      <th>mta_tax</th>\n",
       "      <th>tip_amount</th>\n",
       "      <th>tolls_amount</th>\n",
       "      <th>improvement_surcharge</th>\n",
       "      <th>total_amount</th>\n",
       "      <th>congestion_surcharge</th>\n",
       "    </tr>\n",
       "  </thead>\n",
       "  <tbody>\n",
       "    <tr>\n",
       "      <th>count</th>\n",
       "      <td>289480.000000</td>\n",
       "      <td>289480.000000</td>\n",
       "      <td>348371.000000</td>\n",
       "      <td>289480.000000</td>\n",
       "      <td>348371.000000</td>\n",
       "      <td>348371.000000</td>\n",
       "      <td>289480.000000</td>\n",
       "      <td>348371.000000</td>\n",
       "      <td>348371.000000</td>\n",
       "      <td>348371.000000</td>\n",
       "      <td>348371.000000</td>\n",
       "      <td>348371.000000</td>\n",
       "      <td>348371.000000</td>\n",
       "      <td>348371.000000</td>\n",
       "      <td>348371.000000</td>\n",
       "    </tr>\n",
       "    <tr>\n",
       "      <th>mean</th>\n",
       "      <td>1.564139</td>\n",
       "      <td>1.314208</td>\n",
       "      <td>8.333688</td>\n",
       "      <td>1.043067</td>\n",
       "      <td>152.593505</td>\n",
       "      <td>148.479233</td>\n",
       "      <td>1.423231</td>\n",
       "      <td>14.942190</td>\n",
       "      <td>0.956279</td>\n",
       "      <td>0.490154</td>\n",
       "      <td>1.427909</td>\n",
       "      <td>0.435684</td>\n",
       "      <td>0.297107</td>\n",
       "      <td>19.674624</td>\n",
       "      <td>1.840390</td>\n",
       "    </tr>\n",
       "    <tr>\n",
       "      <th>std</th>\n",
       "      <td>0.495870</td>\n",
       "      <td>0.984035</td>\n",
       "      <td>774.866832</td>\n",
       "      <td>0.969507</td>\n",
       "      <td>70.862650</td>\n",
       "      <td>74.815690</td>\n",
       "      <td>0.554263</td>\n",
       "      <td>727.787407</td>\n",
       "      <td>1.248752</td>\n",
       "      <td>0.083839</td>\n",
       "      <td>2.509379</td>\n",
       "      <td>1.910827</td>\n",
       "      <td>0.040546</td>\n",
       "      <td>727.919276</td>\n",
       "      <td>1.118676</td>\n",
       "    </tr>\n",
       "    <tr>\n",
       "      <th>min</th>\n",
       "      <td>1.000000</td>\n",
       "      <td>0.000000</td>\n",
       "      <td>0.000000</td>\n",
       "      <td>1.000000</td>\n",
       "      <td>1.000000</td>\n",
       "      <td>1.000000</td>\n",
       "      <td>1.000000</td>\n",
       "      <td>-240.000000</td>\n",
       "      <td>-4.500000</td>\n",
       "      <td>-0.500000</td>\n",
       "      <td>-11.060000</td>\n",
       "      <td>-13.750000</td>\n",
       "      <td>-0.300000</td>\n",
       "      <td>-244.300000</td>\n",
       "      <td>-2.500000</td>\n",
       "    </tr>\n",
       "    <tr>\n",
       "      <th>25%</th>\n",
       "      <td>1.000000</td>\n",
       "      <td>1.000000</td>\n",
       "      <td>1.050000</td>\n",
       "      <td>1.000000</td>\n",
       "      <td>90.000000</td>\n",
       "      <td>75.000000</td>\n",
       "      <td>1.000000</td>\n",
       "      <td>6.000000</td>\n",
       "      <td>0.000000</td>\n",
       "      <td>0.500000</td>\n",
       "      <td>0.000000</td>\n",
       "      <td>0.000000</td>\n",
       "      <td>0.300000</td>\n",
       "      <td>10.300000</td>\n",
       "      <td>0.000000</td>\n",
       "    </tr>\n",
       "    <tr>\n",
       "      <th>50%</th>\n",
       "      <td>2.000000</td>\n",
       "      <td>1.000000</td>\n",
       "      <td>1.990000</td>\n",
       "      <td>1.000000</td>\n",
       "      <td>143.000000</td>\n",
       "      <td>143.000000</td>\n",
       "      <td>1.000000</td>\n",
       "      <td>9.000000</td>\n",
       "      <td>0.000000</td>\n",
       "      <td>0.500000</td>\n",
       "      <td>0.010000</td>\n",
       "      <td>0.000000</td>\n",
       "      <td>0.300000</td>\n",
       "      <td>13.800000</td>\n",
       "      <td>2.500000</td>\n",
       "    </tr>\n",
       "    <tr>\n",
       "      <th>75%</th>\n",
       "      <td>2.000000</td>\n",
       "      <td>1.000000</td>\n",
       "      <td>4.250000</td>\n",
       "      <td>1.000000</td>\n",
       "      <td>231.000000</td>\n",
       "      <td>230.000000</td>\n",
       "      <td>2.000000</td>\n",
       "      <td>16.000000</td>\n",
       "      <td>2.500000</td>\n",
       "      <td>0.500000</td>\n",
       "      <td>2.450000</td>\n",
       "      <td>0.000000</td>\n",
       "      <td>0.300000</td>\n",
       "      <td>21.300000</td>\n",
       "      <td>2.500000</td>\n",
       "    </tr>\n",
       "    <tr>\n",
       "      <th>max</th>\n",
       "      <td>2.000000</td>\n",
       "      <td>9.000000</td>\n",
       "      <td>297004.510000</td>\n",
       "      <td>99.000000</td>\n",
       "      <td>265.000000</td>\n",
       "      <td>265.000000</td>\n",
       "      <td>4.000000</td>\n",
       "      <td>429496.720000</td>\n",
       "      <td>65.530000</td>\n",
       "      <td>3.300000</td>\n",
       "      <td>442.180000</td>\n",
       "      <td>200.000000</td>\n",
       "      <td>0.300000</td>\n",
       "      <td>429562.250000</td>\n",
       "      <td>2.500000</td>\n",
       "    </tr>\n",
       "  </tbody>\n",
       "</table>\n",
       "</div>"
      ],
      "text/plain": [
       "            VendorID  passenger_count  trip_distance     RatecodeID  \\\n",
       "count  289480.000000    289480.000000  348371.000000  289480.000000   \n",
       "mean        1.564139         1.314208       8.333688       1.043067   \n",
       "std         0.495870         0.984035     774.866832       0.969507   \n",
       "min         1.000000         0.000000       0.000000       1.000000   \n",
       "25%         1.000000         1.000000       1.050000       1.000000   \n",
       "50%         2.000000         1.000000       1.990000       1.000000   \n",
       "75%         2.000000         1.000000       4.250000       1.000000   \n",
       "max         2.000000         9.000000  297004.510000      99.000000   \n",
       "\n",
       "        PULocationID   DOLocationID   payment_type    fare_amount  \\\n",
       "count  348371.000000  348371.000000  289480.000000  348371.000000   \n",
       "mean      152.593505     148.479233       1.423231      14.942190   \n",
       "std        70.862650      74.815690       0.554263     727.787407   \n",
       "min         1.000000       1.000000       1.000000    -240.000000   \n",
       "25%        90.000000      75.000000       1.000000       6.000000   \n",
       "50%       143.000000     143.000000       1.000000       9.000000   \n",
       "75%       231.000000     230.000000       2.000000      16.000000   \n",
       "max       265.000000     265.000000       4.000000  429496.720000   \n",
       "\n",
       "               extra        mta_tax     tip_amount   tolls_amount  \\\n",
       "count  348371.000000  348371.000000  348371.000000  348371.000000   \n",
       "mean        0.956279       0.490154       1.427909       0.435684   \n",
       "std         1.248752       0.083839       2.509379       1.910827   \n",
       "min        -4.500000      -0.500000     -11.060000     -13.750000   \n",
       "25%         0.000000       0.500000       0.000000       0.000000   \n",
       "50%         0.000000       0.500000       0.010000       0.000000   \n",
       "75%         2.500000       0.500000       2.450000       0.000000   \n",
       "max        65.530000       3.300000     442.180000     200.000000   \n",
       "\n",
       "       improvement_surcharge   total_amount  congestion_surcharge  \n",
       "count          348371.000000  348371.000000         348371.000000  \n",
       "mean                0.297107      19.674624              1.840390  \n",
       "std                 0.040546     727.919276              1.118676  \n",
       "min                -0.300000    -244.300000             -2.500000  \n",
       "25%                 0.300000      10.300000              0.000000  \n",
       "50%                 0.300000      13.800000              2.500000  \n",
       "75%                 0.300000      21.300000              2.500000  \n",
       "max                 0.300000  429562.250000              2.500000  "
      ]
     },
     "execution_count": 26,
     "metadata": {},
     "output_type": "execute_result"
    }
   ],
   "source": [
    "taxi.describe()"
   ]
  },
  {
   "cell_type": "markdown",
   "id": "e0df16d6",
   "metadata": {},
   "source": [
    "On a ainsi un premier aperçu de nos données sans aucun traitement au préalable, on constate qu'il y a un certain nombre de soucis dans nos données, que l'on traitera par la suite."
   ]
  },
  {
   "cell_type": "markdown",
   "id": "88a31bac",
   "metadata": {},
   "source": [
    "On peut réaliser un diagramme circulaire pour observer la répartition de nos types de données."
   ]
  },
  {
   "cell_type": "code",
   "execution_count": 27,
   "id": "40c18251",
   "metadata": {},
   "outputs": [
    {
     "data": {
      "text/plain": [
       "<AxesSubplot:ylabel='None'>"
      ]
     },
     "execution_count": 27,
     "metadata": {},
     "output_type": "execute_result"
    },
    {
     "data": {
      "image/png": "[encoded data removed]",
      "text/plain": [
       "<Figure size 432x288 with 1 Axes>"
      ]
     },
     "metadata": {},
     "output_type": "display_data"
    }
   ],
   "source": [
    "taxi.dtypes.value_counts().plot.pie()"
   ]
  },
  {
   "cell_type": "markdown",
   "id": "a7f1bc87",
   "metadata": {},
   "source": [
    "On regarde le pourcentage de valeurs manquantes par rapport à la totalité des enregistrements dans notre dataframe."
   ]
  },
  {
   "cell_type": "code",
   "execution_count": 28,
   "id": "016b5317",
   "metadata": {},
   "outputs": [
    {
     "data": {
      "text/plain": [
       "VendorID                 0.169047\n",
       "RatecodeID               0.169047\n",
       "store_and_fwd_flag       0.169047\n",
       "payment_type             0.169047\n",
       "passenger_count          0.169047\n",
       "trip_distance            0.000000\n",
       "tpep_dropoff_datetime    0.000000\n",
       "PULocationID             0.000000\n",
       "DOLocationID             0.000000\n",
       "tpep_pickup_datetime     0.000000\n",
       "fare_amount              0.000000\n",
       "extra                    0.000000\n",
       "mta_tax                  0.000000\n",
       "tip_amount               0.000000\n",
       "tolls_amount             0.000000\n",
       "improvement_surcharge    0.000000\n",
       "total_amount             0.000000\n",
       "congestion_surcharge     0.000000\n",
       "dtype: float64"
      ]
     },
     "execution_count": 28,
     "metadata": {},
     "output_type": "execute_result"
    }
   ],
   "source": [
    "# - on somme le nombre de valeurs manquantes\n",
    "# - on divise par le nombre total de lignes\n",
    "# - on trie par ordre décroissant\n",
    "(taxi.isnull().sum() / taxi.shape[0]).sort_values(ascending = False)"
   ]
  },
  {
   "cell_type": "markdown",
   "id": "58efbfa1",
   "metadata": {},
   "source": [
    "Représentation graphique des valeurs manquantes (lecture de l'échelle):\n",
    "- en blanc: les valeurs manquantes (= 1)\n",
    "- en noir: les valeurs non manquantes (= 0)"
   ]
  },
  {
   "cell_type": "code",
   "execution_count": 29,
   "id": "9ae06b0b",
   "metadata": {},
   "outputs": [
    {
     "data": {
      "text/plain": [
       "<AxesSubplot:>"
      ]
     },
     "execution_count": 29,
     "metadata": {},
     "output_type": "execute_result"
    },
    {
     "data": {
      "image/png": "[encoded data removed]",
      "text/plain": [
       "<Figure size 720x360 with 1 Axes>"
      ]
     },
     "metadata": {
      "needs_background": "light"
     },
     "output_type": "display_data"
    }
   ],
   "source": [
    "plt.figure(figsize = (10, 5))\n",
    "sns.heatmap(taxi.isna(), cbar = False)"
   ]
  },
  {
   "cell_type": "code",
   "execution_count": 30,
   "id": "7ba7c6d1",
   "metadata": {},
   "outputs": [
    {
     "data": {
      "text/html": [
       "<div>\n",
       "<style scoped>\n",
       "    .dataframe tbody tr th:only-of-type {\n",
       "        vertical-align: middle;\n",
       "    }\n",
       "\n",
       "    .dataframe tbody tr th {\n",
       "        vertical-align: top;\n",
       "    }\n",
       "\n",
       "    .dataframe thead th {\n",
       "        text-align: right;\n",
       "    }\n",
       "</style>\n",
       "<table border=\"1\" class=\"dataframe\">\n",
       "  <thead>\n",
       "    <tr style=\"text-align: right;\">\n",
       "      <th></th>\n",
       "      <th>VendorID</th>\n",
       "      <th>tpep_pickup_datetime</th>\n",
       "      <th>tpep_dropoff_datetime</th>\n",
       "      <th>passenger_count</th>\n",
       "      <th>trip_distance</th>\n",
       "      <th>RatecodeID</th>\n",
       "      <th>store_and_fwd_flag</th>\n",
       "      <th>PULocationID</th>\n",
       "      <th>DOLocationID</th>\n",
       "      <th>payment_type</th>\n",
       "      <th>fare_amount</th>\n",
       "      <th>extra</th>\n",
       "      <th>mta_tax</th>\n",
       "      <th>tip_amount</th>\n",
       "      <th>tolls_amount</th>\n",
       "      <th>improvement_surcharge</th>\n",
       "      <th>total_amount</th>\n",
       "      <th>congestion_surcharge</th>\n",
       "    </tr>\n",
       "  </thead>\n",
       "  <tbody>\n",
       "    <tr>\n",
       "      <th>289480</th>\n",
       "      <td>NaN</td>\n",
       "      <td>2020-05-01 07:15:00</td>\n",
       "      <td>2020-05-01 07:27:00</td>\n",
       "      <td>NaN</td>\n",
       "      <td>2.16</td>\n",
       "      <td>NaN</td>\n",
       "      <td>NaN</td>\n",
       "      <td>48</td>\n",
       "      <td>137</td>\n",
       "      <td>NaN</td>\n",
       "      <td>9.94</td>\n",
       "      <td>0.0</td>\n",
       "      <td>0.5</td>\n",
       "      <td>0.0</td>\n",
       "      <td>0.00</td>\n",
       "      <td>0.3</td>\n",
       "      <td>13.24</td>\n",
       "      <td>2.5</td>\n",
       "    </tr>\n",
       "    <tr>\n",
       "      <th>289481</th>\n",
       "      <td>NaN</td>\n",
       "      <td>2020-05-01 07:13:00</td>\n",
       "      <td>2020-05-01 07:45:00</td>\n",
       "      <td>NaN</td>\n",
       "      <td>15.29</td>\n",
       "      <td>NaN</td>\n",
       "      <td>NaN</td>\n",
       "      <td>188</td>\n",
       "      <td>42</td>\n",
       "      <td>NaN</td>\n",
       "      <td>49.02</td>\n",
       "      <td>0.0</td>\n",
       "      <td>0.5</td>\n",
       "      <td>0.0</td>\n",
       "      <td>0.00</td>\n",
       "      <td>0.3</td>\n",
       "      <td>52.32</td>\n",
       "      <td>2.5</td>\n",
       "    </tr>\n",
       "    <tr>\n",
       "      <th>289482</th>\n",
       "      <td>NaN</td>\n",
       "      <td>2020-05-01 07:43:04</td>\n",
       "      <td>2020-05-01 08:15:28</td>\n",
       "      <td>NaN</td>\n",
       "      <td>12.63</td>\n",
       "      <td>NaN</td>\n",
       "      <td>NaN</td>\n",
       "      <td>196</td>\n",
       "      <td>159</td>\n",
       "      <td>NaN</td>\n",
       "      <td>28.38</td>\n",
       "      <td>0.0</td>\n",
       "      <td>0.5</td>\n",
       "      <td>0.0</td>\n",
       "      <td>6.12</td>\n",
       "      <td>0.3</td>\n",
       "      <td>35.30</td>\n",
       "      <td>0.0</td>\n",
       "    </tr>\n",
       "    <tr>\n",
       "      <th>289483</th>\n",
       "      <td>NaN</td>\n",
       "      <td>2020-05-01 07:11:47</td>\n",
       "      <td>2020-05-01 07:29:48</td>\n",
       "      <td>NaN</td>\n",
       "      <td>7.68</td>\n",
       "      <td>NaN</td>\n",
       "      <td>NaN</td>\n",
       "      <td>137</td>\n",
       "      <td>56</td>\n",
       "      <td>NaN</td>\n",
       "      <td>23.14</td>\n",
       "      <td>0.0</td>\n",
       "      <td>0.5</td>\n",
       "      <td>0.0</td>\n",
       "      <td>6.12</td>\n",
       "      <td>0.3</td>\n",
       "      <td>32.56</td>\n",
       "      <td>2.5</td>\n",
       "    </tr>\n",
       "    <tr>\n",
       "      <th>289484</th>\n",
       "      <td>NaN</td>\n",
       "      <td>2020-05-01 07:20:00</td>\n",
       "      <td>2020-05-01 07:31:00</td>\n",
       "      <td>NaN</td>\n",
       "      <td>3.86</td>\n",
       "      <td>NaN</td>\n",
       "      <td>NaN</td>\n",
       "      <td>169</td>\n",
       "      <td>42</td>\n",
       "      <td>NaN</td>\n",
       "      <td>13.13</td>\n",
       "      <td>0.0</td>\n",
       "      <td>0.5</td>\n",
       "      <td>0.0</td>\n",
       "      <td>0.00</td>\n",
       "      <td>0.3</td>\n",
       "      <td>13.93</td>\n",
       "      <td>0.0</td>\n",
       "    </tr>\n",
       "  </tbody>\n",
       "</table>\n",
       "</div>"
      ],
      "text/plain": [
       "        VendorID tpep_pickup_datetime tpep_dropoff_datetime  passenger_count  \\\n",
       "289480       NaN  2020-05-01 07:15:00   2020-05-01 07:27:00              NaN   \n",
       "289481       NaN  2020-05-01 07:13:00   2020-05-01 07:45:00              NaN   \n",
       "289482       NaN  2020-05-01 07:43:04   2020-05-01 08:15:28              NaN   \n",
       "289483       NaN  2020-05-01 07:11:47   2020-05-01 07:29:48              NaN   \n",
       "289484       NaN  2020-05-01 07:20:00   2020-05-01 07:31:00              NaN   \n",
       "\n",
       "        trip_distance  RatecodeID store_and_fwd_flag  PULocationID  \\\n",
       "289480           2.16         NaN                NaN            48   \n",
       "289481          15.29         NaN                NaN           188   \n",
       "289482          12.63         NaN                NaN           196   \n",
       "289483           7.68         NaN                NaN           137   \n",
       "289484           3.86         NaN                NaN           169   \n",
       "\n",
       "        DOLocationID  payment_type  fare_amount  extra  mta_tax  tip_amount  \\\n",
       "289480           137           NaN         9.94    0.0      0.5         0.0   \n",
       "289481            42           NaN        49.02    0.0      0.5         0.0   \n",
       "289482           159           NaN        28.38    0.0      0.5         0.0   \n",
       "289483            56           NaN        23.14    0.0      0.5         0.0   \n",
       "289484            42           NaN        13.13    0.0      0.5         0.0   \n",
       "\n",
       "        tolls_amount  improvement_surcharge  total_amount  \\\n",
       "289480          0.00                    0.3         13.24   \n",
       "289481          0.00                    0.3         52.32   \n",
       "289482          6.12                    0.3         35.30   \n",
       "289483          6.12                    0.3         32.56   \n",
       "289484          0.00                    0.3         13.93   \n",
       "\n",
       "        congestion_surcharge  \n",
       "289480                   2.5  \n",
       "289481                   2.5  \n",
       "289482                   0.0  \n",
       "289483                   2.5  \n",
       "289484                   0.0  "
      ]
     },
     "execution_count": 30,
     "metadata": {},
     "output_type": "execute_result"
    }
   ],
   "source": [
    "taxi[taxi.isna()['VendorID']].head()"
   ]
  },
  {
   "cell_type": "markdown",
   "id": "6cdf31cc",
   "metadata": {},
   "source": [
    "On remarque qu'il nous manque des infos sur la clé unique du dataset, à savoi le 'vendor_id'. Ces lignes manquantes se répercutent sur les autres variables, c'est-à-dire que pour chaque ligne ayant des valeurs manquantes, il nous manque à la fois les infos sur:\n",
    "- [\"vendor_id\", \"passenger_count\", \"rate_code_id\", \"store_and_fwd_flag\", \"payement_type\"] <br/>\n",
    "\n",
    "On a seulement 16% d'enregistrements comportant des valeurs manquantes dans notre dataset, et ce sont exactement les mêmes enregistrements qui présentent des valeurs manquantes (comme énumérée plus haut). Pour toutes ces raisons, et en considérant avoir une base de travail avec beaucoup de données, on estime perdre peu en en ôtant ces enregistrements, donc on choisit de supprimer ces lignes de notre dataset afin de ne pas fausser les analyses."
   ]
  },
  {
   "cell_type": "markdown",
   "id": "f1daf820",
   "metadata": {},
   "source": [
    "### Nettoyage des données"
   ]
  },
  {
   "cell_type": "markdown",
   "id": "42fdc4c0",
   "metadata": {},
   "source": [
    "On supprime les valeurs manquantes de notre dataset."
   ]
  },
  {
   "cell_type": "code",
   "execution_count": 31,
   "id": "18528c92",
   "metadata": {},
   "outputs": [
    {
     "data": {
      "text/plain": [
       "(289480, 18)"
      ]
     },
     "execution_count": 31,
     "metadata": {},
     "output_type": "execute_result"
    }
   ],
   "source": [
    "taxi.dropna(inplace = True)\n",
    "taxi.shape"
   ]
  },
  {
   "cell_type": "markdown",
   "id": "1e026366",
   "metadata": {},
   "source": [
    "Résumé statistique après la suppression des valeurs manquantes."
   ]
  },
  {
   "cell_type": "code",
   "execution_count": 32,
   "id": "26cfe384",
   "metadata": {},
   "outputs": [
    {
     "data": {
      "text/html": [
       "<div>\n",
       "<style scoped>\n",
       "    .dataframe tbody tr th:only-of-type {\n",
       "        vertical-align: middle;\n",
       "    }\n",
       "\n",
       "    .dataframe tbody tr th {\n",
       "        vertical-align: top;\n",
       "    }\n",
       "\n",
       "    .dataframe thead th {\n",
       "        text-align: right;\n",
       "    }\n",
       "</style>\n",
       "<table border=\"1\" class=\"dataframe\">\n",
       "  <thead>\n",
       "    <tr style=\"text-align: right;\">\n",
       "      <th></th>\n",
       "      <th>VendorID</th>\n",
       "      <th>passenger_count</th>\n",
       "      <th>trip_distance</th>\n",
       "      <th>RatecodeID</th>\n",
       "      <th>PULocationID</th>\n",
       "      <th>DOLocationID</th>\n",
       "      <th>payment_type</th>\n",
       "      <th>fare_amount</th>\n",
       "      <th>extra</th>\n",
       "      <th>mta_tax</th>\n",
       "      <th>tip_amount</th>\n",
       "      <th>tolls_amount</th>\n",
       "      <th>improvement_surcharge</th>\n",
       "      <th>total_amount</th>\n",
       "      <th>congestion_surcharge</th>\n",
       "    </tr>\n",
       "  </thead>\n",
       "  <tbody>\n",
       "    <tr>\n",
       "      <th>count</th>\n",
       "      <td>289480.000000</td>\n",
       "      <td>289480.000000</td>\n",
       "      <td>289480.000000</td>\n",
       "      <td>289480.000000</td>\n",
       "      <td>289480.000000</td>\n",
       "      <td>289480.000000</td>\n",
       "      <td>289480.000000</td>\n",
       "      <td>289480.000000</td>\n",
       "      <td>289480.000000</td>\n",
       "      <td>289480.000000</td>\n",
       "      <td>289480.000000</td>\n",
       "      <td>289480.000000</td>\n",
       "      <td>289480.000000</td>\n",
       "      <td>289480.000000</td>\n",
       "      <td>289480.000000</td>\n",
       "    </tr>\n",
       "    <tr>\n",
       "      <th>mean</th>\n",
       "      <td>1.564139</td>\n",
       "      <td>1.314208</td>\n",
       "      <td>2.731006</td>\n",
       "      <td>1.043067</td>\n",
       "      <td>157.154066</td>\n",
       "      <td>151.584503</td>\n",
       "      <td>1.423231</td>\n",
       "      <td>12.650259</td>\n",
       "      <td>1.148115</td>\n",
       "      <td>0.491736</td>\n",
       "      <td>1.559227</td>\n",
       "      <td>0.160921</td>\n",
       "      <td>0.296522</td>\n",
       "      <td>17.478461</td>\n",
       "      <td>2.037726</td>\n",
       "    </tr>\n",
       "    <tr>\n",
       "      <th>std</th>\n",
       "      <td>0.495870</td>\n",
       "      <td>0.984035</td>\n",
       "      <td>20.695962</td>\n",
       "      <td>0.969507</td>\n",
       "      <td>70.259291</td>\n",
       "      <td>74.551948</td>\n",
       "      <td>0.554263</td>\n",
       "      <td>798.341340</td>\n",
       "      <td>1.287057</td>\n",
       "      <td>0.081862</td>\n",
       "      <td>2.664146</td>\n",
       "      <td>1.249215</td>\n",
       "      <td>0.044436</td>\n",
       "      <td>798.479815</td>\n",
       "      <td>0.993512</td>\n",
       "    </tr>\n",
       "    <tr>\n",
       "      <th>min</th>\n",
       "      <td>1.000000</td>\n",
       "      <td>0.000000</td>\n",
       "      <td>0.000000</td>\n",
       "      <td>1.000000</td>\n",
       "      <td>1.000000</td>\n",
       "      <td>1.000000</td>\n",
       "      <td>1.000000</td>\n",
       "      <td>-240.000000</td>\n",
       "      <td>-4.500000</td>\n",
       "      <td>-0.500000</td>\n",
       "      <td>-11.060000</td>\n",
       "      <td>-13.750000</td>\n",
       "      <td>-0.300000</td>\n",
       "      <td>-244.300000</td>\n",
       "      <td>-2.500000</td>\n",
       "    </tr>\n",
       "    <tr>\n",
       "      <th>25%</th>\n",
       "      <td>1.000000</td>\n",
       "      <td>1.000000</td>\n",
       "      <td>0.940000</td>\n",
       "      <td>1.000000</td>\n",
       "      <td>100.000000</td>\n",
       "      <td>79.000000</td>\n",
       "      <td>1.000000</td>\n",
       "      <td>5.500000</td>\n",
       "      <td>0.000000</td>\n",
       "      <td>0.500000</td>\n",
       "      <td>0.000000</td>\n",
       "      <td>0.000000</td>\n",
       "      <td>0.300000</td>\n",
       "      <td>9.800000</td>\n",
       "      <td>2.500000</td>\n",
       "    </tr>\n",
       "    <tr>\n",
       "      <th>50%</th>\n",
       "      <td>2.000000</td>\n",
       "      <td>1.000000</td>\n",
       "      <td>1.700000</td>\n",
       "      <td>1.000000</td>\n",
       "      <td>151.000000</td>\n",
       "      <td>147.000000</td>\n",
       "      <td>1.000000</td>\n",
       "      <td>8.000000</td>\n",
       "      <td>0.500000</td>\n",
       "      <td>0.500000</td>\n",
       "      <td>1.000000</td>\n",
       "      <td>0.000000</td>\n",
       "      <td>0.300000</td>\n",
       "      <td>12.800000</td>\n",
       "      <td>2.500000</td>\n",
       "    </tr>\n",
       "    <tr>\n",
       "      <th>75%</th>\n",
       "      <td>2.000000</td>\n",
       "      <td>1.000000</td>\n",
       "      <td>3.100000</td>\n",
       "      <td>1.000000</td>\n",
       "      <td>234.000000</td>\n",
       "      <td>233.000000</td>\n",
       "      <td>2.000000</td>\n",
       "      <td>12.500000</td>\n",
       "      <td>2.500000</td>\n",
       "      <td>0.500000</td>\n",
       "      <td>2.450000</td>\n",
       "      <td>0.000000</td>\n",
       "      <td>0.300000</td>\n",
       "      <td>17.880000</td>\n",
       "      <td>2.500000</td>\n",
       "    </tr>\n",
       "    <tr>\n",
       "      <th>max</th>\n",
       "      <td>2.000000</td>\n",
       "      <td>9.000000</td>\n",
       "      <td>10973.550000</td>\n",
       "      <td>99.000000</td>\n",
       "      <td>265.000000</td>\n",
       "      <td>265.000000</td>\n",
       "      <td>4.000000</td>\n",
       "      <td>429496.720000</td>\n",
       "      <td>65.530000</td>\n",
       "      <td>3.300000</td>\n",
       "      <td>442.180000</td>\n",
       "      <td>200.000000</td>\n",
       "      <td>0.300000</td>\n",
       "      <td>429562.250000</td>\n",
       "      <td>2.500000</td>\n",
       "    </tr>\n",
       "  </tbody>\n",
       "</table>\n",
       "</div>"
      ],
      "text/plain": [
       "            VendorID  passenger_count  trip_distance     RatecodeID  \\\n",
       "count  289480.000000    289480.000000  289480.000000  289480.000000   \n",
       "mean        1.564139         1.314208       2.731006       1.043067   \n",
       "std         0.495870         0.984035      20.695962       0.969507   \n",
       "min         1.000000         0.000000       0.000000       1.000000   \n",
       "25%         1.000000         1.000000       0.940000       1.000000   \n",
       "50%         2.000000         1.000000       1.700000       1.000000   \n",
       "75%         2.000000         1.000000       3.100000       1.000000   \n",
       "max         2.000000         9.000000   10973.550000      99.000000   \n",
       "\n",
       "        PULocationID   DOLocationID   payment_type    fare_amount  \\\n",
       "count  289480.000000  289480.000000  289480.000000  289480.000000   \n",
       "mean      157.154066     151.584503       1.423231      12.650259   \n",
       "std        70.259291      74.551948       0.554263     798.341340   \n",
       "min         1.000000       1.000000       1.000000    -240.000000   \n",
       "25%       100.000000      79.000000       1.000000       5.500000   \n",
       "50%       151.000000     147.000000       1.000000       8.000000   \n",
       "75%       234.000000     233.000000       2.000000      12.500000   \n",
       "max       265.000000     265.000000       4.000000  429496.720000   \n",
       "\n",
       "               extra        mta_tax     tip_amount   tolls_amount  \\\n",
       "count  289480.000000  289480.000000  289480.000000  289480.000000   \n",
       "mean        1.148115       0.491736       1.559227       0.160921   \n",
       "std         1.287057       0.081862       2.664146       1.249215   \n",
       "min        -4.500000      -0.500000     -11.060000     -13.750000   \n",
       "25%         0.000000       0.500000       0.000000       0.000000   \n",
       "50%         0.500000       0.500000       1.000000       0.000000   \n",
       "75%         2.500000       0.500000       2.450000       0.000000   \n",
       "max        65.530000       3.300000     442.180000     200.000000   \n",
       "\n",
       "       improvement_surcharge   total_amount  congestion_surcharge  \n",
       "count          289480.000000  289480.000000         289480.000000  \n",
       "mean                0.296522      17.478461              2.037726  \n",
       "std                 0.044436     798.479815              0.993512  \n",
       "min                -0.300000    -244.300000             -2.500000  \n",
       "25%                 0.300000       9.800000              2.500000  \n",
       "50%                 0.300000      12.800000              2.500000  \n",
       "75%                 0.300000      17.880000              2.500000  \n",
       "max                 0.300000  429562.250000              2.500000  "
      ]
     },
     "execution_count": 32,
     "metadata": {},
     "output_type": "execute_result"
    }
   ],
   "source": [
    "taxi.describe()"
   ]
  },
  {
   "cell_type": "markdown",
   "id": "123a2963",
   "metadata": {},
   "source": [
    "Il nous a été demandé de prédire notre target indépendamment de certains features présentes dans le dataset au départ, on supprime donc les colonnes que nous n'utiliserons pas pour déterminer notre y (ici la variable \"total_amount\")."
   ]
  },
  {
   "cell_type": "code",
   "execution_count": 33,
   "id": "7ee17c5c",
   "metadata": {},
   "outputs": [
    {
     "data": {
      "text/html": [
       "<div>\n",
       "<style scoped>\n",
       "    .dataframe tbody tr th:only-of-type {\n",
       "        vertical-align: middle;\n",
       "    }\n",
       "\n",
       "    .dataframe tbody tr th {\n",
       "        vertical-align: top;\n",
       "    }\n",
       "\n",
       "    .dataframe thead th {\n",
       "        text-align: right;\n",
       "    }\n",
       "</style>\n",
       "<table border=\"1\" class=\"dataframe\">\n",
       "  <thead>\n",
       "    <tr style=\"text-align: right;\">\n",
       "      <th></th>\n",
       "      <th>VendorID</th>\n",
       "      <th>tpep_pickup_datetime</th>\n",
       "      <th>tpep_dropoff_datetime</th>\n",
       "      <th>passenger_count</th>\n",
       "      <th>trip_distance</th>\n",
       "      <th>RatecodeID</th>\n",
       "      <th>store_and_fwd_flag</th>\n",
       "      <th>PULocationID</th>\n",
       "      <th>DOLocationID</th>\n",
       "      <th>payment_type</th>\n",
       "      <th>total_amount</th>\n",
       "    </tr>\n",
       "  </thead>\n",
       "  <tbody>\n",
       "    <tr>\n",
       "      <th>0</th>\n",
       "      <td>1.0</td>\n",
       "      <td>2020-05-01 00:02:28</td>\n",
       "      <td>2020-05-01 00:18:07</td>\n",
       "      <td>1.0</td>\n",
       "      <td>0.0</td>\n",
       "      <td>1.0</td>\n",
       "      <td>N</td>\n",
       "      <td>234</td>\n",
       "      <td>256</td>\n",
       "      <td>1.0</td>\n",
       "      <td>18.4</td>\n",
       "    </tr>\n",
       "    <tr>\n",
       "      <th>1</th>\n",
       "      <td>1.0</td>\n",
       "      <td>2020-05-01 00:23:21</td>\n",
       "      <td>2020-05-01 00:26:01</td>\n",
       "      <td>2.0</td>\n",
       "      <td>0.4</td>\n",
       "      <td>1.0</td>\n",
       "      <td>N</td>\n",
       "      <td>264</td>\n",
       "      <td>264</td>\n",
       "      <td>1.0</td>\n",
       "      <td>5.8</td>\n",
       "    </tr>\n",
       "    <tr>\n",
       "      <th>2</th>\n",
       "      <td>1.0</td>\n",
       "      <td>2020-05-01 00:54:58</td>\n",
       "      <td>2020-05-01 00:57:11</td>\n",
       "      <td>1.0</td>\n",
       "      <td>0.3</td>\n",
       "      <td>1.0</td>\n",
       "      <td>N</td>\n",
       "      <td>264</td>\n",
       "      <td>264</td>\n",
       "      <td>2.0</td>\n",
       "      <td>4.8</td>\n",
       "    </tr>\n",
       "    <tr>\n",
       "      <th>3</th>\n",
       "      <td>1.0</td>\n",
       "      <td>2020-05-01 00:07:10</td>\n",
       "      <td>2020-05-01 00:12:46</td>\n",
       "      <td>1.0</td>\n",
       "      <td>1.7</td>\n",
       "      <td>1.0</td>\n",
       "      <td>N</td>\n",
       "      <td>107</td>\n",
       "      <td>229</td>\n",
       "      <td>2.0</td>\n",
       "      <td>10.8</td>\n",
       "    </tr>\n",
       "    <tr>\n",
       "      <th>4</th>\n",
       "      <td>1.0</td>\n",
       "      <td>2020-05-01 00:55:47</td>\n",
       "      <td>2020-05-01 01:01:54</td>\n",
       "      <td>0.0</td>\n",
       "      <td>0.9</td>\n",
       "      <td>1.0</td>\n",
       "      <td>N</td>\n",
       "      <td>237</td>\n",
       "      <td>262</td>\n",
       "      <td>1.0</td>\n",
       "      <td>11.0</td>\n",
       "    </tr>\n",
       "  </tbody>\n",
       "</table>\n",
       "</div>"
      ],
      "text/plain": [
       "   VendorID tpep_pickup_datetime tpep_dropoff_datetime  passenger_count  \\\n",
       "0       1.0  2020-05-01 00:02:28   2020-05-01 00:18:07              1.0   \n",
       "1       1.0  2020-05-01 00:23:21   2020-05-01 00:26:01              2.0   \n",
       "2       1.0  2020-05-01 00:54:58   2020-05-01 00:57:11              1.0   \n",
       "3       1.0  2020-05-01 00:07:10   2020-05-01 00:12:46              1.0   \n",
       "4       1.0  2020-05-01 00:55:47   2020-05-01 01:01:54              0.0   \n",
       "\n",
       "   trip_distance  RatecodeID store_and_fwd_flag  PULocationID  DOLocationID  \\\n",
       "0            0.0         1.0                  N           234           256   \n",
       "1            0.4         1.0                  N           264           264   \n",
       "2            0.3         1.0                  N           264           264   \n",
       "3            1.7         1.0                  N           107           229   \n",
       "4            0.9         1.0                  N           237           262   \n",
       "\n",
       "   payment_type  total_amount  \n",
       "0           1.0          18.4  \n",
       "1           1.0           5.8  \n",
       "2           2.0           4.8  \n",
       "3           2.0          10.8  \n",
       "4           1.0          11.0  "
      ]
     },
     "execution_count": 33,
     "metadata": {},
     "output_type": "execute_result"
    }
   ],
   "source": [
    "taxi.drop(['fare_amount', 'extra', 'mta_tax', 'tip_amount', 'tolls_amount', 'improvement_surcharge', 'congestion_surcharge'],\n",
    "         axis = 1,\n",
    "         inplace = True)\n",
    "\n",
    "taxi.head()"
   ]
  },
  {
   "cell_type": "code",
   "execution_count": 34,
   "id": "8bb6c70a",
   "metadata": {},
   "outputs": [
    {
     "data": {
      "text/html": [
       "<div>\n",
       "<style scoped>\n",
       "    .dataframe tbody tr th:only-of-type {\n",
       "        vertical-align: middle;\n",
       "    }\n",
       "\n",
       "    .dataframe tbody tr th {\n",
       "        vertical-align: top;\n",
       "    }\n",
       "\n",
       "    .dataframe thead th {\n",
       "        text-align: right;\n",
       "    }\n",
       "</style>\n",
       "<table border=\"1\" class=\"dataframe\">\n",
       "  <thead>\n",
       "    <tr style=\"text-align: right;\">\n",
       "      <th></th>\n",
       "      <th>VendorID</th>\n",
       "      <th>passenger_count</th>\n",
       "      <th>trip_distance</th>\n",
       "      <th>RatecodeID</th>\n",
       "      <th>PULocationID</th>\n",
       "      <th>DOLocationID</th>\n",
       "      <th>payment_type</th>\n",
       "      <th>total_amount</th>\n",
       "    </tr>\n",
       "  </thead>\n",
       "  <tbody>\n",
       "    <tr>\n",
       "      <th>count</th>\n",
       "      <td>289480.000000</td>\n",
       "      <td>289480.000000</td>\n",
       "      <td>289480.000000</td>\n",
       "      <td>289480.000000</td>\n",
       "      <td>289480.000000</td>\n",
       "      <td>289480.000000</td>\n",
       "      <td>289480.000000</td>\n",
       "      <td>289480.000000</td>\n",
       "    </tr>\n",
       "    <tr>\n",
       "      <th>mean</th>\n",
       "      <td>1.564139</td>\n",
       "      <td>1.314208</td>\n",
       "      <td>2.731006</td>\n",
       "      <td>1.043067</td>\n",
       "      <td>157.154066</td>\n",
       "      <td>151.584503</td>\n",
       "      <td>1.423231</td>\n",
       "      <td>17.478461</td>\n",
       "    </tr>\n",
       "    <tr>\n",
       "      <th>std</th>\n",
       "      <td>0.495870</td>\n",
       "      <td>0.984035</td>\n",
       "      <td>20.695962</td>\n",
       "      <td>0.969507</td>\n",
       "      <td>70.259291</td>\n",
       "      <td>74.551948</td>\n",
       "      <td>0.554263</td>\n",
       "      <td>798.479815</td>\n",
       "    </tr>\n",
       "    <tr>\n",
       "      <th>min</th>\n",
       "      <td>1.000000</td>\n",
       "      <td>0.000000</td>\n",
       "      <td>0.000000</td>\n",
       "      <td>1.000000</td>\n",
       "      <td>1.000000</td>\n",
       "      <td>1.000000</td>\n",
       "      <td>1.000000</td>\n",
       "      <td>-244.300000</td>\n",
       "    </tr>\n",
       "    <tr>\n",
       "      <th>25%</th>\n",
       "      <td>1.000000</td>\n",
       "      <td>1.000000</td>\n",
       "      <td>0.940000</td>\n",
       "      <td>1.000000</td>\n",
       "      <td>100.000000</td>\n",
       "      <td>79.000000</td>\n",
       "      <td>1.000000</td>\n",
       "      <td>9.800000</td>\n",
       "    </tr>\n",
       "    <tr>\n",
       "      <th>50%</th>\n",
       "      <td>2.000000</td>\n",
       "      <td>1.000000</td>\n",
       "      <td>1.700000</td>\n",
       "      <td>1.000000</td>\n",
       "      <td>151.000000</td>\n",
       "      <td>147.000000</td>\n",
       "      <td>1.000000</td>\n",
       "      <td>12.800000</td>\n",
       "    </tr>\n",
       "    <tr>\n",
       "      <th>75%</th>\n",
       "      <td>2.000000</td>\n",
       "      <td>1.000000</td>\n",
       "      <td>3.100000</td>\n",
       "      <td>1.000000</td>\n",
       "      <td>234.000000</td>\n",
       "      <td>233.000000</td>\n",
       "      <td>2.000000</td>\n",
       "      <td>17.880000</td>\n",
       "    </tr>\n",
       "    <tr>\n",
       "      <th>max</th>\n",
       "      <td>2.000000</td>\n",
       "      <td>9.000000</td>\n",
       "      <td>10973.550000</td>\n",
       "      <td>99.000000</td>\n",
       "      <td>265.000000</td>\n",
       "      <td>265.000000</td>\n",
       "      <td>4.000000</td>\n",
       "      <td>429562.250000</td>\n",
       "    </tr>\n",
       "  </tbody>\n",
       "</table>\n",
       "</div>"
      ],
      "text/plain": [
       "            VendorID  passenger_count  trip_distance     RatecodeID  \\\n",
       "count  289480.000000    289480.000000  289480.000000  289480.000000   \n",
       "mean        1.564139         1.314208       2.731006       1.043067   \n",
       "std         0.495870         0.984035      20.695962       0.969507   \n",
       "min         1.000000         0.000000       0.000000       1.000000   \n",
       "25%         1.000000         1.000000       0.940000       1.000000   \n",
       "50%         2.000000         1.000000       1.700000       1.000000   \n",
       "75%         2.000000         1.000000       3.100000       1.000000   \n",
       "max         2.000000         9.000000   10973.550000      99.000000   \n",
       "\n",
       "        PULocationID   DOLocationID   payment_type   total_amount  \n",
       "count  289480.000000  289480.000000  289480.000000  289480.000000  \n",
       "mean      157.154066     151.584503       1.423231      17.478461  \n",
       "std        70.259291      74.551948       0.554263     798.479815  \n",
       "min         1.000000       1.000000       1.000000    -244.300000  \n",
       "25%       100.000000      79.000000       1.000000       9.800000  \n",
       "50%       151.000000     147.000000       1.000000      12.800000  \n",
       "75%       234.000000     233.000000       2.000000      17.880000  \n",
       "max       265.000000     265.000000       4.000000  429562.250000  "
      ]
     },
     "execution_count": 34,
     "metadata": {},
     "output_type": "execute_result"
    }
   ],
   "source": [
    "taxi.describe()"
   ]
  },
  {
   "cell_type": "markdown",
   "id": "25709665",
   "metadata": {},
   "source": [
    "On peut maintenant faire quelques constats: \n",
    "\n",
    "- trip_distance: max à 10973, ce qui n'a pas de sens car il semble étonnant qu'un taxi est parcourut 10 000 miles pour une course. Egalement, on a un écart-type élevé\n",
    "- ratecodeid: max à 99, d'après notre dictionnaire de données, cette variable est une variable ordinale censée être comprise entre un et six\n",
    "- total_amount: montant en négatif, no comment"
   ]
  },
  {
   "cell_type": "markdown",
   "id": "c413c387",
   "metadata": {},
   "source": [
    "On vérifie le nombre de valeurs uniques pour le rate_code_id."
   ]
  },
  {
   "cell_type": "code",
   "execution_count": 35,
   "id": "ae85edf3",
   "metadata": {},
   "outputs": [
    {
     "data": {
      "text/plain": [
       "array([ 1.,  2.,  5., 99.,  3.,  4.,  6.])"
      ]
     },
     "execution_count": 35,
     "metadata": {},
     "output_type": "execute_result"
    }
   ],
   "source": [
    "taxi['RatecodeID'].unique()"
   ]
  },
  {
   "cell_type": "markdown",
   "id": "45a57daf",
   "metadata": {},
   "source": [
    "On compte le nombre d'enregistrements avec un total_amount négatif."
   ]
  },
  {
   "cell_type": "code",
   "execution_count": 36,
   "id": "baf76044",
   "metadata": {},
   "outputs": [
    {
     "data": {
      "text/plain": [
       "False    287963\n",
       "True       1517\n",
       "Name: total_amount, dtype: int64"
      ]
     },
     "execution_count": 36,
     "metadata": {},
     "output_type": "execute_result"
    }
   ],
   "source": [
    "temp = taxi['total_amount'] < 0\n",
    "temp.value_counts()"
   ]
  },
  {
   "cell_type": "markdown",
   "id": "34042e2f",
   "metadata": {},
   "source": [
    "On se fixe une distance maximum de 350km, ce qui nous semble raisonnable pour une course de taxi, en particulier pour une ville densémment peuplée telle que New York City. Ici on voit bien que l'on a seulement un seul enregistrement aberrant qui fausse l'écart type.<br/>\n",
    "Note: à priori, la plus grande distance entre le Nord et le Sud serait d'environ 35 miles."
   ]
  },
  {
   "cell_type": "code",
   "execution_count": 37,
   "id": "78d87290",
   "metadata": {
    "scrolled": true
   },
   "outputs": [
    {
     "data": {
      "text/html": [
       "<div>\n",
       "<style scoped>\n",
       "    .dataframe tbody tr th:only-of-type {\n",
       "        vertical-align: middle;\n",
       "    }\n",
       "\n",
       "    .dataframe tbody tr th {\n",
       "        vertical-align: top;\n",
       "    }\n",
       "\n",
       "    .dataframe thead th {\n",
       "        text-align: right;\n",
       "    }\n",
       "</style>\n",
       "<table border=\"1\" class=\"dataframe\">\n",
       "  <thead>\n",
       "    <tr style=\"text-align: right;\">\n",
       "      <th></th>\n",
       "      <th>VendorID</th>\n",
       "      <th>tpep_pickup_datetime</th>\n",
       "      <th>tpep_dropoff_datetime</th>\n",
       "      <th>passenger_count</th>\n",
       "      <th>trip_distance</th>\n",
       "      <th>RatecodeID</th>\n",
       "      <th>store_and_fwd_flag</th>\n",
       "      <th>PULocationID</th>\n",
       "      <th>DOLocationID</th>\n",
       "      <th>payment_type</th>\n",
       "      <th>total_amount</th>\n",
       "    </tr>\n",
       "  </thead>\n",
       "  <tbody>\n",
       "    <tr>\n",
       "      <th>29008</th>\n",
       "      <td>2.0</td>\n",
       "      <td>2020-05-04 17:26:27</td>\n",
       "      <td>2020-05-04 18:40:37</td>\n",
       "      <td>1.0</td>\n",
       "      <td>10973.55</td>\n",
       "      <td>5.0</td>\n",
       "      <td>N</td>\n",
       "      <td>147</td>\n",
       "      <td>137</td>\n",
       "      <td>2.0</td>\n",
       "      <td>19.29</td>\n",
       "    </tr>\n",
       "  </tbody>\n",
       "</table>\n",
       "</div>"
      ],
      "text/plain": [
       "       VendorID tpep_pickup_datetime tpep_dropoff_datetime  passenger_count  \\\n",
       "29008       2.0  2020-05-04 17:26:27   2020-05-04 18:40:37              1.0   \n",
       "\n",
       "       trip_distance  RatecodeID store_and_fwd_flag  PULocationID  \\\n",
       "29008       10973.55         5.0                  N           147   \n",
       "\n",
       "       DOLocationID  payment_type  total_amount  \n",
       "29008           137           2.0         19.29  "
      ]
     },
     "execution_count": 37,
     "metadata": {},
     "output_type": "execute_result"
    }
   ],
   "source": [
    "taxi[taxi['trip_distance'] > 350]"
   ]
  },
  {
   "cell_type": "markdown",
   "id": "22e46415",
   "metadata": {},
   "source": [
    "C'est d'autant plus frappant que le client n'est payé qu'une petite somme pour un trajet si long."
   ]
  },
  {
   "cell_type": "markdown",
   "id": "fa811fad",
   "metadata": {},
   "source": [
    "On peut également vérifier si on a des trajets avec une distance égale à zéro."
   ]
  },
  {
   "cell_type": "code",
   "execution_count": 38,
   "id": "5108c0d8",
   "metadata": {},
   "outputs": [
    {
     "data": {
      "text/html": [
       "<div>\n",
       "<style scoped>\n",
       "    .dataframe tbody tr th:only-of-type {\n",
       "        vertical-align: middle;\n",
       "    }\n",
       "\n",
       "    .dataframe tbody tr th {\n",
       "        vertical-align: top;\n",
       "    }\n",
       "\n",
       "    .dataframe thead th {\n",
       "        text-align: right;\n",
       "    }\n",
       "</style>\n",
       "<table border=\"1\" class=\"dataframe\">\n",
       "  <thead>\n",
       "    <tr style=\"text-align: right;\">\n",
       "      <th></th>\n",
       "      <th>VendorID</th>\n",
       "      <th>tpep_pickup_datetime</th>\n",
       "      <th>tpep_dropoff_datetime</th>\n",
       "      <th>passenger_count</th>\n",
       "      <th>trip_distance</th>\n",
       "      <th>RatecodeID</th>\n",
       "      <th>store_and_fwd_flag</th>\n",
       "      <th>PULocationID</th>\n",
       "      <th>DOLocationID</th>\n",
       "      <th>payment_type</th>\n",
       "      <th>total_amount</th>\n",
       "    </tr>\n",
       "  </thead>\n",
       "  <tbody>\n",
       "    <tr>\n",
       "      <th>0</th>\n",
       "      <td>1.0</td>\n",
       "      <td>2020-05-01 00:02:28</td>\n",
       "      <td>2020-05-01 00:18:07</td>\n",
       "      <td>1.0</td>\n",
       "      <td>0.0</td>\n",
       "      <td>1.0</td>\n",
       "      <td>N</td>\n",
       "      <td>234</td>\n",
       "      <td>256</td>\n",
       "      <td>1.0</td>\n",
       "      <td>18.4</td>\n",
       "    </tr>\n",
       "    <tr>\n",
       "      <th>45</th>\n",
       "      <td>1.0</td>\n",
       "      <td>2020-05-01 00:32:39</td>\n",
       "      <td>2020-05-01 00:48:16</td>\n",
       "      <td>1.0</td>\n",
       "      <td>0.0</td>\n",
       "      <td>1.0</td>\n",
       "      <td>N</td>\n",
       "      <td>137</td>\n",
       "      <td>69</td>\n",
       "      <td>1.0</td>\n",
       "      <td>28.0</td>\n",
       "    </tr>\n",
       "    <tr>\n",
       "      <th>72</th>\n",
       "      <td>1.0</td>\n",
       "      <td>2020-05-01 00:23:55</td>\n",
       "      <td>2020-05-01 00:24:17</td>\n",
       "      <td>1.0</td>\n",
       "      <td>0.0</td>\n",
       "      <td>2.0</td>\n",
       "      <td>N</td>\n",
       "      <td>79</td>\n",
       "      <td>79</td>\n",
       "      <td>4.0</td>\n",
       "      <td>55.3</td>\n",
       "    </tr>\n",
       "    <tr>\n",
       "      <th>73</th>\n",
       "      <td>1.0</td>\n",
       "      <td>2020-05-01 00:24:44</td>\n",
       "      <td>2020-05-01 00:35:15</td>\n",
       "      <td>1.0</td>\n",
       "      <td>0.0</td>\n",
       "      <td>1.0</td>\n",
       "      <td>N</td>\n",
       "      <td>107</td>\n",
       "      <td>140</td>\n",
       "      <td>4.0</td>\n",
       "      <td>10.8</td>\n",
       "    </tr>\n",
       "    <tr>\n",
       "      <th>131</th>\n",
       "      <td>1.0</td>\n",
       "      <td>2020-05-01 01:18:42</td>\n",
       "      <td>2020-05-01 01:29:18</td>\n",
       "      <td>1.0</td>\n",
       "      <td>0.0</td>\n",
       "      <td>1.0</td>\n",
       "      <td>N</td>\n",
       "      <td>146</td>\n",
       "      <td>82</td>\n",
       "      <td>1.0</td>\n",
       "      <td>13.2</td>\n",
       "    </tr>\n",
       "    <tr>\n",
       "      <th>...</th>\n",
       "      <td>...</td>\n",
       "      <td>...</td>\n",
       "      <td>...</td>\n",
       "      <td>...</td>\n",
       "      <td>...</td>\n",
       "      <td>...</td>\n",
       "      <td>...</td>\n",
       "      <td>...</td>\n",
       "      <td>...</td>\n",
       "      <td>...</td>\n",
       "      <td>...</td>\n",
       "    </tr>\n",
       "    <tr>\n",
       "      <th>289399</th>\n",
       "      <td>1.0</td>\n",
       "      <td>2020-05-31 23:09:35</td>\n",
       "      <td>2020-05-31 23:27:07</td>\n",
       "      <td>1.0</td>\n",
       "      <td>0.0</td>\n",
       "      <td>1.0</td>\n",
       "      <td>N</td>\n",
       "      <td>61</td>\n",
       "      <td>222</td>\n",
       "      <td>1.0</td>\n",
       "      <td>18.0</td>\n",
       "    </tr>\n",
       "    <tr>\n",
       "      <th>289425</th>\n",
       "      <td>1.0</td>\n",
       "      <td>2020-05-31 23:12:10</td>\n",
       "      <td>2020-05-31 23:26:18</td>\n",
       "      <td>1.0</td>\n",
       "      <td>0.0</td>\n",
       "      <td>1.0</td>\n",
       "      <td>N</td>\n",
       "      <td>107</td>\n",
       "      <td>65</td>\n",
       "      <td>1.0</td>\n",
       "      <td>16.1</td>\n",
       "    </tr>\n",
       "    <tr>\n",
       "      <th>289426</th>\n",
       "      <td>1.0</td>\n",
       "      <td>2020-05-31 23:57:40</td>\n",
       "      <td>2020-06-01 00:25:49</td>\n",
       "      <td>1.0</td>\n",
       "      <td>0.0</td>\n",
       "      <td>1.0</td>\n",
       "      <td>N</td>\n",
       "      <td>232</td>\n",
       "      <td>177</td>\n",
       "      <td>1.0</td>\n",
       "      <td>21.0</td>\n",
       "    </tr>\n",
       "    <tr>\n",
       "      <th>289473</th>\n",
       "      <td>2.0</td>\n",
       "      <td>2020-05-31 23:07:50</td>\n",
       "      <td>2020-05-31 23:08:50</td>\n",
       "      <td>1.0</td>\n",
       "      <td>0.0</td>\n",
       "      <td>5.0</td>\n",
       "      <td>N</td>\n",
       "      <td>237</td>\n",
       "      <td>237</td>\n",
       "      <td>2.0</td>\n",
       "      <td>12.8</td>\n",
       "    </tr>\n",
       "    <tr>\n",
       "      <th>289474</th>\n",
       "      <td>2.0</td>\n",
       "      <td>2020-05-31 23:10:22</td>\n",
       "      <td>2020-05-31 23:10:50</td>\n",
       "      <td>1.0</td>\n",
       "      <td>0.0</td>\n",
       "      <td>5.0</td>\n",
       "      <td>N</td>\n",
       "      <td>237</td>\n",
       "      <td>237</td>\n",
       "      <td>1.0</td>\n",
       "      <td>10.8</td>\n",
       "    </tr>\n",
       "  </tbody>\n",
       "</table>\n",
       "<p>9096 rows × 11 columns</p>\n",
       "</div>"
      ],
      "text/plain": [
       "        VendorID tpep_pickup_datetime tpep_dropoff_datetime  passenger_count  \\\n",
       "0            1.0  2020-05-01 00:02:28   2020-05-01 00:18:07              1.0   \n",
       "45           1.0  2020-05-01 00:32:39   2020-05-01 00:48:16              1.0   \n",
       "72           1.0  2020-05-01 00:23:55   2020-05-01 00:24:17              1.0   \n",
       "73           1.0  2020-05-01 00:24:44   2020-05-01 00:35:15              1.0   \n",
       "131          1.0  2020-05-01 01:18:42   2020-05-01 01:29:18              1.0   \n",
       "...          ...                  ...                   ...              ...   \n",
       "289399       1.0  2020-05-31 23:09:35   2020-05-31 23:27:07              1.0   \n",
       "289425       1.0  2020-05-31 23:12:10   2020-05-31 23:26:18              1.0   \n",
       "289426       1.0  2020-05-31 23:57:40   2020-06-01 00:25:49              1.0   \n",
       "289473       2.0  2020-05-31 23:07:50   2020-05-31 23:08:50              1.0   \n",
       "289474       2.0  2020-05-31 23:10:22   2020-05-31 23:10:50              1.0   \n",
       "\n",
       "        trip_distance  RatecodeID store_and_fwd_flag  PULocationID  \\\n",
       "0                 0.0         1.0                  N           234   \n",
       "45                0.0         1.0                  N           137   \n",
       "72                0.0         2.0                  N            79   \n",
       "73                0.0         1.0                  N           107   \n",
       "131               0.0         1.0                  N           146   \n",
       "...               ...         ...                ...           ...   \n",
       "289399            0.0         1.0                  N            61   \n",
       "289425            0.0         1.0                  N           107   \n",
       "289426            0.0         1.0                  N           232   \n",
       "289473            0.0         5.0                  N           237   \n",
       "289474            0.0         5.0                  N           237   \n",
       "\n",
       "        DOLocationID  payment_type  total_amount  \n",
       "0                256           1.0          18.4  \n",
       "45                69           1.0          28.0  \n",
       "72                79           4.0          55.3  \n",
       "73               140           4.0          10.8  \n",
       "131               82           1.0          13.2  \n",
       "...              ...           ...           ...  \n",
       "289399           222           1.0          18.0  \n",
       "289425            65           1.0          16.1  \n",
       "289426           177           1.0          21.0  \n",
       "289473           237           2.0          12.8  \n",
       "289474           237           1.0          10.8  \n",
       "\n",
       "[9096 rows x 11 columns]"
      ]
     },
     "execution_count": 38,
     "metadata": {},
     "output_type": "execute_result"
    }
   ],
   "source": [
    "taxi[taxi['trip_distance'] == 0]"
   ]
  },
  {
   "cell_type": "markdown",
   "id": "b58cd6b4",
   "metadata": {},
   "source": [
    "On voit ici qu'on a des enregistrements avec une distance égale à 0, sur des très court intervalle de temps, avec un montant, très élevé pour certains, qui a été débité. Il y a peut-être eu une erreur de saisie pour la distance ou le montant. Dans tout les cas, on supprime les valeurs."
   ]
  },
  {
   "cell_type": "markdown",
   "id": "d5e6e6a6",
   "metadata": {},
   "source": [
    "On supprime également toutes les lignes qui ne correspondent pas au mois de Mai 2020.<br/>\n",
    "Note: on s'aperçoit que pour deux enregistrements, le client a été pris en charge en avril et a été déposé en mai, hors cela ne rentre pas dans notre plage temporelle d'étude."
   ]
  },
  {
   "cell_type": "code",
   "execution_count": 39,
   "id": "106601ec",
   "metadata": {},
   "outputs": [
    {
     "data": {
      "text/html": [
       "<div>\n",
       "<style scoped>\n",
       "    .dataframe tbody tr th:only-of-type {\n",
       "        vertical-align: middle;\n",
       "    }\n",
       "\n",
       "    .dataframe tbody tr th {\n",
       "        vertical-align: top;\n",
       "    }\n",
       "\n",
       "    .dataframe thead th {\n",
       "        text-align: right;\n",
       "    }\n",
       "</style>\n",
       "<table border=\"1\" class=\"dataframe\">\n",
       "  <thead>\n",
       "    <tr style=\"text-align: right;\">\n",
       "      <th></th>\n",
       "      <th>VendorID</th>\n",
       "      <th>tpep_pickup_datetime</th>\n",
       "      <th>tpep_dropoff_datetime</th>\n",
       "      <th>passenger_count</th>\n",
       "      <th>trip_distance</th>\n",
       "      <th>RatecodeID</th>\n",
       "      <th>store_and_fwd_flag</th>\n",
       "      <th>PULocationID</th>\n",
       "      <th>DOLocationID</th>\n",
       "      <th>payment_type</th>\n",
       "      <th>total_amount</th>\n",
       "    </tr>\n",
       "  </thead>\n",
       "  <tbody>\n",
       "    <tr>\n",
       "      <th>598</th>\n",
       "      <td>2.0</td>\n",
       "      <td>2020-04-30 17:55:31</td>\n",
       "      <td>2020-04-30 18:00:22</td>\n",
       "      <td>1.0</td>\n",
       "      <td>1.16</td>\n",
       "      <td>1.0</td>\n",
       "      <td>N</td>\n",
       "      <td>238</td>\n",
       "      <td>236</td>\n",
       "      <td>2.0</td>\n",
       "      <td>9.30</td>\n",
       "    </tr>\n",
       "    <tr>\n",
       "      <th>599</th>\n",
       "      <td>2.0</td>\n",
       "      <td>2020-04-30 18:18:23</td>\n",
       "      <td>2020-05-01 17:30:12</td>\n",
       "      <td>1.0</td>\n",
       "      <td>1.07</td>\n",
       "      <td>1.0</td>\n",
       "      <td>N</td>\n",
       "      <td>249</td>\n",
       "      <td>249</td>\n",
       "      <td>2.0</td>\n",
       "      <td>11.80</td>\n",
       "    </tr>\n",
       "    <tr>\n",
       "      <th>1065</th>\n",
       "      <td>2.0</td>\n",
       "      <td>2020-04-30 17:37:42</td>\n",
       "      <td>2020-04-30 17:48:31</td>\n",
       "      <td>1.0</td>\n",
       "      <td>2.77</td>\n",
       "      <td>1.0</td>\n",
       "      <td>N</td>\n",
       "      <td>230</td>\n",
       "      <td>263</td>\n",
       "      <td>1.0</td>\n",
       "      <td>16.56</td>\n",
       "    </tr>\n",
       "    <tr>\n",
       "      <th>1066</th>\n",
       "      <td>2.0</td>\n",
       "      <td>2020-04-30 18:12:23</td>\n",
       "      <td>2020-05-01 17:29:16</td>\n",
       "      <td>1.0</td>\n",
       "      <td>5.32</td>\n",
       "      <td>1.0</td>\n",
       "      <td>N</td>\n",
       "      <td>142</td>\n",
       "      <td>231</td>\n",
       "      <td>2.0</td>\n",
       "      <td>19.80</td>\n",
       "    </tr>\n",
       "    <tr>\n",
       "      <th>35086</th>\n",
       "      <td>2.0</td>\n",
       "      <td>2009-01-01 02:19:49</td>\n",
       "      <td>2009-01-01 02:23:35</td>\n",
       "      <td>3.0</td>\n",
       "      <td>0.98</td>\n",
       "      <td>1.0</td>\n",
       "      <td>N</td>\n",
       "      <td>74</td>\n",
       "      <td>75</td>\n",
       "      <td>2.0</td>\n",
       "      <td>5.80</td>\n",
       "    </tr>\n",
       "    <tr>\n",
       "      <th>35718</th>\n",
       "      <td>2.0</td>\n",
       "      <td>2009-01-01 02:53:54</td>\n",
       "      <td>2009-01-01 13:33:14</td>\n",
       "      <td>3.0</td>\n",
       "      <td>2.47</td>\n",
       "      <td>1.0</td>\n",
       "      <td>N</td>\n",
       "      <td>230</td>\n",
       "      <td>264</td>\n",
       "      <td>2.0</td>\n",
       "      <td>13.80</td>\n",
       "    </tr>\n",
       "    <tr>\n",
       "      <th>97408</th>\n",
       "      <td>2.0</td>\n",
       "      <td>2008-12-31 23:05:47</td>\n",
       "      <td>2008-12-31 23:33:33</td>\n",
       "      <td>1.0</td>\n",
       "      <td>3.38</td>\n",
       "      <td>1.0</td>\n",
       "      <td>N</td>\n",
       "      <td>25</td>\n",
       "      <td>89</td>\n",
       "      <td>2.0</td>\n",
       "      <td>16.80</td>\n",
       "    </tr>\n",
       "    <tr>\n",
       "      <th>210013</th>\n",
       "      <td>2.0</td>\n",
       "      <td>2009-01-01 00:57:36</td>\n",
       "      <td>2009-01-01 01:05:48</td>\n",
       "      <td>3.0</td>\n",
       "      <td>1.68</td>\n",
       "      <td>1.0</td>\n",
       "      <td>N</td>\n",
       "      <td>236</td>\n",
       "      <td>162</td>\n",
       "      <td>2.0</td>\n",
       "      <td>11.80</td>\n",
       "    </tr>\n",
       "  </tbody>\n",
       "</table>\n",
       "</div>"
      ],
      "text/plain": [
       "        VendorID tpep_pickup_datetime tpep_dropoff_datetime  passenger_count  \\\n",
       "598          2.0  2020-04-30 17:55:31   2020-04-30 18:00:22              1.0   \n",
       "599          2.0  2020-04-30 18:18:23   2020-05-01 17:30:12              1.0   \n",
       "1065         2.0  2020-04-30 17:37:42   2020-04-30 17:48:31              1.0   \n",
       "1066         2.0  2020-04-30 18:12:23   2020-05-01 17:29:16              1.0   \n",
       "35086        2.0  2009-01-01 02:19:49   2009-01-01 02:23:35              3.0   \n",
       "35718        2.0  2009-01-01 02:53:54   2009-01-01 13:33:14              3.0   \n",
       "97408        2.0  2008-12-31 23:05:47   2008-12-31 23:33:33              1.0   \n",
       "210013       2.0  2009-01-01 00:57:36   2009-01-01 01:05:48              3.0   \n",
       "\n",
       "        trip_distance  RatecodeID store_and_fwd_flag  PULocationID  \\\n",
       "598              1.16         1.0                  N           238   \n",
       "599              1.07         1.0                  N           249   \n",
       "1065             2.77         1.0                  N           230   \n",
       "1066             5.32         1.0                  N           142   \n",
       "35086            0.98         1.0                  N            74   \n",
       "35718            2.47         1.0                  N           230   \n",
       "97408            3.38         1.0                  N            25   \n",
       "210013           1.68         1.0                  N           236   \n",
       "\n",
       "        DOLocationID  payment_type  total_amount  \n",
       "598              236           2.0          9.30  \n",
       "599              249           2.0         11.80  \n",
       "1065             263           1.0         16.56  \n",
       "1066             231           2.0         19.80  \n",
       "35086             75           2.0          5.80  \n",
       "35718            264           2.0         13.80  \n",
       "97408             89           2.0         16.80  \n",
       "210013           162           2.0         11.80  "
      ]
     },
     "execution_count": 39,
     "metadata": {},
     "output_type": "execute_result"
    }
   ],
   "source": [
    "taxi[taxi['tpep_pickup_datetime'] < '2020-05-01 00:00:00']"
   ]
  },
  {
   "cell_type": "code",
   "execution_count": 40,
   "id": "8f006173",
   "metadata": {},
   "outputs": [
    {
     "data": {
      "text/html": [
       "<div>\n",
       "<style scoped>\n",
       "    .dataframe tbody tr th:only-of-type {\n",
       "        vertical-align: middle;\n",
       "    }\n",
       "\n",
       "    .dataframe tbody tr th {\n",
       "        vertical-align: top;\n",
       "    }\n",
       "\n",
       "    .dataframe thead th {\n",
       "        text-align: right;\n",
       "    }\n",
       "</style>\n",
       "<table border=\"1\" class=\"dataframe\">\n",
       "  <thead>\n",
       "    <tr style=\"text-align: right;\">\n",
       "      <th></th>\n",
       "      <th>VendorID</th>\n",
       "      <th>tpep_pickup_datetime</th>\n",
       "      <th>tpep_dropoff_datetime</th>\n",
       "      <th>passenger_count</th>\n",
       "      <th>trip_distance</th>\n",
       "      <th>RatecodeID</th>\n",
       "      <th>store_and_fwd_flag</th>\n",
       "      <th>PULocationID</th>\n",
       "      <th>DOLocationID</th>\n",
       "      <th>payment_type</th>\n",
       "      <th>total_amount</th>\n",
       "    </tr>\n",
       "  </thead>\n",
       "  <tbody>\n",
       "    <tr>\n",
       "      <th>126889</th>\n",
       "      <td>2.0</td>\n",
       "      <td>2020-07-18 00:10:28</td>\n",
       "      <td>2020-07-18 00:16:33</td>\n",
       "      <td>1.0</td>\n",
       "      <td>1.74</td>\n",
       "      <td>1.0</td>\n",
       "      <td>N</td>\n",
       "      <td>246</td>\n",
       "      <td>143</td>\n",
       "      <td>1.0</td>\n",
       "      <td>13.56</td>\n",
       "    </tr>\n",
       "    <tr>\n",
       "      <th>127625</th>\n",
       "      <td>2.0</td>\n",
       "      <td>2020-07-18 00:38:57</td>\n",
       "      <td>2020-07-18 00:55:00</td>\n",
       "      <td>1.0</td>\n",
       "      <td>5.51</td>\n",
       "      <td>1.0</td>\n",
       "      <td>N</td>\n",
       "      <td>142</td>\n",
       "      <td>244</td>\n",
       "      <td>2.0</td>\n",
       "      <td>23.30</td>\n",
       "    </tr>\n",
       "    <tr>\n",
       "      <th>127626</th>\n",
       "      <td>2.0</td>\n",
       "      <td>2020-08-08 08:14:14</td>\n",
       "      <td>2020-08-08 08:26:29</td>\n",
       "      <td>1.0</td>\n",
       "      <td>1.16</td>\n",
       "      <td>1.0</td>\n",
       "      <td>N</td>\n",
       "      <td>166</td>\n",
       "      <td>41</td>\n",
       "      <td>2.0</td>\n",
       "      <td>9.80</td>\n",
       "    </tr>\n",
       "    <tr>\n",
       "      <th>129549</th>\n",
       "      <td>2.0</td>\n",
       "      <td>2020-09-20 00:32:13</td>\n",
       "      <td>2020-09-20 00:36:26</td>\n",
       "      <td>1.0</td>\n",
       "      <td>1.08</td>\n",
       "      <td>1.0</td>\n",
       "      <td>N</td>\n",
       "      <td>237</td>\n",
       "      <td>236</td>\n",
       "      <td>1.0</td>\n",
       "      <td>11.16</td>\n",
       "    </tr>\n",
       "    <tr>\n",
       "      <th>129550</th>\n",
       "      <td>2.0</td>\n",
       "      <td>2020-09-20 00:40:49</td>\n",
       "      <td>2020-09-20 00:44:23</td>\n",
       "      <td>1.0</td>\n",
       "      <td>0.73</td>\n",
       "      <td>1.0</td>\n",
       "      <td>N</td>\n",
       "      <td>237</td>\n",
       "      <td>237</td>\n",
       "      <td>2.0</td>\n",
       "      <td>8.80</td>\n",
       "    </tr>\n",
       "    <tr>\n",
       "      <th>129551</th>\n",
       "      <td>2.0</td>\n",
       "      <td>2020-09-20 00:55:23</td>\n",
       "      <td>2020-09-20 01:06:16</td>\n",
       "      <td>1.0</td>\n",
       "      <td>2.28</td>\n",
       "      <td>1.0</td>\n",
       "      <td>N</td>\n",
       "      <td>236</td>\n",
       "      <td>41</td>\n",
       "      <td>1.0</td>\n",
       "      <td>13.80</td>\n",
       "    </tr>\n",
       "    <tr>\n",
       "      <th>129962</th>\n",
       "      <td>2.0</td>\n",
       "      <td>2020-10-11 08:48:01</td>\n",
       "      <td>2020-10-11 09:02:06</td>\n",
       "      <td>1.0</td>\n",
       "      <td>4.01</td>\n",
       "      <td>1.0</td>\n",
       "      <td>N</td>\n",
       "      <td>162</td>\n",
       "      <td>41</td>\n",
       "      <td>1.0</td>\n",
       "      <td>21.36</td>\n",
       "    </tr>\n",
       "    <tr>\n",
       "      <th>129963</th>\n",
       "      <td>2.0</td>\n",
       "      <td>2020-11-01 15:15:05</td>\n",
       "      <td>2020-11-01 15:23:18</td>\n",
       "      <td>1.0</td>\n",
       "      <td>2.26</td>\n",
       "      <td>1.0</td>\n",
       "      <td>N</td>\n",
       "      <td>141</td>\n",
       "      <td>75</td>\n",
       "      <td>2.0</td>\n",
       "      <td>12.80</td>\n",
       "    </tr>\n",
       "    <tr>\n",
       "      <th>130260</th>\n",
       "      <td>2.0</td>\n",
       "      <td>2020-11-01 15:26:33</td>\n",
       "      <td>2020-11-01 15:39:04</td>\n",
       "      <td>1.0</td>\n",
       "      <td>2.37</td>\n",
       "      <td>1.0</td>\n",
       "      <td>N</td>\n",
       "      <td>43</td>\n",
       "      <td>152</td>\n",
       "      <td>1.0</td>\n",
       "      <td>14.76</td>\n",
       "    </tr>\n",
       "    <tr>\n",
       "      <th>130261</th>\n",
       "      <td>2.0</td>\n",
       "      <td>2020-11-01 15:41:04</td>\n",
       "      <td>2020-11-01 15:57:02</td>\n",
       "      <td>1.0</td>\n",
       "      <td>6.21</td>\n",
       "      <td>1.0</td>\n",
       "      <td>N</td>\n",
       "      <td>152</td>\n",
       "      <td>68</td>\n",
       "      <td>2.0</td>\n",
       "      <td>24.30</td>\n",
       "    </tr>\n",
       "  </tbody>\n",
       "</table>\n",
       "</div>"
      ],
      "text/plain": [
       "        VendorID tpep_pickup_datetime tpep_dropoff_datetime  passenger_count  \\\n",
       "126889       2.0  2020-07-18 00:10:28   2020-07-18 00:16:33              1.0   \n",
       "127625       2.0  2020-07-18 00:38:57   2020-07-18 00:55:00              1.0   \n",
       "127626       2.0  2020-08-08 08:14:14   2020-08-08 08:26:29              1.0   \n",
       "129549       2.0  2020-09-20 00:32:13   2020-09-20 00:36:26              1.0   \n",
       "129550       2.0  2020-09-20 00:40:49   2020-09-20 00:44:23              1.0   \n",
       "129551       2.0  2020-09-20 00:55:23   2020-09-20 01:06:16              1.0   \n",
       "129962       2.0  2020-10-11 08:48:01   2020-10-11 09:02:06              1.0   \n",
       "129963       2.0  2020-11-01 15:15:05   2020-11-01 15:23:18              1.0   \n",
       "130260       2.0  2020-11-01 15:26:33   2020-11-01 15:39:04              1.0   \n",
       "130261       2.0  2020-11-01 15:41:04   2020-11-01 15:57:02              1.0   \n",
       "\n",
       "        trip_distance  RatecodeID store_and_fwd_flag  PULocationID  \\\n",
       "126889           1.74         1.0                  N           246   \n",
       "127625           5.51         1.0                  N           142   \n",
       "127626           1.16         1.0                  N           166   \n",
       "129549           1.08         1.0                  N           237   \n",
       "129550           0.73         1.0                  N           237   \n",
       "129551           2.28         1.0                  N           236   \n",
       "129962           4.01         1.0                  N           162   \n",
       "129963           2.26         1.0                  N           141   \n",
       "130260           2.37         1.0                  N            43   \n",
       "130261           6.21         1.0                  N           152   \n",
       "\n",
       "        DOLocationID  payment_type  total_amount  \n",
       "126889           143           1.0         13.56  \n",
       "127625           244           2.0         23.30  \n",
       "127626            41           2.0          9.80  \n",
       "129549           236           1.0         11.16  \n",
       "129550           237           2.0          8.80  \n",
       "129551            41           1.0         13.80  \n",
       "129962            41           1.0         21.36  \n",
       "129963            75           2.0         12.80  \n",
       "130260           152           1.0         14.76  \n",
       "130261            68           2.0         24.30  "
      ]
     },
     "execution_count": 40,
     "metadata": {},
     "output_type": "execute_result"
    }
   ],
   "source": [
    "taxi[taxi['tpep_pickup_datetime'] > '2020-06-31 00:00:00']"
   ]
  },
  {
   "cell_type": "code",
   "execution_count": 41,
   "id": "c5448d88",
   "metadata": {},
   "outputs": [],
   "source": [
    "# on supprime tout les montants négatifs\n",
    "taxi.drop(taxi[taxi['total_amount'] < 0].index,\n",
    "         axis = 0,\n",
    "         inplace = True)\n",
    "\n",
    "# on supprime tout les codes supérieures à 6 car le code doit est censé être compris entre 1 et 6\n",
    "taxi.drop(taxi[taxi['RatecodeID'] > 6].index,\n",
    "         axis = 0,\n",
    "         inplace = True)\n",
    "\n",
    "# on supprime les enregistrements avec une distance supérieur à 350\n",
    "taxi.drop(taxi[taxi['trip_distance'] > 350].index,\n",
    "         axis = 0,\n",
    "         inplace = True)\n",
    "\n",
    "# on supprime les enregistrements avec une distance égale à 0\n",
    "taxi.drop(taxi[taxi['trip_distance'] == 0].index,\n",
    "         axis = 0,\n",
    "         inplace = True)\n",
    "\n",
    "taxi.drop(taxi[taxi['tpep_pickup_datetime'] < '2020-05-01 00:00:00'].index,\n",
    "          axis = 0,\n",
    "          inplace = True)\n",
    "\n",
    "taxi.drop(taxi[taxi['tpep_pickup_datetime'] > '2020-06-31 00:00:00'].index,\n",
    "          axis = 0,\n",
    "          inplace = True)"
   ]
  },
  {
   "cell_type": "markdown",
   "id": "9c1e40a3",
   "metadata": {},
   "source": [
    "Une fois les données aberrantes traitées, on constate qu'on a des statistiques cohérentes."
   ]
  },
  {
   "cell_type": "code",
   "execution_count": 42,
   "id": "b09d22ba",
   "metadata": {
    "scrolled": true
   },
   "outputs": [
    {
     "data": {
      "text/html": [
       "<div>\n",
       "<style scoped>\n",
       "    .dataframe tbody tr th:only-of-type {\n",
       "        vertical-align: middle;\n",
       "    }\n",
       "\n",
       "    .dataframe tbody tr th {\n",
       "        vertical-align: top;\n",
       "    }\n",
       "\n",
       "    .dataframe thead th {\n",
       "        text-align: right;\n",
       "    }\n",
       "</style>\n",
       "<table border=\"1\" class=\"dataframe\">\n",
       "  <thead>\n",
       "    <tr style=\"text-align: right;\">\n",
       "      <th></th>\n",
       "      <th>VendorID</th>\n",
       "      <th>passenger_count</th>\n",
       "      <th>trip_distance</th>\n",
       "      <th>RatecodeID</th>\n",
       "      <th>PULocationID</th>\n",
       "      <th>DOLocationID</th>\n",
       "      <th>payment_type</th>\n",
       "      <th>total_amount</th>\n",
       "    </tr>\n",
       "  </thead>\n",
       "  <tbody>\n",
       "    <tr>\n",
       "      <th>count</th>\n",
       "      <td>279052.000000</td>\n",
       "      <td>279052.000000</td>\n",
       "      <td>279052.000000</td>\n",
       "      <td>279052.000000</td>\n",
       "      <td>279052.000000</td>\n",
       "      <td>279052.000000</td>\n",
       "      <td>279052.000000</td>\n",
       "      <td>279052.000000</td>\n",
       "    </tr>\n",
       "    <tr>\n",
       "      <th>mean</th>\n",
       "      <td>1.573180</td>\n",
       "      <td>1.322427</td>\n",
       "      <td>2.782613</td>\n",
       "      <td>1.021068</td>\n",
       "      <td>157.627951</td>\n",
       "      <td>151.818012</td>\n",
       "      <td>1.414292</td>\n",
       "      <td>15.935038</td>\n",
       "    </tr>\n",
       "    <tr>\n",
       "      <th>std</th>\n",
       "      <td>0.494617</td>\n",
       "      <td>0.995357</td>\n",
       "      <td>3.559632</td>\n",
       "      <td>0.245942</td>\n",
       "      <td>70.038639</td>\n",
       "      <td>74.410976</td>\n",
       "      <td>0.531983</td>\n",
       "      <td>12.777293</td>\n",
       "    </tr>\n",
       "    <tr>\n",
       "      <th>min</th>\n",
       "      <td>1.000000</td>\n",
       "      <td>0.000000</td>\n",
       "      <td>0.010000</td>\n",
       "      <td>1.000000</td>\n",
       "      <td>1.000000</td>\n",
       "      <td>1.000000</td>\n",
       "      <td>1.000000</td>\n",
       "      <td>0.000000</td>\n",
       "    </tr>\n",
       "    <tr>\n",
       "      <th>25%</th>\n",
       "      <td>1.000000</td>\n",
       "      <td>1.000000</td>\n",
       "      <td>1.000000</td>\n",
       "      <td>1.000000</td>\n",
       "      <td>100.000000</td>\n",
       "      <td>79.000000</td>\n",
       "      <td>1.000000</td>\n",
       "      <td>9.800000</td>\n",
       "    </tr>\n",
       "    <tr>\n",
       "      <th>50%</th>\n",
       "      <td>2.000000</td>\n",
       "      <td>1.000000</td>\n",
       "      <td>1.740000</td>\n",
       "      <td>1.000000</td>\n",
       "      <td>151.000000</td>\n",
       "      <td>148.000000</td>\n",
       "      <td>1.000000</td>\n",
       "      <td>12.800000</td>\n",
       "    </tr>\n",
       "    <tr>\n",
       "      <th>75%</th>\n",
       "      <td>2.000000</td>\n",
       "      <td>1.000000</td>\n",
       "      <td>3.190000</td>\n",
       "      <td>1.000000</td>\n",
       "      <td>234.000000</td>\n",
       "      <td>233.000000</td>\n",
       "      <td>2.000000</td>\n",
       "      <td>17.800000</td>\n",
       "    </tr>\n",
       "    <tr>\n",
       "      <th>max</th>\n",
       "      <td>2.000000</td>\n",
       "      <td>6.000000</td>\n",
       "      <td>305.100000</td>\n",
       "      <td>6.000000</td>\n",
       "      <td>265.000000</td>\n",
       "      <td>265.000000</td>\n",
       "      <td>4.000000</td>\n",
       "      <td>1042.820000</td>\n",
       "    </tr>\n",
       "  </tbody>\n",
       "</table>\n",
       "</div>"
      ],
      "text/plain": [
       "            VendorID  passenger_count  trip_distance     RatecodeID  \\\n",
       "count  279052.000000    279052.000000  279052.000000  279052.000000   \n",
       "mean        1.573180         1.322427       2.782613       1.021068   \n",
       "std         0.494617         0.995357       3.559632       0.245942   \n",
       "min         1.000000         0.000000       0.010000       1.000000   \n",
       "25%         1.000000         1.000000       1.000000       1.000000   \n",
       "50%         2.000000         1.000000       1.740000       1.000000   \n",
       "75%         2.000000         1.000000       3.190000       1.000000   \n",
       "max         2.000000         6.000000     305.100000       6.000000   \n",
       "\n",
       "        PULocationID   DOLocationID   payment_type   total_amount  \n",
       "count  279052.000000  279052.000000  279052.000000  279052.000000  \n",
       "mean      157.627951     151.818012       1.414292      15.935038  \n",
       "std        70.038639      74.410976       0.531983      12.777293  \n",
       "min         1.000000       1.000000       1.000000       0.000000  \n",
       "25%       100.000000      79.000000       1.000000       9.800000  \n",
       "50%       151.000000     148.000000       1.000000      12.800000  \n",
       "75%       234.000000     233.000000       2.000000      17.800000  \n",
       "max       265.000000     265.000000       4.000000    1042.820000  "
      ]
     },
     "execution_count": 42,
     "metadata": {},
     "output_type": "execute_result"
    }
   ],
   "source": [
    "taxi.describe()"
   ]
  },
  {
   "cell_type": "markdown",
   "id": "5e17b560",
   "metadata": {},
   "source": [
    "A propos des variables catégorielle, il est de bonne pratique de les passer en variable catégorielle lorsque l'on implémente des modèles de Machine Learning. On convertit ainsi les modalités de la variable 'store_and_fwd_flag' en 0 (N) et 1 (Y)."
   ]
  },
  {
   "cell_type": "code",
   "execution_count": 43,
   "id": "63facdb1",
   "metadata": {},
   "outputs": [
    {
     "data": {
      "text/plain": [
       "array(['N', 'Y'], dtype=object)"
      ]
     },
     "execution_count": 43,
     "metadata": {},
     "output_type": "execute_result"
    }
   ],
   "source": [
    "taxi['store_and_fwd_flag'].unique()"
   ]
  },
  {
   "cell_type": "code",
   "execution_count": 44,
   "id": "bf4c7209",
   "metadata": {},
   "outputs": [
    {
     "data": {
      "text/plain": [
       "array([0, 1], dtype=int64)"
      ]
     },
     "execution_count": 44,
     "metadata": {},
     "output_type": "execute_result"
    }
   ],
   "source": [
    "taxi['store_and_fwd_flag'].replace(['N', 'Y'], (0, 1),\n",
    "                                   inplace = True)\n",
    "\n",
    "taxi['store_and_fwd_flag'].unique()"
   ]
  },
  {
   "cell_type": "markdown",
   "id": "6aa1dd91",
   "metadata": {},
   "source": [
    "On change ensuite le type de nos données pour qu'ils soient cohérents."
   ]
  },
  {
   "cell_type": "code",
   "execution_count": 45,
   "id": "71b361a2",
   "metadata": {},
   "outputs": [],
   "source": [
    "taxi['VendorID'] = taxi['VendorID'].astype('int64')\n",
    "taxi['passenger_count'] = taxi['passenger_count'].astype('int64')\n",
    "taxi['RatecodeID'] = taxi['RatecodeID'].astype('int64')\n",
    "taxi['payment_type'] = taxi['payment_type'].astype('int64')"
   ]
  },
  {
   "cell_type": "code",
   "execution_count": 46,
   "id": "91ed1d80",
   "metadata": {},
   "outputs": [
    {
     "data": {
      "text/plain": [
       "VendorID                   int64\n",
       "tpep_pickup_datetime      object\n",
       "tpep_dropoff_datetime     object\n",
       "passenger_count            int64\n",
       "trip_distance            float64\n",
       "RatecodeID                 int64\n",
       "store_and_fwd_flag         int64\n",
       "PULocationID               int64\n",
       "DOLocationID               int64\n",
       "payment_type               int64\n",
       "total_amount             float64\n",
       "dtype: object"
      ]
     },
     "execution_count": 46,
     "metadata": {},
     "output_type": "execute_result"
    }
   ],
   "source": [
    "taxi.dtypes"
   ]
  },
  {
   "cell_type": "markdown",
   "id": "98aca0d0",
   "metadata": {},
   "source": [
    "On peut compter le nombre d'enregistrements que l'on a par type de paiement. "
   ]
  },
  {
   "cell_type": "code",
   "execution_count": 47,
   "id": "8ca23a1b",
   "metadata": {},
   "outputs": [
    {
     "data": {
      "text/plain": [
       "payment_type\n",
       "1    168164\n",
       "2    107076\n",
       "3      2903\n",
       "4       909\n",
       "Name: VendorID, dtype: int64"
      ]
     },
     "execution_count": 47,
     "metadata": {},
     "output_type": "execute_result"
    }
   ],
   "source": [
    "taxi.groupby('payment_type')['VendorID'].count()"
   ]
  },
  {
   "cell_type": "markdown",
   "id": "6880a032",
   "metadata": {},
   "source": [
    "La représentation sous forme de graphique."
   ]
  },
  {
   "cell_type": "code",
   "execution_count": 48,
   "id": "07f933b8",
   "metadata": {},
   "outputs": [
    {
     "data": {
      "text/plain": [
       "Text(0.5, 1.0, \"Nombre d'enregistrements par type de paiement\")"
      ]
     },
     "execution_count": 48,
     "metadata": {},
     "output_type": "execute_result"
    },
    {
     "data": {
      "image/png": "[encoded data removed]",
      "text/plain": [
       "<Figure size 432x288 with 1 Axes>"
      ]
     },
     "metadata": {},
     "output_type": "display_data"
    }
   ],
   "source": [
    "sns.set_theme(style = 'darkgrid')\n",
    "\n",
    "type_paiement = sns.countplot(x = 'payment_type',  data = taxi)\n",
    "\n",
    "# afficher les valeurs sur le graphique\n",
    "#type_paiement.bar_label(type_paiement.containers[0])\n",
    "\n",
    "plt.title(\"Nombre d'enregistrements par type de paiement\")"
   ]
  },
  {
   "cell_type": "markdown",
   "id": "1bc32fb0",
   "metadata": {},
   "source": [
    "Ici, on peut voir que les trajets réglés par carte de crédit d'abord, puis en liquide sont très fréquents. Quelques trajets n'ont pas étaient prélevés et une certaine minorité ont été contestés."
   ]
  },
  {
   "cell_type": "code",
   "execution_count": 49,
   "id": "fc33e8dc",
   "metadata": {},
   "outputs": [
    {
     "data": {
      "image/png": "[encoded data removed]",
      "text/plain": [
       "<Figure size 432x288 with 1 Axes>"
      ]
     },
     "metadata": {},
     "output_type": "display_data"
    },
    {
     "data": {
      "image/png": "[encoded data removed]",
      "text/plain": [
       "<Figure size 432x288 with 1 Axes>"
      ]
     },
     "metadata": {},
     "output_type": "display_data"
    }
   ],
   "source": [
    "for col in taxi.select_dtypes('float'):\n",
    "    plt.figure()\n",
    "    sns.histplot(taxi[col])"
   ]
  },
  {
   "cell_type": "code",
   "execution_count": 50,
   "id": "d7b32113",
   "metadata": {},
   "outputs": [
    {
     "data": {
      "image/png": "[encoded data removed]",
      "text/plain": [
       "<Figure size 432x288 with 1 Axes>"
      ]
     },
     "metadata": {},
     "output_type": "display_data"
    },
    {
     "data": {
      "image/png": "[encoded data removed]",
      "text/plain": [
       "<Figure size 432x288 with 1 Axes>"
      ]
     },
     "metadata": {},
     "output_type": "display_data"
    },
    {
     "data": {
      "image/png": "[encoded data removed]",
      "text/plain": [
       "<Figure size 432x288 with 1 Axes>"
      ]
     },
     "metadata": {},
     "output_type": "display_data"
    },
    {
     "data": {
      "image/png": "[encoded data removed]",
      "text/plain": [
       "<Figure size 432x288 with 1 Axes>"
      ]
     },
     "metadata": {},
     "output_type": "display_data"
    }
   ],
   "source": [
    "taxi_sans_id = taxi.drop(['VendorID', 'PULocationID', 'DOLocationID'], axis = 1)\n",
    "\n",
    "for col in taxi_sans_id.select_dtypes('int'):\n",
    "    plt.figure()\n",
    "    taxi[col].value_counts().plot.pie()"
   ]
  },
  {
   "cell_type": "markdown",
   "id": "a9fdd000",
   "metadata": {},
   "source": [
    "### Modification des types, les dates"
   ]
  },
  {
   "cell_type": "code",
   "execution_count": 51,
   "id": "6ba605e5",
   "metadata": {
    "scrolled": true
   },
   "outputs": [
    {
     "data": {
      "text/html": [
       "<div>\n",
       "<style scoped>\n",
       "    .dataframe tbody tr th:only-of-type {\n",
       "        vertical-align: middle;\n",
       "    }\n",
       "\n",
       "    .dataframe tbody tr th {\n",
       "        vertical-align: top;\n",
       "    }\n",
       "\n",
       "    .dataframe thead th {\n",
       "        text-align: right;\n",
       "    }\n",
       "</style>\n",
       "<table border=\"1\" class=\"dataframe\">\n",
       "  <thead>\n",
       "    <tr style=\"text-align: right;\">\n",
       "      <th></th>\n",
       "      <th>VendorID</th>\n",
       "      <th>tpep_pickup_datetime</th>\n",
       "      <th>tpep_dropoff_datetime</th>\n",
       "      <th>passenger_count</th>\n",
       "      <th>trip_distance</th>\n",
       "      <th>RatecodeID</th>\n",
       "      <th>store_and_fwd_flag</th>\n",
       "      <th>PULocationID</th>\n",
       "      <th>DOLocationID</th>\n",
       "      <th>payment_type</th>\n",
       "      <th>total_amount</th>\n",
       "    </tr>\n",
       "  </thead>\n",
       "  <tbody>\n",
       "    <tr>\n",
       "      <th>1</th>\n",
       "      <td>1</td>\n",
       "      <td>2020-05-01 00:23:21</td>\n",
       "      <td>2020-05-01 00:26:01</td>\n",
       "      <td>2</td>\n",
       "      <td>0.4</td>\n",
       "      <td>1</td>\n",
       "      <td>0</td>\n",
       "      <td>264</td>\n",
       "      <td>264</td>\n",
       "      <td>1</td>\n",
       "      <td>5.8</td>\n",
       "    </tr>\n",
       "    <tr>\n",
       "      <th>2</th>\n",
       "      <td>1</td>\n",
       "      <td>2020-05-01 00:54:58</td>\n",
       "      <td>2020-05-01 00:57:11</td>\n",
       "      <td>1</td>\n",
       "      <td>0.3</td>\n",
       "      <td>1</td>\n",
       "      <td>0</td>\n",
       "      <td>264</td>\n",
       "      <td>264</td>\n",
       "      <td>2</td>\n",
       "      <td>4.8</td>\n",
       "    </tr>\n",
       "    <tr>\n",
       "      <th>3</th>\n",
       "      <td>1</td>\n",
       "      <td>2020-05-01 00:07:10</td>\n",
       "      <td>2020-05-01 00:12:46</td>\n",
       "      <td>1</td>\n",
       "      <td>1.7</td>\n",
       "      <td>1</td>\n",
       "      <td>0</td>\n",
       "      <td>107</td>\n",
       "      <td>229</td>\n",
       "      <td>2</td>\n",
       "      <td>10.8</td>\n",
       "    </tr>\n",
       "    <tr>\n",
       "      <th>4</th>\n",
       "      <td>1</td>\n",
       "      <td>2020-05-01 00:55:47</td>\n",
       "      <td>2020-05-01 01:01:54</td>\n",
       "      <td>0</td>\n",
       "      <td>0.9</td>\n",
       "      <td>1</td>\n",
       "      <td>0</td>\n",
       "      <td>237</td>\n",
       "      <td>262</td>\n",
       "      <td>1</td>\n",
       "      <td>11.0</td>\n",
       "    </tr>\n",
       "    <tr>\n",
       "      <th>5</th>\n",
       "      <td>1</td>\n",
       "      <td>2020-05-01 00:38:37</td>\n",
       "      <td>2020-05-01 01:03:08</td>\n",
       "      <td>0</td>\n",
       "      <td>12.0</td>\n",
       "      <td>1</td>\n",
       "      <td>0</td>\n",
       "      <td>140</td>\n",
       "      <td>28</td>\n",
       "      <td>1</td>\n",
       "      <td>39.3</td>\n",
       "    </tr>\n",
       "  </tbody>\n",
       "</table>\n",
       "</div>"
      ],
      "text/plain": [
       "   VendorID tpep_pickup_datetime tpep_dropoff_datetime  passenger_count  \\\n",
       "1         1  2020-05-01 00:23:21   2020-05-01 00:26:01                2   \n",
       "2         1  2020-05-01 00:54:58   2020-05-01 00:57:11                1   \n",
       "3         1  2020-05-01 00:07:10   2020-05-01 00:12:46                1   \n",
       "4         1  2020-05-01 00:55:47   2020-05-01 01:01:54                0   \n",
       "5         1  2020-05-01 00:38:37   2020-05-01 01:03:08                0   \n",
       "\n",
       "   trip_distance  RatecodeID  store_and_fwd_flag  PULocationID  DOLocationID  \\\n",
       "1            0.4           1                   0           264           264   \n",
       "2            0.3           1                   0           264           264   \n",
       "3            1.7           1                   0           107           229   \n",
       "4            0.9           1                   0           237           262   \n",
       "5           12.0           1                   0           140            28   \n",
       "\n",
       "   payment_type  total_amount  \n",
       "1             1           5.8  \n",
       "2             2           4.8  \n",
       "3             2          10.8  \n",
       "4             1          11.0  \n",
       "5             1          39.3  "
      ]
     },
     "execution_count": 51,
     "metadata": {},
     "output_type": "execute_result"
    }
   ],
   "source": [
    "taxi.head()"
   ]
  },
  {
   "cell_type": "markdown",
   "id": "e9736d7c",
   "metadata": {},
   "source": [
    "On passe les dates en datetime pour pouvoir extraire le jour, le mois, l'année, les heures, les minutes, les secondes.\n",
    "On calcule la durée des trajets."
   ]
  },
  {
   "cell_type": "code",
   "execution_count": 52,
   "id": "3b3c60aa",
   "metadata": {},
   "outputs": [],
   "source": [
    "taxi['tpep_pickup_datetime'] = pd.to_datetime(taxi['tpep_pickup_datetime'])\n",
    "taxi['tpep_dropoff_datetime'] = pd.to_datetime(taxi['tpep_dropoff_datetime'])"
   ]
  },
  {
   "cell_type": "code",
   "execution_count": 53,
   "id": "633dd6b2",
   "metadata": {},
   "outputs": [],
   "source": [
    "# extraction pour le pickup\n",
    "taxi['jour_pickup'] = taxi['tpep_pickup_datetime'].dt.day\n",
    "taxi['mois_pickup'] = taxi['tpep_pickup_datetime'].dt.month\n",
    "taxi['annee_pickup'] = taxi['tpep_pickup_datetime'].dt.year\n",
    "\n",
    "taxi['heure_pickup'] = taxi['tpep_pickup_datetime'].dt.hour\n",
    "taxi['minute_pickup'] = taxi['tpep_pickup_datetime'].dt.minute\n",
    "taxi['seconds_pickup'] = taxi['tpep_pickup_datetime'].dt.second\n",
    "\n",
    "# extraction pour le dropoff\n",
    "taxi['jour_dropoff'] = taxi['tpep_dropoff_datetime'].dt.day\n",
    "taxi['mois_dropoff'] = taxi['tpep_dropoff_datetime'].dt.month\n",
    "taxi['annee_dropoff'] = taxi['tpep_dropoff_datetime'].dt.year\n",
    "\n",
    "taxi['heure_dropoff'] = taxi['tpep_dropoff_datetime'].dt.hour\n",
    "taxi['minute_dropoff'] = taxi['tpep_dropoff_datetime'].dt.minute\n",
    "taxi['seconds_dropoff'] = taxi['tpep_dropoff_datetime'].dt.second\n",
    "\n",
    "# calcul de la durée du trajet\n",
    "taxi['duree_trajet'] = taxi['tpep_dropoff_datetime'] - taxi['tpep_pickup_datetime']\n",
    "\n",
    "# on récupère la durée du trajet en minutes\n",
    "taxi['duree_trajet_minute'] = taxi['duree_trajet'] / np.timedelta64(1, 'm')\n",
    "\n",
    "# on arrondit\n",
    "taxi['duree_trajet_minute'] = taxi['duree_trajet_minute'].apply(np.round)"
   ]
  },
  {
   "cell_type": "code",
   "execution_count": 54,
   "id": "ddbaa42f",
   "metadata": {
    "scrolled": false
   },
   "outputs": [
    {
     "data": {
      "text/html": [
       "<div>\n",
       "<style scoped>\n",
       "    .dataframe tbody tr th:only-of-type {\n",
       "        vertical-align: middle;\n",
       "    }\n",
       "\n",
       "    .dataframe tbody tr th {\n",
       "        vertical-align: top;\n",
       "    }\n",
       "\n",
       "    .dataframe thead th {\n",
       "        text-align: right;\n",
       "    }\n",
       "</style>\n",
       "<table border=\"1\" class=\"dataframe\">\n",
       "  <thead>\n",
       "    <tr style=\"text-align: right;\">\n",
       "      <th></th>\n",
       "      <th>VendorID</th>\n",
       "      <th>tpep_pickup_datetime</th>\n",
       "      <th>tpep_dropoff_datetime</th>\n",
       "      <th>passenger_count</th>\n",
       "      <th>trip_distance</th>\n",
       "      <th>RatecodeID</th>\n",
       "      <th>store_and_fwd_flag</th>\n",
       "      <th>PULocationID</th>\n",
       "      <th>DOLocationID</th>\n",
       "      <th>payment_type</th>\n",
       "      <th>...</th>\n",
       "      <th>minute_pickup</th>\n",
       "      <th>seconds_pickup</th>\n",
       "      <th>jour_dropoff</th>\n",
       "      <th>mois_dropoff</th>\n",
       "      <th>annee_dropoff</th>\n",
       "      <th>heure_dropoff</th>\n",
       "      <th>minute_dropoff</th>\n",
       "      <th>seconds_dropoff</th>\n",
       "      <th>duree_trajet</th>\n",
       "      <th>duree_trajet_minute</th>\n",
       "    </tr>\n",
       "  </thead>\n",
       "  <tbody>\n",
       "    <tr>\n",
       "      <th>1</th>\n",
       "      <td>1</td>\n",
       "      <td>2020-05-01 00:23:21</td>\n",
       "      <td>2020-05-01 00:26:01</td>\n",
       "      <td>2</td>\n",
       "      <td>0.4</td>\n",
       "      <td>1</td>\n",
       "      <td>0</td>\n",
       "      <td>264</td>\n",
       "      <td>264</td>\n",
       "      <td>1</td>\n",
       "      <td>...</td>\n",
       "      <td>23</td>\n",
       "      <td>21</td>\n",
       "      <td>1</td>\n",
       "      <td>5</td>\n",
       "      <td>2020</td>\n",
       "      <td>0</td>\n",
       "      <td>26</td>\n",
       "      <td>1</td>\n",
       "      <td>0 days 00:02:40</td>\n",
       "      <td>3.0</td>\n",
       "    </tr>\n",
       "    <tr>\n",
       "      <th>2</th>\n",
       "      <td>1</td>\n",
       "      <td>2020-05-01 00:54:58</td>\n",
       "      <td>2020-05-01 00:57:11</td>\n",
       "      <td>1</td>\n",
       "      <td>0.3</td>\n",
       "      <td>1</td>\n",
       "      <td>0</td>\n",
       "      <td>264</td>\n",
       "      <td>264</td>\n",
       "      <td>2</td>\n",
       "      <td>...</td>\n",
       "      <td>54</td>\n",
       "      <td>58</td>\n",
       "      <td>1</td>\n",
       "      <td>5</td>\n",
       "      <td>2020</td>\n",
       "      <td>0</td>\n",
       "      <td>57</td>\n",
       "      <td>11</td>\n",
       "      <td>0 days 00:02:13</td>\n",
       "      <td>2.0</td>\n",
       "    </tr>\n",
       "    <tr>\n",
       "      <th>3</th>\n",
       "      <td>1</td>\n",
       "      <td>2020-05-01 00:07:10</td>\n",
       "      <td>2020-05-01 00:12:46</td>\n",
       "      <td>1</td>\n",
       "      <td>1.7</td>\n",
       "      <td>1</td>\n",
       "      <td>0</td>\n",
       "      <td>107</td>\n",
       "      <td>229</td>\n",
       "      <td>2</td>\n",
       "      <td>...</td>\n",
       "      <td>7</td>\n",
       "      <td>10</td>\n",
       "      <td>1</td>\n",
       "      <td>5</td>\n",
       "      <td>2020</td>\n",
       "      <td>0</td>\n",
       "      <td>12</td>\n",
       "      <td>46</td>\n",
       "      <td>0 days 00:05:36</td>\n",
       "      <td>6.0</td>\n",
       "    </tr>\n",
       "    <tr>\n",
       "      <th>4</th>\n",
       "      <td>1</td>\n",
       "      <td>2020-05-01 00:55:47</td>\n",
       "      <td>2020-05-01 01:01:54</td>\n",
       "      <td>0</td>\n",
       "      <td>0.9</td>\n",
       "      <td>1</td>\n",
       "      <td>0</td>\n",
       "      <td>237</td>\n",
       "      <td>262</td>\n",
       "      <td>1</td>\n",
       "      <td>...</td>\n",
       "      <td>55</td>\n",
       "      <td>47</td>\n",
       "      <td>1</td>\n",
       "      <td>5</td>\n",
       "      <td>2020</td>\n",
       "      <td>1</td>\n",
       "      <td>1</td>\n",
       "      <td>54</td>\n",
       "      <td>0 days 00:06:07</td>\n",
       "      <td>6.0</td>\n",
       "    </tr>\n",
       "    <tr>\n",
       "      <th>5</th>\n",
       "      <td>1</td>\n",
       "      <td>2020-05-01 00:38:37</td>\n",
       "      <td>2020-05-01 01:03:08</td>\n",
       "      <td>0</td>\n",
       "      <td>12.0</td>\n",
       "      <td>1</td>\n",
       "      <td>0</td>\n",
       "      <td>140</td>\n",
       "      <td>28</td>\n",
       "      <td>1</td>\n",
       "      <td>...</td>\n",
       "      <td>38</td>\n",
       "      <td>37</td>\n",
       "      <td>1</td>\n",
       "      <td>5</td>\n",
       "      <td>2020</td>\n",
       "      <td>1</td>\n",
       "      <td>3</td>\n",
       "      <td>8</td>\n",
       "      <td>0 days 00:24:31</td>\n",
       "      <td>25.0</td>\n",
       "    </tr>\n",
       "  </tbody>\n",
       "</table>\n",
       "<p>5 rows × 25 columns</p>\n",
       "</div>"
      ],
      "text/plain": [
       "   VendorID tpep_pickup_datetime tpep_dropoff_datetime  passenger_count  \\\n",
       "1         1  2020-05-01 00:23:21   2020-05-01 00:26:01                2   \n",
       "2         1  2020-05-01 00:54:58   2020-05-01 00:57:11                1   \n",
       "3         1  2020-05-01 00:07:10   2020-05-01 00:12:46                1   \n",
       "4         1  2020-05-01 00:55:47   2020-05-01 01:01:54                0   \n",
       "5         1  2020-05-01 00:38:37   2020-05-01 01:03:08                0   \n",
       "\n",
       "   trip_distance  RatecodeID  store_and_fwd_flag  PULocationID  DOLocationID  \\\n",
       "1            0.4           1                   0           264           264   \n",
       "2            0.3           1                   0           264           264   \n",
       "3            1.7           1                   0           107           229   \n",
       "4            0.9           1                   0           237           262   \n",
       "5           12.0           1                   0           140            28   \n",
       "\n",
       "   payment_type  ...  minute_pickup  seconds_pickup  jour_dropoff  \\\n",
       "1             1  ...             23              21             1   \n",
       "2             2  ...             54              58             1   \n",
       "3             2  ...              7              10             1   \n",
       "4             1  ...             55              47             1   \n",
       "5             1  ...             38              37             1   \n",
       "\n",
       "   mois_dropoff  annee_dropoff  heure_dropoff  minute_dropoff  \\\n",
       "1             5           2020              0              26   \n",
       "2             5           2020              0              57   \n",
       "3             5           2020              0              12   \n",
       "4             5           2020              1               1   \n",
       "5             5           2020              1               3   \n",
       "\n",
       "   seconds_dropoff    duree_trajet  duree_trajet_minute  \n",
       "1                1 0 days 00:02:40                  3.0  \n",
       "2               11 0 days 00:02:13                  2.0  \n",
       "3               46 0 days 00:05:36                  6.0  \n",
       "4               54 0 days 00:06:07                  6.0  \n",
       "5                8 0 days 00:24:31                 25.0  \n",
       "\n",
       "[5 rows x 25 columns]"
      ]
     },
     "execution_count": 54,
     "metadata": {},
     "output_type": "execute_result"
    }
   ],
   "source": [
    "taxi.head()"
   ]
  },
  {
   "cell_type": "markdown",
   "id": "986caef1",
   "metadata": {},
   "source": [
    "Maintenant qu'on a fait nos extractions, on supprime les datetime du dataframe."
   ]
  },
  {
   "cell_type": "code",
   "execution_count": 55,
   "id": "6f6e80b5",
   "metadata": {},
   "outputs": [],
   "source": [
    "taxi.drop(['tpep_pickup_datetime', 'tpep_dropoff_datetime', 'duree_trajet'],\n",
    "         axis = 1,\n",
    "         inplace = True)"
   ]
  },
  {
   "cell_type": "code",
   "execution_count": 56,
   "id": "2de1e61a",
   "metadata": {
    "scrolled": true
   },
   "outputs": [
    {
     "data": {
      "text/html": [
       "<div>\n",
       "<style scoped>\n",
       "    .dataframe tbody tr th:only-of-type {\n",
       "        vertical-align: middle;\n",
       "    }\n",
       "\n",
       "    .dataframe tbody tr th {\n",
       "        vertical-align: top;\n",
       "    }\n",
       "\n",
       "    .dataframe thead th {\n",
       "        text-align: right;\n",
       "    }\n",
       "</style>\n",
       "<table border=\"1\" class=\"dataframe\">\n",
       "  <thead>\n",
       "    <tr style=\"text-align: right;\">\n",
       "      <th></th>\n",
       "      <th>VendorID</th>\n",
       "      <th>passenger_count</th>\n",
       "      <th>trip_distance</th>\n",
       "      <th>RatecodeID</th>\n",
       "      <th>store_and_fwd_flag</th>\n",
       "      <th>PULocationID</th>\n",
       "      <th>DOLocationID</th>\n",
       "      <th>payment_type</th>\n",
       "      <th>total_amount</th>\n",
       "      <th>jour_pickup</th>\n",
       "      <th>...</th>\n",
       "      <th>heure_pickup</th>\n",
       "      <th>minute_pickup</th>\n",
       "      <th>seconds_pickup</th>\n",
       "      <th>jour_dropoff</th>\n",
       "      <th>mois_dropoff</th>\n",
       "      <th>annee_dropoff</th>\n",
       "      <th>heure_dropoff</th>\n",
       "      <th>minute_dropoff</th>\n",
       "      <th>seconds_dropoff</th>\n",
       "      <th>duree_trajet_minute</th>\n",
       "    </tr>\n",
       "  </thead>\n",
       "  <tbody>\n",
       "    <tr>\n",
       "      <th>1</th>\n",
       "      <td>1</td>\n",
       "      <td>2</td>\n",
       "      <td>0.4</td>\n",
       "      <td>1</td>\n",
       "      <td>0</td>\n",
       "      <td>264</td>\n",
       "      <td>264</td>\n",
       "      <td>1</td>\n",
       "      <td>5.8</td>\n",
       "      <td>1</td>\n",
       "      <td>...</td>\n",
       "      <td>0</td>\n",
       "      <td>23</td>\n",
       "      <td>21</td>\n",
       "      <td>1</td>\n",
       "      <td>5</td>\n",
       "      <td>2020</td>\n",
       "      <td>0</td>\n",
       "      <td>26</td>\n",
       "      <td>1</td>\n",
       "      <td>3.0</td>\n",
       "    </tr>\n",
       "    <tr>\n",
       "      <th>2</th>\n",
       "      <td>1</td>\n",
       "      <td>1</td>\n",
       "      <td>0.3</td>\n",
       "      <td>1</td>\n",
       "      <td>0</td>\n",
       "      <td>264</td>\n",
       "      <td>264</td>\n",
       "      <td>2</td>\n",
       "      <td>4.8</td>\n",
       "      <td>1</td>\n",
       "      <td>...</td>\n",
       "      <td>0</td>\n",
       "      <td>54</td>\n",
       "      <td>58</td>\n",
       "      <td>1</td>\n",
       "      <td>5</td>\n",
       "      <td>2020</td>\n",
       "      <td>0</td>\n",
       "      <td>57</td>\n",
       "      <td>11</td>\n",
       "      <td>2.0</td>\n",
       "    </tr>\n",
       "    <tr>\n",
       "      <th>3</th>\n",
       "      <td>1</td>\n",
       "      <td>1</td>\n",
       "      <td>1.7</td>\n",
       "      <td>1</td>\n",
       "      <td>0</td>\n",
       "      <td>107</td>\n",
       "      <td>229</td>\n",
       "      <td>2</td>\n",
       "      <td>10.8</td>\n",
       "      <td>1</td>\n",
       "      <td>...</td>\n",
       "      <td>0</td>\n",
       "      <td>7</td>\n",
       "      <td>10</td>\n",
       "      <td>1</td>\n",
       "      <td>5</td>\n",
       "      <td>2020</td>\n",
       "      <td>0</td>\n",
       "      <td>12</td>\n",
       "      <td>46</td>\n",
       "      <td>6.0</td>\n",
       "    </tr>\n",
       "    <tr>\n",
       "      <th>4</th>\n",
       "      <td>1</td>\n",
       "      <td>0</td>\n",
       "      <td>0.9</td>\n",
       "      <td>1</td>\n",
       "      <td>0</td>\n",
       "      <td>237</td>\n",
       "      <td>262</td>\n",
       "      <td>1</td>\n",
       "      <td>11.0</td>\n",
       "      <td>1</td>\n",
       "      <td>...</td>\n",
       "      <td>0</td>\n",
       "      <td>55</td>\n",
       "      <td>47</td>\n",
       "      <td>1</td>\n",
       "      <td>5</td>\n",
       "      <td>2020</td>\n",
       "      <td>1</td>\n",
       "      <td>1</td>\n",
       "      <td>54</td>\n",
       "      <td>6.0</td>\n",
       "    </tr>\n",
       "    <tr>\n",
       "      <th>5</th>\n",
       "      <td>1</td>\n",
       "      <td>0</td>\n",
       "      <td>12.0</td>\n",
       "      <td>1</td>\n",
       "      <td>0</td>\n",
       "      <td>140</td>\n",
       "      <td>28</td>\n",
       "      <td>1</td>\n",
       "      <td>39.3</td>\n",
       "      <td>1</td>\n",
       "      <td>...</td>\n",
       "      <td>0</td>\n",
       "      <td>38</td>\n",
       "      <td>37</td>\n",
       "      <td>1</td>\n",
       "      <td>5</td>\n",
       "      <td>2020</td>\n",
       "      <td>1</td>\n",
       "      <td>3</td>\n",
       "      <td>8</td>\n",
       "      <td>25.0</td>\n",
       "    </tr>\n",
       "  </tbody>\n",
       "</table>\n",
       "<p>5 rows × 22 columns</p>\n",
       "</div>"
      ],
      "text/plain": [
       "   VendorID  passenger_count  trip_distance  RatecodeID  store_and_fwd_flag  \\\n",
       "1         1                2            0.4           1                   0   \n",
       "2         1                1            0.3           1                   0   \n",
       "3         1                1            1.7           1                   0   \n",
       "4         1                0            0.9           1                   0   \n",
       "5         1                0           12.0           1                   0   \n",
       "\n",
       "   PULocationID  DOLocationID  payment_type  total_amount  jour_pickup  ...  \\\n",
       "1           264           264             1           5.8            1  ...   \n",
       "2           264           264             2           4.8            1  ...   \n",
       "3           107           229             2          10.8            1  ...   \n",
       "4           237           262             1          11.0            1  ...   \n",
       "5           140            28             1          39.3            1  ...   \n",
       "\n",
       "   heure_pickup  minute_pickup  seconds_pickup  jour_dropoff  mois_dropoff  \\\n",
       "1             0             23              21             1             5   \n",
       "2             0             54              58             1             5   \n",
       "3             0              7              10             1             5   \n",
       "4             0             55              47             1             5   \n",
       "5             0             38              37             1             5   \n",
       "\n",
       "   annee_dropoff  heure_dropoff  minute_dropoff  seconds_dropoff  \\\n",
       "1           2020              0              26                1   \n",
       "2           2020              0              57               11   \n",
       "3           2020              0              12               46   \n",
       "4           2020              1               1               54   \n",
       "5           2020              1               3                8   \n",
       "\n",
       "   duree_trajet_minute  \n",
       "1                  3.0  \n",
       "2                  2.0  \n",
       "3                  6.0  \n",
       "4                  6.0  \n",
       "5                 25.0  \n",
       "\n",
       "[5 rows x 22 columns]"
      ]
     },
     "execution_count": 56,
     "metadata": {},
     "output_type": "execute_result"
    }
   ],
   "source": [
    "taxi.head()"
   ]
  },
  {
   "cell_type": "code",
   "execution_count": 57,
   "id": "42492126",
   "metadata": {},
   "outputs": [
    {
     "data": {
      "text/plain": [
       "VendorID                 int64\n",
       "passenger_count          int64\n",
       "trip_distance          float64\n",
       "RatecodeID               int64\n",
       "store_and_fwd_flag       int64\n",
       "PULocationID             int64\n",
       "DOLocationID             int64\n",
       "payment_type             int64\n",
       "total_amount           float64\n",
       "jour_pickup              int64\n",
       "mois_pickup              int64\n",
       "annee_pickup             int64\n",
       "heure_pickup             int64\n",
       "minute_pickup            int64\n",
       "seconds_pickup           int64\n",
       "jour_dropoff             int64\n",
       "mois_dropoff             int64\n",
       "annee_dropoff            int64\n",
       "heure_dropoff            int64\n",
       "minute_dropoff           int64\n",
       "seconds_dropoff          int64\n",
       "duree_trajet_minute    float64\n",
       "dtype: object"
      ]
     },
     "execution_count": 57,
     "metadata": {},
     "output_type": "execute_result"
    }
   ],
   "source": [
    "taxi.dtypes"
   ]
  },
  {
   "cell_type": "code",
   "execution_count": 58,
   "id": "a6293ef4",
   "metadata": {},
   "outputs": [
    {
     "data": {
      "text/plain": [
       "(279052, 22)"
      ]
     },
     "execution_count": 58,
     "metadata": {},
     "output_type": "execute_result"
    }
   ],
   "source": [
    "taxi.shape"
   ]
  },
  {
   "cell_type": "markdown",
   "id": "6d48aa36",
   "metadata": {},
   "source": [
    "# 3. Construction modèle\n",
    "\n",
    "SKlearn nous permet de créer des modèles très simplement, en suivant une démarche de travail qui est la même pour chacun des modèles que cette libraire offre:\n",
    "\n",
    "- on instancie un objet avec un modèle de machine learning\n",
    "- on entraîne le modèle: model.fit(x_train, y_train) \n",
    "- on évalue le modèle: model.score(x_train, y_train, ou x_test, y_test)\n",
    "- notre prediction: model.predict() \n",
    "\n",
    "Notre target 'total_amount' étant une variable de type quantitative, nous avons affaire à un problème de régression supervisée, il convient donc d'utiliser des modèles de régression."
   ]
  },
  {
   "cell_type": "markdown",
   "id": "f1e7096b",
   "metadata": {},
   "source": [
    "On peut commencer par afficher la matrice de corrélation des différents variables à l'aide d'une heatmap."
   ]
  },
  {
   "cell_type": "code",
   "execution_count": 59,
   "id": "e9a10732",
   "metadata": {},
   "outputs": [
    {
     "data": {
      "text/plain": [
       "<AxesSubplot:>"
      ]
     },
     "execution_count": 59,
     "metadata": {},
     "output_type": "execute_result"
    },
    {
     "data": {
      "image/png": "[encoded data removed]",
      "text/plain": [
       "<Figure size 1800x720 with 2 Axes>"
      ]
     },
     "metadata": {},
     "output_type": "display_data"
    }
   ],
   "source": [
    "plt.subplots(figsize = (25, 10))\n",
    "\n",
    "corr = taxi.corr()\n",
    "mask = np.triu(np.ones_like(corr, dtype=bool))\n",
    "cmap = sns.diverging_palette(230, 20, as_cmap=True)\n",
    "\n",
    "sns.heatmap(corr, annot = True, mask = mask, cmap = cmap)"
   ]
  },
  {
   "cell_type": "markdown",
   "id": "5b7a3706",
   "metadata": {},
   "source": [
    "Hormis les variables temporelles, on peut voir ici que la variable 'total_amount' et 'trip_distance' ont une forte corrélation positive (0.9).<br/>\n",
    "Comparée aux autres variables, on peut dire que le 'rate_code_id' présente une bonne corrélation également."
   ]
  },
  {
   "cell_type": "markdown",
   "id": "b2884c03",
   "metadata": {},
   "source": [
    "On peut voir le même aperçu sous forme de tableau, en réalisant un tri décroissant par rapport à la corrélation."
   ]
  },
  {
   "cell_type": "code",
   "execution_count": 60,
   "id": "70c81fc3",
   "metadata": {},
   "outputs": [
    {
     "data": {
      "text/plain": [
       "total_amount           1.000000\n",
       "trip_distance          0.899965\n",
       "RatecodeID             0.306866\n",
       "duree_trajet_minute    0.146806\n",
       "heure_dropoff          0.060804\n",
       "heure_pickup           0.049633\n",
       "VendorID               0.035674\n",
       "jour_pickup            0.023144\n",
       "jour_dropoff           0.023106\n",
       "mois_dropoff           0.006977\n",
       "passenger_count        0.006714\n",
       "store_and_fwd_flag     0.001345\n",
       "seconds_pickup         0.001240\n",
       "seconds_dropoff        0.000190\n",
       "mois_pickup           -0.001541\n",
       "minute_dropoff        -0.004449\n",
       "minute_pickup         -0.011855\n",
       "PULocationID          -0.021557\n",
       "DOLocationID          -0.025044\n",
       "payment_type          -0.126468\n",
       "annee_pickup                NaN\n",
       "annee_dropoff               NaN\n",
       "Name: total_amount, dtype: float64"
      ]
     },
     "execution_count": 60,
     "metadata": {},
     "output_type": "execute_result"
    }
   ],
   "source": [
    "taxi.corr()['total_amount'].sort_values(ascending = False)"
   ]
  },
  {
   "cell_type": "markdown",
   "id": "d1ba6ed0",
   "metadata": {},
   "source": [
    "'total_amount' est corrélée à 89% avec 'trip_distance'."
   ]
  },
  {
   "cell_type": "markdown",
   "id": "865629f6",
   "metadata": {},
   "source": [
    "On peut dans un premier temps visualiser une courbe de régression dans un nuage de point."
   ]
  },
  {
   "cell_type": "code",
   "execution_count": 61,
   "id": "677d2d02",
   "metadata": {},
   "outputs": [
    {
     "data": {
      "text/plain": [
       "<seaborn.axisgrid.FacetGrid at 0x21967cffa00>"
      ]
     },
     "execution_count": 61,
     "metadata": {},
     "output_type": "execute_result"
    },
    {
     "data": {
      "image/png": "[encoded data removed]",
      "text/plain": [
       "<Figure size 360x360 with 1 Axes>"
      ]
     },
     "metadata": {},
     "output_type": "display_data"
    }
   ],
   "source": [
    "# lmplot: visualiser des courbes de régression dans un nuage de point\n",
    "sns.lmplot(x = 'total_amount', y = 'trip_distance', data = taxi)"
   ]
  },
  {
   "cell_type": "markdown",
   "id": "4f9e1123",
   "metadata": {},
   "source": [
    "En visualisant ces données, on pourrait dire que pour les clients payent en général moins de 300$ pour les trajets inférieur à 100 miles."
   ]
  },
  {
   "cell_type": "markdown",
   "id": "c0a73a5f",
   "metadata": {},
   "source": [
    "## 3.1 Régression linéaire multiple\n",
    "\n",
    "On peut utiliser un modèle de régression linéaire pour notre premier modèle. Ayant plusieurs features, on peut faire un modèle de régression linéaire multiple, qui nous permettra de prédire notre target 'total_amount' selon ses differentes features.\n",
    "\n",
    "#### Mode de fonctionnement\n",
    "\n",
    "Note: la régression linéaire multiple fonctionne de la même manière qu'une régression linéaire classique, avec de multiples features supplémentaires.\n",
    "\n",
    "Le but d'une régresion linéaire consiste à calculer la relation entre deux variables. Il y a donc une corrélation directe entre les deux variables, la relation étant représentée par une droite. La variable indépendante nous permet d'expliquer le comportement de la variable dépendante, car le modèle admet que cette dernière est une résultante directe de la variable indépendante.<br/>\n",
    "\n",
    "#### L'équation mathématique de ce modèle: \n",
    "y = b * x + a\n",
    "- y: la variable dépendante\n",
    "- x: la variable indépendante\n",
    "- a et b: des coefficients permettant la détermination de la pente et de l'intercept\n",
    "\n",
    "#### Le calcul des coefficients\n",
    "\n",
    "Les coefficients sont calculés de tels sortes à minimiser l'erreur entre la prédiction et la donnée entraînée. Pour chaque x, l'erreur est calculée suivant ce procédé:\n",
    "- on résout l'équation pour calculer la prédiction de chaque x\n",
    "- on calcul l'erreur pour chaque x\n",
    "- on somme les erreurs\n",
    "\n",
    "L'erreur pouvant portée des valeurs négatives, on l'élève au carré pour avoir des valeurs positives et ainsi ne pas fausser la précision du modèle.\n",
    "\n",
    "Pour évaluer notre modèle, on se réfère au r2, qui démontre la qualité du modèle. Il est calculé en sommant les erreurs carrés rapporté à la variation totale."
   ]
  },
  {
   "cell_type": "markdown",
   "id": "af3fc4ac",
   "metadata": {},
   "source": [
    "La première étape consiste à découper notre dataset de façon aléatoire afin d'allouer des données aux subset de train et de test. On utilisera ces subsets pour le reste des modèles."
   ]
  },
  {
   "cell_type": "code",
   "execution_count": 62,
   "id": "43ec43d3",
   "metadata": {},
   "outputs": [],
   "source": [
    "# on ne garde que la target dans le y\n",
    "y = taxi['total_amount']\n",
    "\n",
    "# on garde toutes les feaatures dans le x\n",
    "x = taxi.drop(['total_amount'],\n",
    "             axis = 1)\n",
    "\n",
    "# on sépare notre base de travail avec un dataset de test à 0.25\n",
    "x_train, x_test, y_train, y_test  = train_test_split(x, \n",
    "                                                     y, \n",
    "                                                     test_size = 0.25, \n",
    "                                                     random_state = 0)"
   ]
  },
  {
   "cell_type": "markdown",
   "id": "2b607973",
   "metadata": {},
   "source": [
    "On instancie un objet LinearRegression et on entraîne le modèle."
   ]
  },
  {
   "cell_type": "code",
   "execution_count": 63,
   "id": "1d367f6b",
   "metadata": {},
   "outputs": [
    {
     "data": {
      "text/html": [
       "<style>#sk-container-id-1 {color: black;background-color: white;}#sk-container-id-1 pre{padding: 0;}#sk-container-id-1 div.sk-toggleable {background-color: white;}#sk-container-id-1 label.sk-toggleable__label {cursor: pointer;display: block;width: 100%;margin-bottom: 0;padding: 0.3em;box-sizing: border-box;text-align: center;}#sk-container-id-1 label.sk-toggleable__label-arrow:before {content: \"▸\";float: left;margin-right: 0.25em;color: #696969;}#sk-container-id-1 label.sk-toggleable__label-arrow:hover:before {color: black;}#sk-container-id-1 div.sk-estimator:hover label.sk-toggleable__label-arrow:before {color: black;}#sk-container-id-1 div.sk-toggleable__content {max-height: 0;max-width: 0;overflow: hidden;text-align: left;background-color: #f0f8ff;}#sk-container-id-1 div.sk-toggleable__content pre {margin: 0.2em;color: black;border-radius: 0.25em;background-color: #f0f8ff;}#sk-container-id-1 input.sk-toggleable__control:checked~div.sk-toggleable__content {max-height: 200px;max-width: 100%;overflow: auto;}#sk-container-id-1 input.sk-toggleable__control:checked~label.sk-toggleable__label-arrow:before {content: \"▾\";}#sk-container-id-1 div.sk-estimator input.sk-toggleable__control:checked~label.sk-toggleable__label {background-color: #d4ebff;}#sk-container-id-1 div.sk-label input.sk-toggleable__control:checked~label.sk-toggleable__label {background-color: #d4ebff;}#sk-container-id-1 input.sk-hidden--visually {border: 0;clip: rect(1px 1px 1px 1px);clip: rect(1px, 1px, 1px, 1px);height: 1px;margin: -1px;overflow: hidden;padding: 0;position: absolute;width: 1px;}#sk-container-id-1 div.sk-estimator {font-family: monospace;background-color: #f0f8ff;border: 1px dotted black;border-radius: 0.25em;box-sizing: border-box;margin-bottom: 0.5em;}#sk-container-id-1 div.sk-estimator:hover {background-color: #d4ebff;}#sk-container-id-1 div.sk-parallel-item::after {content: \"\";width: 100%;border-bottom: 1px solid gray;flex-grow: 1;}#sk-container-id-1 div.sk-label:hover label.sk-toggleable__label {background-color: #d4ebff;}#sk-container-id-1 div.sk-serial::before {content: \"\";position: absolute;border-left: 1px solid gray;box-sizing: border-box;top: 0;bottom: 0;left: 50%;z-index: 0;}#sk-container-id-1 div.sk-serial {display: flex;flex-direction: column;align-items: center;background-color: white;padding-right: 0.2em;padding-left: 0.2em;position: relative;}#sk-container-id-1 div.sk-item {position: relative;z-index: 1;}#sk-container-id-1 div.sk-parallel {display: flex;align-items: stretch;justify-content: center;background-color: white;position: relative;}#sk-container-id-1 div.sk-item::before, #sk-container-id-1 div.sk-parallel-item::before {content: \"\";position: absolute;border-left: 1px solid gray;box-sizing: border-box;top: 0;bottom: 0;left: 50%;z-index: -1;}#sk-container-id-1 div.sk-parallel-item {display: flex;flex-direction: column;z-index: 1;position: relative;background-color: white;}#sk-container-id-1 div.sk-parallel-item:first-child::after {align-self: flex-end;width: 50%;}#sk-container-id-1 div.sk-parallel-item:last-child::after {align-self: flex-start;width: 50%;}#sk-container-id-1 div.sk-parallel-item:only-child::after {width: 0;}#sk-container-id-1 div.sk-dashed-wrapped {border: 1px dashed gray;margin: 0 0.4em 0.5em 0.4em;box-sizing: border-box;padding-bottom: 0.4em;background-color: white;}#sk-container-id-1 div.sk-label label {font-family: monospace;font-weight: bold;display: inline-block;line-height: 1.2em;}#sk-container-id-1 div.sk-label-container {text-align: center;}#sk-container-id-1 div.sk-container {/* jupyter's `normalize.less` sets `[hidden] { display: none; }` but bootstrap.min.css set `[hidden] { display: none !important; }` so we also need the `!important` here to be able to override the default hidden behavior on the sphinx rendered scikit-learn.org. See: https://github.com/scikit-learn/scikit-learn/issues/21755 */display: inline-block !important;position: relative;}#sk-container-id-1 div.sk-text-repr-fallback {display: none;}</style><div id=\"sk-container-id-1\" class=\"sk-top-container\"><div class=\"sk-text-repr-fallback\"><pre>LinearRegression()</pre><b>In a Jupyter environment, please rerun this cell to show the HTML representation or trust the notebook. <br />On GitHub, the HTML representation is unable to render, please try loading this page with nbviewer.org.</b></div><div class=\"sk-container\" hidden><div class=\"sk-item\"><div class=\"sk-estimator sk-toggleable\"><input class=\"sk-toggleable__control sk-hidden--visually\" id=\"sk-estimator-id-1\" type=\"checkbox\" checked><label for=\"sk-estimator-id-1\" class=\"sk-toggleable__label sk-toggleable__label-arrow\">LinearRegression</label><div class=\"sk-toggleable__content\"><pre>LinearRegression()</pre></div></div></div></div></div>"
      ],
      "text/plain": [
       "LinearRegression()"
      ]
     },
     "execution_count": 63,
     "metadata": {},
     "output_type": "execute_result"
    }
   ],
   "source": [
    "regression_lineaire = LinearRegression()\n",
    "regression_lineaire.fit(x_train, y_train)"
   ]
  },
  {
   "cell_type": "markdown",
   "id": "ece8cd39",
   "metadata": {},
   "source": [
    "On peut réaliser la prédiction."
   ]
  },
  {
   "cell_type": "code",
   "execution_count": 64,
   "id": "0e61e4e6",
   "metadata": {
    "scrolled": true
   },
   "outputs": [
    {
     "data": {
      "text/plain": [
       "array([ 9.84316658,  8.0272048 , 15.04344605, ..., 62.10874797,\n",
       "       17.02148234,  8.348246  ])"
      ]
     },
     "execution_count": 64,
     "metadata": {},
     "output_type": "execute_result"
    }
   ],
   "source": [
    "y_predict = regression_lineaire.predict(x_test)\n",
    "y_predict"
   ]
  },
  {
   "cell_type": "markdown",
   "id": "c3e9ae2c",
   "metadata": {},
   "source": [
    "On calcul ensuite le score."
   ]
  },
  {
   "cell_type": "code",
   "execution_count": 65,
   "id": "f6ca3c71",
   "metadata": {},
   "outputs": [
    {
     "name": "stdout",
     "output_type": "stream",
     "text": [
      "Le R2: 0.7522285841559091, on constate que le modèle s'ajuste assez bien aux données.\n",
      "Mean squared error: 44.50563463712442.\n",
      "Racine mean squared error: 6.671254352602996.\n"
     ]
    }
   ],
   "source": [
    "score = r2_score(y_test, y_predict)\n",
    "\n",
    "resultat = (\n",
    "    f\"Le R2: {score}, on constate que le modèle s'ajuste assez bien aux données.\\n\" \n",
    "    f\"Mean squared error: {mean_squared_error(y_test, y_predict)}.\\n\"\n",
    "    f\"Racine mean squared error: {np.sqrt(mean_squared_error(y_test,y_predict))}.\")\n",
    "print(resultat)"
   ]
  },
  {
   "cell_type": "markdown",
   "id": "d0253374",
   "metadata": {},
   "source": [
    "Le MSE nous permet de dire que, pour une prédiction, on a un différentiel d'environ 44 entre la prédiction et la vraie valeur."
   ]
  },
  {
   "cell_type": "markdown",
   "id": "0b815b96",
   "metadata": {},
   "source": [
    "Le R2 nous permet de dire que c'est un bon modèle car il est proche de 1."
   ]
  },
  {
   "cell_type": "markdown",
   "id": "b688a155",
   "metadata": {},
   "source": [
    "## 3.2 Arbre de décision\n",
    "\n",
    "Les arbres de décision peuvent être utilisée à la fois pour des problèmes de classification et des problèmes de régresssion.\n",
    "\n",
    "#### Mode de fonctionnement\n",
    "\n",
    "Un arbre de décision est composé de noeuds et de branches. A chaque noeud, on évalue une feature afin de pouvoir créer un 'split', c'est-à-dire qu'on créer un embranchement qui va aboutir à un chemin différent. Les arbres sont construits en évaluant chaque feature de façon récursive, donc on répète le process pour chaque feature, et on créer des noeuds qui split aux mieux le subset.<br/>\n",
    "Ceci se fait en calculant une mesure (MSE, résidu, etc...) pour la régression et en déterminant des seuils. Chaque noeud correspond ainsi à la meilleure combinaison entre la mesure et le seuil. \n",
    "\n",
    "#### Structure d'un arbre\n",
    "\n",
    "- noeud racine: la racine de l'arbre, on part de lui pour déterminer nos splits\n",
    "- noeud intermédiaire: noeuds pour lesquelles on évalue nos features, mais ce ne sont pas les noeuds finaux pour la prédiction\n",
    "- feuille d'un noeud: noeud final, la prédiction se fait ici\n",
    "\n",
    "Pour évaluer notre modèle, on se réfère au r2, qui démontre la qualité du modèle.\n",
    "\n",
    "Note: on n'affichera pas d'arbre pour ce modèle, car les arbres de décision concernant les régressions ne sont que peu lisibles, donc difficilé à analyser et interpreter."
   ]
  },
  {
   "cell_type": "code",
   "execution_count": 66,
   "id": "c7ccbfd7",
   "metadata": {},
   "outputs": [
    {
     "name": "stdout",
     "output_type": "stream",
     "text": [
      "R carré train: 1.0.\n",
      "R carré test: 0.8092030512873849.\n",
      "Mean Squared Error: 34.27166632742284.\n",
      "Racine de Mean Squared Error: 5.85420074198202\n"
     ]
    }
   ],
   "source": [
    "arbre_regression = DecisionTreeRegressor(random_state = 0)\n",
    "arbre_regression.fit(x_train, y_train)\n",
    "\n",
    "score = arbre_regression.score(x_train, y_train)\n",
    "score_test = arbre_regression.score(x_test, y_test)\n",
    "\n",
    "y_pred = arbre_regression.predict(x_test)\n",
    "\n",
    "mse = mean_squared_error(y_test, y_pred)\n",
    "\n",
    "result = (\n",
    "    f\"R carré train: {score}.\\n\"\n",
    "    f\"R carré test: {score_test}.\\n\"\n",
    "    f\"Mean Squared Error: {mse}.\\n\"\n",
    "    f\"Racine de Mean Squared Error: {np.sqrt(mse)}\")\n",
    "\n",
    "print(result)"
   ]
  },
  {
   "cell_type": "markdown",
   "id": "1ed112c1",
   "metadata": {},
   "source": [
    "Avec un r carré égale à 1 sur le train set, on peut suspecter que notre modèle est sujet au phénomène de \"overfitting\", c'est-à-dire que notre modèle fit \"trop bien\" les données. On peut utiliser la méthode de validation croisée pour observer ce phénomène. <br/>\n",
    "\n",
    "Cross-validate sur 5: permet de train et test le modèle k fois (ici 5) sur différents subsets du train set afin de construire une estimation de la performance du modèle sur des données non-utilisées.<br/>\n",
    "\n",
    "Fonctionnement d'un cross-validation:<br/>\n",
    "- on partitionne notre dataset selon un nombre de subset (sous-dataset)<br/>\n",
    "- on met de côté un subset et on entraîne le modèle sur les subsets restants<br/>\n",
    "- on test le modèle sur le subset qu'on a mis de côté<br/>\n",
    "\n",
    "On répète ce fonctionnement sur chaque subset qu'on a créer."
   ]
  },
  {
   "cell_type": "code",
   "execution_count": 67,
   "id": "e8706992",
   "metadata": {},
   "outputs": [
    {
     "name": "stdout",
     "output_type": "stream",
     "text": [
      "[0.69525773 0.83227951 0.77096419 0.88961029 0.85598012 0.83116624\n",
      " 0.66615328 0.88164804 0.87004739 0.85092814]\n"
     ]
    }
   ],
   "source": [
    "precision_k_fold = cross_val_score(arbre_regression, x_train, y_train, cv = 10)\n",
    "print(precision_k_fold)"
   ]
  },
  {
   "cell_type": "markdown",
   "id": "333f5659",
   "metadata": {},
   "source": [
    "La précision du modèle est la moyenne de la précision de chaque fold."
   ]
  },
  {
   "cell_type": "code",
   "execution_count": 68,
   "id": "af6588ca",
   "metadata": {},
   "outputs": [
    {
     "data": {
      "text/plain": [
       "'Précision de chaque modèle avec la Cross-Validation: 81.44034920822232.'"
      ]
     },
     "execution_count": 68,
     "metadata": {},
     "output_type": "execute_result"
    }
   ],
   "source": [
    "f\"Précision de chaque modèle avec la Cross-Validation: {precision_k_fold.mean() * 100}.\""
   ]
  },
  {
   "cell_type": "code",
   "execution_count": 69,
   "id": "54567b9f",
   "metadata": {},
   "outputs": [
    {
     "name": "stdout",
     "output_type": "stream",
     "text": [
      "R carré train: 0.9582925569362368.\n",
      "R carré test: 0.8385946785738199.\n",
      "\n"
     ]
    }
   ],
   "source": [
    "reg_decision_model = DecisionTreeRegressor(max_depth = 10)\n",
    "\n",
    "reg_decision_model.fit(x_train, y_train)\n",
    "\n",
    "score = reg_decision_model.score(x_train, y_train)\n",
    "score_test = reg_decision_model.score(x_test, y_test)\n",
    "\n",
    "result = (\n",
    "    f\"R carré train: {score}.\\n\"\n",
    "    f\"R carré test: {score_test}.\\n\")\n",
    "\n",
    "print(result)"
   ]
  },
  {
   "cell_type": "code",
   "execution_count": null,
   "id": "25fdca18",
   "metadata": {
    "scrolled": false
   },
   "outputs": [
    {
     "data": {
      "image/png": "[encoded data removed]",
      "text/plain": [
       "<Figure size 1440x576 with 1 Axes>"
      ]
     },
     "metadata": {},
     "output_type": "display_data"
    }
   ],
   "source": [
    "x_ax = range(len(y_test))\n",
    "plt.figure(figsize=(20,8))\n",
    "plt.plot(x_ax, y_test, linewidth = 1, label = 'original')\n",
    "plt.plot(x_ax, y_pred, linewidth = 1, label = 'prediction')\n",
    "plt.title('Comparaison entre y_test et y_pred')\n",
    "plt.xlabel('x')\n",
    "plt.ylabel('y')\n",
    "plt.legend(loc = 'best', fancybox = True, shadow = True)\n",
    "plt.show()"
   ]
  },
  {
   "cell_type": "markdown",
   "id": "ef8af4b0",
   "metadata": {},
   "source": [
    "## 3.3 K plus proches voisins\n",
    "\n",
    "Les K plus proches voisins peuvent être utilisées à la fois pour des problèmes de classification et des problèmes de régresssion.\n",
    "\n",
    "#### Mode de fonctionnement\n",
    "\n",
    "En partant du principe que k représente le nombre de voisins, pour une régression, on prend la valeur moyenne des k points les plus proches. En d'autres termes, on observe la proximité des individus les uns par rapport aux autres. Cette dernière est donc déterminer par un calcul de distance.\n",
    "\n",
    "#### L'algorithme KNN\n",
    "- on charge le dataset\n",
    "- on initialise k le nombre de voisins\n",
    "- pour chaque valeur dans le dataset\n",
    "    - on calcule la distance entre les valeurs\n",
    "    - on ajoute la distance et l'index dans une collection ordonnée\n",
    "- on trie la collection de la plus petite à la plus grande distance\n",
    "- on prend le premier k\n",
    "- on récupère les labels du k qu'on a sélectionné\n",
    "- on retourne la moyenne des k labels\n",
    "\n",
    "Pour évaluer notre modèle, on se réfère au r2, qui démontre la qualité du modèle."
   ]
  },
  {
   "cell_type": "code",
   "execution_count": null,
   "id": "db3eb70d",
   "metadata": {},
   "outputs": [
    {
     "name": "stdout",
     "output_type": "stream",
     "text": [
      "R carré: 0.7942527068414751.\n",
      "Mean Squared Error: 69.15872002734973.\n",
      "Racine de Mean Squared Error: 8.316172198033764\n"
     ]
    }
   ],
   "source": [
    "# nombre de voisins égales à cinq\n",
    "k_neighbors = neighbors.KNeighborsRegressor(n_neighbors = 5)\n",
    "\n",
    "k_neighbors.fit(x_train, y_train) # fit le modèle\n",
    "\n",
    "score_neighbors = k_neighbors.score(x_train, y_train)\n",
    "\n",
    "\n",
    "prediction = k_neighbors.predict(x_test) # prédiction sur le test\n",
    "mse_neighbors = mean_squared_error(y_test, prediction)\n",
    "erreur = sqrt(mean_squared_error(y_test, prediction)) # calcul rmse\n",
    "\n",
    "resultat_forest = (\n",
    "    f\"R carré: {score_neighbors}.\\n\"\n",
    "    f\"Mean Squared Error: {mse_neighbors}.\\n\"\n",
    "    f\"Racine de Mean Squared Error: {erreur}\")\n",
    "\n",
    "print(resultat_forest)"
   ]
  },
  {
   "cell_type": "code",
   "execution_count": null,
   "id": "a918dbc0",
   "metadata": {},
   "outputs": [
    {
     "name": "stdout",
     "output_type": "stream",
     "text": [
      "Score train: 0.7942527068414751.\n",
      "Score test: 0.6149801228798142\n"
     ]
    }
   ],
   "source": [
    "output = (\n",
    "    f\"Score train: {k_neighbors.score(x_train, y_train)}.\\n\"\n",
    "    f\"Score test: {k_neighbors.score(x_test, y_test)}\")\n",
    "    \n",
    "print(output)"
   ]
  },
  {
   "cell_type": "markdown",
   "id": "8dbe774f",
   "metadata": {},
   "source": [
    "Validation curve pour trouver le modèle avec les meilleurs paramètres. Elle va itérer à travers les k, qui ici correspondent à nos nombres de voisins, pour trouver la meilleur valeur."
   ]
  },
  {
   "cell_type": "code",
   "execution_count": null,
   "id": "074b57d7",
   "metadata": {},
   "outputs": [
    {
     "ename": "KeyboardInterrupt",
     "evalue": "",
     "output_type": "error",
     "traceback": [
      "\u001b[1;31m---------------------------------------------------------------------------\u001b[0m",
      "\u001b[1;31mKeyboardInterrupt\u001b[0m                         Traceback (most recent call last)",
      "\u001b[1;32mc:\\Users\\rayan_\\Documents\\jupyter\\yellow taxi\\02_projet.ipynb Cell 92'\u001b[0m in \u001b[0;36m<cell line: 3>\u001b[1;34m()\u001b[0m\n\u001b[0;32m      <a href='vscode-notebook-cell:/c%3A/Users/rayan_/Documents/jupyter/yellow%20taxi/02_projet.ipynb#ch0000097?line=0'>1</a>\u001b[0m k_neighbors_opti \u001b[39m=\u001b[39m neighbors\u001b[39m.\u001b[39mKNeighborsRegressor()\n\u001b[0;32m      <a href='vscode-notebook-cell:/c%3A/Users/rayan_/Documents/jupyter/yellow%20taxi/02_projet.ipynb#ch0000097?line=1'>2</a>\u001b[0m k \u001b[39m=\u001b[39m np\u001b[39m.\u001b[39marange(\u001b[39m1\u001b[39m, \u001b[39m10\u001b[39m)\n\u001b[1;32m----> <a href='vscode-notebook-cell:/c%3A/Users/rayan_/Documents/jupyter/yellow%20taxi/02_projet.ipynb#ch0000097?line=2'>3</a>\u001b[0m train_score, val_score \u001b[39m=\u001b[39m validation_curve(k_neighbors_opti, x_train, y_train, param_name \u001b[39m=\u001b[39;49m \u001b[39m'\u001b[39;49m\u001b[39mn_neighbors\u001b[39;49m\u001b[39m'\u001b[39;49m, param_range \u001b[39m=\u001b[39;49m k, cv \u001b[39m=\u001b[39;49m \u001b[39m5\u001b[39;49m)\n",
      "File \u001b[1;32mc:\\Users\\rayan_\\AppData\\Local\\Programs\\Python\\Python310\\lib\\site-packages\\sklearn\\model_selection\\_validation.py:1839\u001b[0m, in \u001b[0;36mvalidation_curve\u001b[1;34m(estimator, X, y, param_name, param_range, groups, cv, scoring, n_jobs, pre_dispatch, verbose, error_score, fit_params)\u001b[0m\n\u001b[0;32m   <a href='file:///c%3A/Users/rayan_/AppData/Local/Programs/Python/Python310/lib/site-packages/sklearn/model_selection/_validation.py?line=1835'>1836</a>\u001b[0m scorer \u001b[39m=\u001b[39m check_scoring(estimator, scoring\u001b[39m=\u001b[39mscoring)\n\u001b[0;32m   <a href='file:///c%3A/Users/rayan_/AppData/Local/Programs/Python/Python310/lib/site-packages/sklearn/model_selection/_validation.py?line=1837'>1838</a>\u001b[0m parallel \u001b[39m=\u001b[39m Parallel(n_jobs\u001b[39m=\u001b[39mn_jobs, pre_dispatch\u001b[39m=\u001b[39mpre_dispatch, verbose\u001b[39m=\u001b[39mverbose)\n\u001b[1;32m-> <a href='file:///c%3A/Users/rayan_/AppData/Local/Programs/Python/Python310/lib/site-packages/sklearn/model_selection/_validation.py?line=1838'>1839</a>\u001b[0m results \u001b[39m=\u001b[39m parallel(\n\u001b[0;32m   <a href='file:///c%3A/Users/rayan_/AppData/Local/Programs/Python/Python310/lib/site-packages/sklearn/model_selection/_validation.py?line=1839'>1840</a>\u001b[0m     delayed(_fit_and_score)(\n\u001b[0;32m   <a href='file:///c%3A/Users/rayan_/AppData/Local/Programs/Python/Python310/lib/site-packages/sklearn/model_selection/_validation.py?line=1840'>1841</a>\u001b[0m         clone(estimator),\n\u001b[0;32m   <a href='file:///c%3A/Users/rayan_/AppData/Local/Programs/Python/Python310/lib/site-packages/sklearn/model_selection/_validation.py?line=1841'>1842</a>\u001b[0m         X,\n\u001b[0;32m   <a href='file:///c%3A/Users/rayan_/AppData/Local/Programs/Python/Python310/lib/site-packages/sklearn/model_selection/_validation.py?line=1842'>1843</a>\u001b[0m         y,\n\u001b[0;32m   <a href='file:///c%3A/Users/rayan_/AppData/Local/Programs/Python/Python310/lib/site-packages/sklearn/model_selection/_validation.py?line=1843'>1844</a>\u001b[0m         scorer,\n\u001b[0;32m   <a href='file:///c%3A/Users/rayan_/AppData/Local/Programs/Python/Python310/lib/site-packages/sklearn/model_selection/_validation.py?line=1844'>1845</a>\u001b[0m         train,\n\u001b[0;32m   <a href='file:///c%3A/Users/rayan_/AppData/Local/Programs/Python/Python310/lib/site-packages/sklearn/model_selection/_validation.py?line=1845'>1846</a>\u001b[0m         test,\n\u001b[0;32m   <a href='file:///c%3A/Users/rayan_/AppData/Local/Programs/Python/Python310/lib/site-packages/sklearn/model_selection/_validation.py?line=1846'>1847</a>\u001b[0m         verbose,\n\u001b[0;32m   <a href='file:///c%3A/Users/rayan_/AppData/Local/Programs/Python/Python310/lib/site-packages/sklearn/model_selection/_validation.py?line=1847'>1848</a>\u001b[0m         parameters\u001b[39m=\u001b[39;49m{param_name: v},\n\u001b[0;32m   <a href='file:///c%3A/Users/rayan_/AppData/Local/Programs/Python/Python310/lib/site-packages/sklearn/model_selection/_validation.py?line=1848'>1849</a>\u001b[0m         fit_params\u001b[39m=\u001b[39;49mfit_params,\n\u001b[0;32m   <a href='file:///c%3A/Users/rayan_/AppData/Local/Programs/Python/Python310/lib/site-packages/sklearn/model_selection/_validation.py?line=1849'>1850</a>\u001b[0m         return_train_score\u001b[39m=\u001b[39;49m\u001b[39mTrue\u001b[39;49;00m,\n\u001b[0;32m   <a href='file:///c%3A/Users/rayan_/AppData/Local/Programs/Python/Python310/lib/site-packages/sklearn/model_selection/_validation.py?line=1850'>1851</a>\u001b[0m         error_score\u001b[39m=\u001b[39;49merror_score,\n\u001b[0;32m   <a href='file:///c%3A/Users/rayan_/AppData/Local/Programs/Python/Python310/lib/site-packages/sklearn/model_selection/_validation.py?line=1851'>1852</a>\u001b[0m     )\n\u001b[0;32m   <a href='file:///c%3A/Users/rayan_/AppData/Local/Programs/Python/Python310/lib/site-packages/sklearn/model_selection/_validation.py?line=1852'>1853</a>\u001b[0m     \u001b[39m# NOTE do not change order of iteration to allow one time cv splitters\u001b[39;49;00m\n\u001b[0;32m   <a href='file:///c%3A/Users/rayan_/AppData/Local/Programs/Python/Python310/lib/site-packages/sklearn/model_selection/_validation.py?line=1853'>1854</a>\u001b[0m     \u001b[39mfor\u001b[39;49;00m train, test \u001b[39min\u001b[39;49;00m cv\u001b[39m.\u001b[39;49msplit(X, y, groups)\n\u001b[0;32m   <a href='file:///c%3A/Users/rayan_/AppData/Local/Programs/Python/Python310/lib/site-packages/sklearn/model_selection/_validation.py?line=1854'>1855</a>\u001b[0m     \u001b[39mfor\u001b[39;49;00m v \u001b[39min\u001b[39;49;00m param_range\n\u001b[0;32m   <a href='file:///c%3A/Users/rayan_/AppData/Local/Programs/Python/Python310/lib/site-packages/sklearn/model_selection/_validation.py?line=1855'>1856</a>\u001b[0m )\n\u001b[0;32m   <a href='file:///c%3A/Users/rayan_/AppData/Local/Programs/Python/Python310/lib/site-packages/sklearn/model_selection/_validation.py?line=1856'>1857</a>\u001b[0m n_params \u001b[39m=\u001b[39m \u001b[39mlen\u001b[39m(param_range)\n\u001b[0;32m   <a href='file:///c%3A/Users/rayan_/AppData/Local/Programs/Python/Python310/lib/site-packages/sklearn/model_selection/_validation.py?line=1858'>1859</a>\u001b[0m results \u001b[39m=\u001b[39m _aggregate_score_dicts(results)\n",
      "File \u001b[1;32mc:\\Users\\rayan_\\AppData\\Local\\Programs\\Python\\Python310\\lib\\site-packages\\joblib\\parallel.py:1046\u001b[0m, in \u001b[0;36mParallel.__call__\u001b[1;34m(self, iterable)\u001b[0m\n\u001b[0;32m   <a href='file:///c%3A/Users/rayan_/AppData/Local/Programs/Python/Python310/lib/site-packages/joblib/parallel.py?line=1042'>1043</a>\u001b[0m \u001b[39mif\u001b[39;00m \u001b[39mself\u001b[39m\u001b[39m.\u001b[39mdispatch_one_batch(iterator):\n\u001b[0;32m   <a href='file:///c%3A/Users/rayan_/AppData/Local/Programs/Python/Python310/lib/site-packages/joblib/parallel.py?line=1043'>1044</a>\u001b[0m     \u001b[39mself\u001b[39m\u001b[39m.\u001b[39m_iterating \u001b[39m=\u001b[39m \u001b[39mself\u001b[39m\u001b[39m.\u001b[39m_original_iterator \u001b[39mis\u001b[39;00m \u001b[39mnot\u001b[39;00m \u001b[39mNone\u001b[39;00m\n\u001b[1;32m-> <a href='file:///c%3A/Users/rayan_/AppData/Local/Programs/Python/Python310/lib/site-packages/joblib/parallel.py?line=1045'>1046</a>\u001b[0m \u001b[39mwhile\u001b[39;00m \u001b[39mself\u001b[39;49m\u001b[39m.\u001b[39;49mdispatch_one_batch(iterator):\n\u001b[0;32m   <a href='file:///c%3A/Users/rayan_/AppData/Local/Programs/Python/Python310/lib/site-packages/joblib/parallel.py?line=1046'>1047</a>\u001b[0m     \u001b[39mpass\u001b[39;00m\n\u001b[0;32m   <a href='file:///c%3A/Users/rayan_/AppData/Local/Programs/Python/Python310/lib/site-packages/joblib/parallel.py?line=1048'>1049</a>\u001b[0m \u001b[39mif\u001b[39;00m pre_dispatch \u001b[39m==\u001b[39m \u001b[39m\"\u001b[39m\u001b[39mall\u001b[39m\u001b[39m\"\u001b[39m \u001b[39mor\u001b[39;00m n_jobs \u001b[39m==\u001b[39m \u001b[39m1\u001b[39m:\n\u001b[0;32m   <a href='file:///c%3A/Users/rayan_/AppData/Local/Programs/Python/Python310/lib/site-packages/joblib/parallel.py?line=1049'>1050</a>\u001b[0m     \u001b[39m# The iterable was consumed all at once by the above for loop.\u001b[39;00m\n\u001b[0;32m   <a href='file:///c%3A/Users/rayan_/AppData/Local/Programs/Python/Python310/lib/site-packages/joblib/parallel.py?line=1050'>1051</a>\u001b[0m     \u001b[39m# No need to wait for async callbacks to trigger to\u001b[39;00m\n\u001b[0;32m   <a href='file:///c%3A/Users/rayan_/AppData/Local/Programs/Python/Python310/lib/site-packages/joblib/parallel.py?line=1051'>1052</a>\u001b[0m     \u001b[39m# consumption.\u001b[39;00m\n",
      "File \u001b[1;32mc:\\Users\\rayan_\\AppData\\Local\\Programs\\Python\\Python310\\lib\\site-packages\\joblib\\parallel.py:861\u001b[0m, in \u001b[0;36mParallel.dispatch_one_batch\u001b[1;34m(self, iterator)\u001b[0m\n\u001b[0;32m    <a href='file:///c%3A/Users/rayan_/AppData/Local/Programs/Python/Python310/lib/site-packages/joblib/parallel.py?line=858'>859</a>\u001b[0m     \u001b[39mreturn\u001b[39;00m \u001b[39mFalse\u001b[39;00m\n\u001b[0;32m    <a href='file:///c%3A/Users/rayan_/AppData/Local/Programs/Python/Python310/lib/site-packages/joblib/parallel.py?line=859'>860</a>\u001b[0m \u001b[39melse\u001b[39;00m:\n\u001b[1;32m--> <a href='file:///c%3A/Users/rayan_/AppData/Local/Programs/Python/Python310/lib/site-packages/joblib/parallel.py?line=860'>861</a>\u001b[0m     \u001b[39mself\u001b[39;49m\u001b[39m.\u001b[39;49m_dispatch(tasks)\n\u001b[0;32m    <a href='file:///c%3A/Users/rayan_/AppData/Local/Programs/Python/Python310/lib/site-packages/joblib/parallel.py?line=861'>862</a>\u001b[0m     \u001b[39mreturn\u001b[39;00m \u001b[39mTrue\u001b[39;00m\n",
      "File \u001b[1;32mc:\\Users\\rayan_\\AppData\\Local\\Programs\\Python\\Python310\\lib\\site-packages\\joblib\\parallel.py:779\u001b[0m, in \u001b[0;36mParallel._dispatch\u001b[1;34m(self, batch)\u001b[0m\n\u001b[0;32m    <a href='file:///c%3A/Users/rayan_/AppData/Local/Programs/Python/Python310/lib/site-packages/joblib/parallel.py?line=776'>777</a>\u001b[0m \u001b[39mwith\u001b[39;00m \u001b[39mself\u001b[39m\u001b[39m.\u001b[39m_lock:\n\u001b[0;32m    <a href='file:///c%3A/Users/rayan_/AppData/Local/Programs/Python/Python310/lib/site-packages/joblib/parallel.py?line=777'>778</a>\u001b[0m     job_idx \u001b[39m=\u001b[39m \u001b[39mlen\u001b[39m(\u001b[39mself\u001b[39m\u001b[39m.\u001b[39m_jobs)\n\u001b[1;32m--> <a href='file:///c%3A/Users/rayan_/AppData/Local/Programs/Python/Python310/lib/site-packages/joblib/parallel.py?line=778'>779</a>\u001b[0m     job \u001b[39m=\u001b[39m \u001b[39mself\u001b[39;49m\u001b[39m.\u001b[39;49m_backend\u001b[39m.\u001b[39;49mapply_async(batch, callback\u001b[39m=\u001b[39;49mcb)\n\u001b[0;32m    <a href='file:///c%3A/Users/rayan_/AppData/Local/Programs/Python/Python310/lib/site-packages/joblib/parallel.py?line=779'>780</a>\u001b[0m     \u001b[39m# A job can complete so quickly than its callback is\u001b[39;00m\n\u001b[0;32m    <a href='file:///c%3A/Users/rayan_/AppData/Local/Programs/Python/Python310/lib/site-packages/joblib/parallel.py?line=780'>781</a>\u001b[0m     \u001b[39m# called before we get here, causing self._jobs to\u001b[39;00m\n\u001b[0;32m    <a href='file:///c%3A/Users/rayan_/AppData/Local/Programs/Python/Python310/lib/site-packages/joblib/parallel.py?line=781'>782</a>\u001b[0m     \u001b[39m# grow. To ensure correct results ordering, .insert is\u001b[39;00m\n\u001b[0;32m    <a href='file:///c%3A/Users/rayan_/AppData/Local/Programs/Python/Python310/lib/site-packages/joblib/parallel.py?line=782'>783</a>\u001b[0m     \u001b[39m# used (rather than .append) in the following line\u001b[39;00m\n\u001b[0;32m    <a href='file:///c%3A/Users/rayan_/AppData/Local/Programs/Python/Python310/lib/site-packages/joblib/parallel.py?line=783'>784</a>\u001b[0m     \u001b[39mself\u001b[39m\u001b[39m.\u001b[39m_jobs\u001b[39m.\u001b[39minsert(job_idx, job)\n",
      "File \u001b[1;32mc:\\Users\\rayan_\\AppData\\Local\\Programs\\Python\\Python310\\lib\\site-packages\\joblib\\_parallel_backends.py:208\u001b[0m, in \u001b[0;36mSequentialBackend.apply_async\u001b[1;34m(self, func, callback)\u001b[0m\n\u001b[0;32m    <a href='file:///c%3A/Users/rayan_/AppData/Local/Programs/Python/Python310/lib/site-packages/joblib/_parallel_backends.py?line=205'>206</a>\u001b[0m \u001b[39mdef\u001b[39;00m \u001b[39mapply_async\u001b[39m(\u001b[39mself\u001b[39m, func, callback\u001b[39m=\u001b[39m\u001b[39mNone\u001b[39;00m):\n\u001b[0;32m    <a href='file:///c%3A/Users/rayan_/AppData/Local/Programs/Python/Python310/lib/site-packages/joblib/_parallel_backends.py?line=206'>207</a>\u001b[0m     \u001b[39m\"\"\"Schedule a func to be run\"\"\"\u001b[39;00m\n\u001b[1;32m--> <a href='file:///c%3A/Users/rayan_/AppData/Local/Programs/Python/Python310/lib/site-packages/joblib/_parallel_backends.py?line=207'>208</a>\u001b[0m     result \u001b[39m=\u001b[39m ImmediateResult(func)\n\u001b[0;32m    <a href='file:///c%3A/Users/rayan_/AppData/Local/Programs/Python/Python310/lib/site-packages/joblib/_parallel_backends.py?line=208'>209</a>\u001b[0m     \u001b[39mif\u001b[39;00m callback:\n\u001b[0;32m    <a href='file:///c%3A/Users/rayan_/AppData/Local/Programs/Python/Python310/lib/site-packages/joblib/_parallel_backends.py?line=209'>210</a>\u001b[0m         callback(result)\n",
      "File \u001b[1;32mc:\\Users\\rayan_\\AppData\\Local\\Programs\\Python\\Python310\\lib\\site-packages\\joblib\\_parallel_backends.py:572\u001b[0m, in \u001b[0;36mImmediateResult.__init__\u001b[1;34m(self, batch)\u001b[0m\n\u001b[0;32m    <a href='file:///c%3A/Users/rayan_/AppData/Local/Programs/Python/Python310/lib/site-packages/joblib/_parallel_backends.py?line=568'>569</a>\u001b[0m \u001b[39mdef\u001b[39;00m \u001b[39m__init__\u001b[39m(\u001b[39mself\u001b[39m, batch):\n\u001b[0;32m    <a href='file:///c%3A/Users/rayan_/AppData/Local/Programs/Python/Python310/lib/site-packages/joblib/_parallel_backends.py?line=569'>570</a>\u001b[0m     \u001b[39m# Don't delay the application, to avoid keeping the input\u001b[39;00m\n\u001b[0;32m    <a href='file:///c%3A/Users/rayan_/AppData/Local/Programs/Python/Python310/lib/site-packages/joblib/_parallel_backends.py?line=570'>571</a>\u001b[0m     \u001b[39m# arguments in memory\u001b[39;00m\n\u001b[1;32m--> <a href='file:///c%3A/Users/rayan_/AppData/Local/Programs/Python/Python310/lib/site-packages/joblib/_parallel_backends.py?line=571'>572</a>\u001b[0m     \u001b[39mself\u001b[39m\u001b[39m.\u001b[39mresults \u001b[39m=\u001b[39m batch()\n",
      "File \u001b[1;32mc:\\Users\\rayan_\\AppData\\Local\\Programs\\Python\\Python310\\lib\\site-packages\\joblib\\parallel.py:262\u001b[0m, in \u001b[0;36mBatchedCalls.__call__\u001b[1;34m(self)\u001b[0m\n\u001b[0;32m    <a href='file:///c%3A/Users/rayan_/AppData/Local/Programs/Python/Python310/lib/site-packages/joblib/parallel.py?line=257'>258</a>\u001b[0m \u001b[39mdef\u001b[39;00m \u001b[39m__call__\u001b[39m(\u001b[39mself\u001b[39m):\n\u001b[0;32m    <a href='file:///c%3A/Users/rayan_/AppData/Local/Programs/Python/Python310/lib/site-packages/joblib/parallel.py?line=258'>259</a>\u001b[0m     \u001b[39m# Set the default nested backend to self._backend but do not set the\u001b[39;00m\n\u001b[0;32m    <a href='file:///c%3A/Users/rayan_/AppData/Local/Programs/Python/Python310/lib/site-packages/joblib/parallel.py?line=259'>260</a>\u001b[0m     \u001b[39m# change the default number of processes to -1\u001b[39;00m\n\u001b[0;32m    <a href='file:///c%3A/Users/rayan_/AppData/Local/Programs/Python/Python310/lib/site-packages/joblib/parallel.py?line=260'>261</a>\u001b[0m     \u001b[39mwith\u001b[39;00m parallel_backend(\u001b[39mself\u001b[39m\u001b[39m.\u001b[39m_backend, n_jobs\u001b[39m=\u001b[39m\u001b[39mself\u001b[39m\u001b[39m.\u001b[39m_n_jobs):\n\u001b[1;32m--> <a href='file:///c%3A/Users/rayan_/AppData/Local/Programs/Python/Python310/lib/site-packages/joblib/parallel.py?line=261'>262</a>\u001b[0m         \u001b[39mreturn\u001b[39;00m [func(\u001b[39m*\u001b[39margs, \u001b[39m*\u001b[39m\u001b[39m*\u001b[39mkwargs)\n\u001b[0;32m    <a href='file:///c%3A/Users/rayan_/AppData/Local/Programs/Python/Python310/lib/site-packages/joblib/parallel.py?line=262'>263</a>\u001b[0m                 \u001b[39mfor\u001b[39;00m func, args, kwargs \u001b[39min\u001b[39;00m \u001b[39mself\u001b[39m\u001b[39m.\u001b[39mitems]\n",
      "File \u001b[1;32mc:\\Users\\rayan_\\AppData\\Local\\Programs\\Python\\Python310\\lib\\site-packages\\joblib\\parallel.py:262\u001b[0m, in \u001b[0;36m<listcomp>\u001b[1;34m(.0)\u001b[0m\n\u001b[0;32m    <a href='file:///c%3A/Users/rayan_/AppData/Local/Programs/Python/Python310/lib/site-packages/joblib/parallel.py?line=257'>258</a>\u001b[0m \u001b[39mdef\u001b[39;00m \u001b[39m__call__\u001b[39m(\u001b[39mself\u001b[39m):\n\u001b[0;32m    <a href='file:///c%3A/Users/rayan_/AppData/Local/Programs/Python/Python310/lib/site-packages/joblib/parallel.py?line=258'>259</a>\u001b[0m     \u001b[39m# Set the default nested backend to self._backend but do not set the\u001b[39;00m\n\u001b[0;32m    <a href='file:///c%3A/Users/rayan_/AppData/Local/Programs/Python/Python310/lib/site-packages/joblib/parallel.py?line=259'>260</a>\u001b[0m     \u001b[39m# change the default number of processes to -1\u001b[39;00m\n\u001b[0;32m    <a href='file:///c%3A/Users/rayan_/AppData/Local/Programs/Python/Python310/lib/site-packages/joblib/parallel.py?line=260'>261</a>\u001b[0m     \u001b[39mwith\u001b[39;00m parallel_backend(\u001b[39mself\u001b[39m\u001b[39m.\u001b[39m_backend, n_jobs\u001b[39m=\u001b[39m\u001b[39mself\u001b[39m\u001b[39m.\u001b[39m_n_jobs):\n\u001b[1;32m--> <a href='file:///c%3A/Users/rayan_/AppData/Local/Programs/Python/Python310/lib/site-packages/joblib/parallel.py?line=261'>262</a>\u001b[0m         \u001b[39mreturn\u001b[39;00m [func(\u001b[39m*\u001b[39margs, \u001b[39m*\u001b[39m\u001b[39m*\u001b[39mkwargs)\n\u001b[0;32m    <a href='file:///c%3A/Users/rayan_/AppData/Local/Programs/Python/Python310/lib/site-packages/joblib/parallel.py?line=262'>263</a>\u001b[0m                 \u001b[39mfor\u001b[39;00m func, args, kwargs \u001b[39min\u001b[39;00m \u001b[39mself\u001b[39m\u001b[39m.\u001b[39mitems]\n",
      "File \u001b[1;32mc:\\Users\\rayan_\\AppData\\Local\\Programs\\Python\\Python310\\lib\\site-packages\\sklearn\\utils\\fixes.py:117\u001b[0m, in \u001b[0;36m_FuncWrapper.__call__\u001b[1;34m(self, *args, **kwargs)\u001b[0m\n\u001b[0;32m    <a href='file:///c%3A/Users/rayan_/AppData/Local/Programs/Python/Python310/lib/site-packages/sklearn/utils/fixes.py?line=114'>115</a>\u001b[0m \u001b[39mdef\u001b[39;00m \u001b[39m__call__\u001b[39m(\u001b[39mself\u001b[39m, \u001b[39m*\u001b[39margs, \u001b[39m*\u001b[39m\u001b[39m*\u001b[39mkwargs):\n\u001b[0;32m    <a href='file:///c%3A/Users/rayan_/AppData/Local/Programs/Python/Python310/lib/site-packages/sklearn/utils/fixes.py?line=115'>116</a>\u001b[0m     \u001b[39mwith\u001b[39;00m config_context(\u001b[39m*\u001b[39m\u001b[39m*\u001b[39m\u001b[39mself\u001b[39m\u001b[39m.\u001b[39mconfig):\n\u001b[1;32m--> <a href='file:///c%3A/Users/rayan_/AppData/Local/Programs/Python/Python310/lib/site-packages/sklearn/utils/fixes.py?line=116'>117</a>\u001b[0m         \u001b[39mreturn\u001b[39;00m \u001b[39mself\u001b[39m\u001b[39m.\u001b[39mfunction(\u001b[39m*\u001b[39margs, \u001b[39m*\u001b[39m\u001b[39m*\u001b[39mkwargs)\n",
      "File \u001b[1;32mc:\\Users\\rayan_\\AppData\\Local\\Programs\\Python\\Python310\\lib\\site-packages\\sklearn\\model_selection\\_validation.py:708\u001b[0m, in \u001b[0;36m_fit_and_score\u001b[1;34m(estimator, X, y, scorer, train, test, verbose, parameters, fit_params, return_train_score, return_parameters, return_n_test_samples, return_times, return_estimator, split_progress, candidate_progress, error_score)\u001b[0m\n\u001b[0;32m    <a href='file:///c%3A/Users/rayan_/AppData/Local/Programs/Python/Python310/lib/site-packages/sklearn/model_selection/_validation.py?line=704'>705</a>\u001b[0m result[\u001b[39m\"\u001b[39m\u001b[39mfit_error\u001b[39m\u001b[39m\"\u001b[39m] \u001b[39m=\u001b[39m \u001b[39mNone\u001b[39;00m\n\u001b[0;32m    <a href='file:///c%3A/Users/rayan_/AppData/Local/Programs/Python/Python310/lib/site-packages/sklearn/model_selection/_validation.py?line=706'>707</a>\u001b[0m fit_time \u001b[39m=\u001b[39m time\u001b[39m.\u001b[39mtime() \u001b[39m-\u001b[39m start_time\n\u001b[1;32m--> <a href='file:///c%3A/Users/rayan_/AppData/Local/Programs/Python/Python310/lib/site-packages/sklearn/model_selection/_validation.py?line=707'>708</a>\u001b[0m test_scores \u001b[39m=\u001b[39m _score(estimator, X_test, y_test, scorer, error_score)\n\u001b[0;32m    <a href='file:///c%3A/Users/rayan_/AppData/Local/Programs/Python/Python310/lib/site-packages/sklearn/model_selection/_validation.py?line=708'>709</a>\u001b[0m score_time \u001b[39m=\u001b[39m time\u001b[39m.\u001b[39mtime() \u001b[39m-\u001b[39m start_time \u001b[39m-\u001b[39m fit_time\n\u001b[0;32m    <a href='file:///c%3A/Users/rayan_/AppData/Local/Programs/Python/Python310/lib/site-packages/sklearn/model_selection/_validation.py?line=709'>710</a>\u001b[0m \u001b[39mif\u001b[39;00m return_train_score:\n",
      "File \u001b[1;32mc:\\Users\\rayan_\\AppData\\Local\\Programs\\Python\\Python310\\lib\\site-packages\\sklearn\\model_selection\\_validation.py:767\u001b[0m, in \u001b[0;36m_score\u001b[1;34m(estimator, X_test, y_test, scorer, error_score)\u001b[0m\n\u001b[0;32m    <a href='file:///c%3A/Users/rayan_/AppData/Local/Programs/Python/Python310/lib/site-packages/sklearn/model_selection/_validation.py?line=764'>765</a>\u001b[0m         scores \u001b[39m=\u001b[39m scorer(estimator, X_test)\n\u001b[0;32m    <a href='file:///c%3A/Users/rayan_/AppData/Local/Programs/Python/Python310/lib/site-packages/sklearn/model_selection/_validation.py?line=765'>766</a>\u001b[0m     \u001b[39melse\u001b[39;00m:\n\u001b[1;32m--> <a href='file:///c%3A/Users/rayan_/AppData/Local/Programs/Python/Python310/lib/site-packages/sklearn/model_selection/_validation.py?line=766'>767</a>\u001b[0m         scores \u001b[39m=\u001b[39m scorer(estimator, X_test, y_test)\n\u001b[0;32m    <a href='file:///c%3A/Users/rayan_/AppData/Local/Programs/Python/Python310/lib/site-packages/sklearn/model_selection/_validation.py?line=767'>768</a>\u001b[0m \u001b[39mexcept\u001b[39;00m \u001b[39mException\u001b[39;00m:\n\u001b[0;32m    <a href='file:///c%3A/Users/rayan_/AppData/Local/Programs/Python/Python310/lib/site-packages/sklearn/model_selection/_validation.py?line=768'>769</a>\u001b[0m     \u001b[39mif\u001b[39;00m error_score \u001b[39m==\u001b[39m \u001b[39m\"\u001b[39m\u001b[39mraise\u001b[39m\u001b[39m\"\u001b[39m:\n",
      "File \u001b[1;32mc:\\Users\\rayan_\\AppData\\Local\\Programs\\Python\\Python310\\lib\\site-packages\\sklearn\\metrics\\_scorer.py:429\u001b[0m, in \u001b[0;36m_passthrough_scorer\u001b[1;34m(estimator, *args, **kwargs)\u001b[0m\n\u001b[0;32m    <a href='file:///c%3A/Users/rayan_/AppData/Local/Programs/Python/Python310/lib/site-packages/sklearn/metrics/_scorer.py?line=426'>427</a>\u001b[0m \u001b[39mdef\u001b[39;00m \u001b[39m_passthrough_scorer\u001b[39m(estimator, \u001b[39m*\u001b[39margs, \u001b[39m*\u001b[39m\u001b[39m*\u001b[39mkwargs):\n\u001b[0;32m    <a href='file:///c%3A/Users/rayan_/AppData/Local/Programs/Python/Python310/lib/site-packages/sklearn/metrics/_scorer.py?line=427'>428</a>\u001b[0m     \u001b[39m\"\"\"Function that wraps estimator.score\"\"\"\u001b[39;00m\n\u001b[1;32m--> <a href='file:///c%3A/Users/rayan_/AppData/Local/Programs/Python/Python310/lib/site-packages/sklearn/metrics/_scorer.py?line=428'>429</a>\u001b[0m     \u001b[39mreturn\u001b[39;00m estimator\u001b[39m.\u001b[39mscore(\u001b[39m*\u001b[39margs, \u001b[39m*\u001b[39m\u001b[39m*\u001b[39mkwargs)\n",
      "File \u001b[1;32mc:\\Users\\rayan_\\AppData\\Local\\Programs\\Python\\Python310\\lib\\site-packages\\sklearn\\base.py:720\u001b[0m, in \u001b[0;36mRegressorMixin.score\u001b[1;34m(self, X, y, sample_weight)\u001b[0m\n\u001b[0;32m    <a href='file:///c%3A/Users/rayan_/AppData/Local/Programs/Python/Python310/lib/site-packages/sklearn/base.py?line=677'>678</a>\u001b[0m \u001b[39m\"\"\"Return the coefficient of determination of the prediction.\u001b[39;00m\n\u001b[0;32m    <a href='file:///c%3A/Users/rayan_/AppData/Local/Programs/Python/Python310/lib/site-packages/sklearn/base.py?line=678'>679</a>\u001b[0m \n\u001b[0;32m    <a href='file:///c%3A/Users/rayan_/AppData/Local/Programs/Python/Python310/lib/site-packages/sklearn/base.py?line=679'>680</a>\u001b[0m \u001b[39mThe coefficient of determination :math:`R^2` is defined as\u001b[39;00m\n\u001b[1;32m   (...)\u001b[0m\n\u001b[0;32m    <a href='file:///c%3A/Users/rayan_/AppData/Local/Programs/Python/Python310/lib/site-packages/sklearn/base.py?line=714'>715</a>\u001b[0m \u001b[39m:class:`~sklearn.multioutput.MultiOutputRegressor`).\u001b[39;00m\n\u001b[0;32m    <a href='file:///c%3A/Users/rayan_/AppData/Local/Programs/Python/Python310/lib/site-packages/sklearn/base.py?line=715'>716</a>\u001b[0m \u001b[39m\"\"\"\u001b[39;00m\n\u001b[0;32m    <a href='file:///c%3A/Users/rayan_/AppData/Local/Programs/Python/Python310/lib/site-packages/sklearn/base.py?line=717'>718</a>\u001b[0m \u001b[39mfrom\u001b[39;00m \u001b[39m.\u001b[39;00m\u001b[39mmetrics\u001b[39;00m \u001b[39mimport\u001b[39;00m r2_score\n\u001b[1;32m--> <a href='file:///c%3A/Users/rayan_/AppData/Local/Programs/Python/Python310/lib/site-packages/sklearn/base.py?line=719'>720</a>\u001b[0m y_pred \u001b[39m=\u001b[39m \u001b[39mself\u001b[39;49m\u001b[39m.\u001b[39;49mpredict(X)\n\u001b[0;32m    <a href='file:///c%3A/Users/rayan_/AppData/Local/Programs/Python/Python310/lib/site-packages/sklearn/base.py?line=720'>721</a>\u001b[0m \u001b[39mreturn\u001b[39;00m r2_score(y, y_pred, sample_weight\u001b[39m=\u001b[39msample_weight)\n",
      "File \u001b[1;32mc:\\Users\\rayan_\\AppData\\Local\\Programs\\Python\\Python310\\lib\\site-packages\\sklearn\\neighbors\\_regression.py:222\u001b[0m, in \u001b[0;36mKNeighborsRegressor.predict\u001b[1;34m(self, X)\u001b[0m\n\u001b[0;32m    <a href='file:///c%3A/Users/rayan_/AppData/Local/Programs/Python/Python310/lib/site-packages/sklearn/neighbors/_regression.py?line=205'>206</a>\u001b[0m \u001b[39m\"\"\"Predict the target for the provided data.\u001b[39;00m\n\u001b[0;32m    <a href='file:///c%3A/Users/rayan_/AppData/Local/Programs/Python/Python310/lib/site-packages/sklearn/neighbors/_regression.py?line=206'>207</a>\u001b[0m \n\u001b[0;32m    <a href='file:///c%3A/Users/rayan_/AppData/Local/Programs/Python/Python310/lib/site-packages/sklearn/neighbors/_regression.py?line=207'>208</a>\u001b[0m \u001b[39mParameters\u001b[39;00m\n\u001b[1;32m   (...)\u001b[0m\n\u001b[0;32m    <a href='file:///c%3A/Users/rayan_/AppData/Local/Programs/Python/Python310/lib/site-packages/sklearn/neighbors/_regression.py?line=216'>217</a>\u001b[0m \u001b[39m    Target values.\u001b[39;00m\n\u001b[0;32m    <a href='file:///c%3A/Users/rayan_/AppData/Local/Programs/Python/Python310/lib/site-packages/sklearn/neighbors/_regression.py?line=217'>218</a>\u001b[0m \u001b[39m\"\"\"\u001b[39;00m\n\u001b[0;32m    <a href='file:///c%3A/Users/rayan_/AppData/Local/Programs/Python/Python310/lib/site-packages/sklearn/neighbors/_regression.py?line=218'>219</a>\u001b[0m \u001b[39mif\u001b[39;00m \u001b[39mself\u001b[39m\u001b[39m.\u001b[39mweights \u001b[39m==\u001b[39m \u001b[39m\"\u001b[39m\u001b[39muniform\u001b[39m\u001b[39m\"\u001b[39m:\n\u001b[0;32m    <a href='file:///c%3A/Users/rayan_/AppData/Local/Programs/Python/Python310/lib/site-packages/sklearn/neighbors/_regression.py?line=219'>220</a>\u001b[0m     \u001b[39m# In that case, we do not need the distances to perform\u001b[39;00m\n\u001b[0;32m    <a href='file:///c%3A/Users/rayan_/AppData/Local/Programs/Python/Python310/lib/site-packages/sklearn/neighbors/_regression.py?line=220'>221</a>\u001b[0m     \u001b[39m# the weighting so we do not compute them.\u001b[39;00m\n\u001b[1;32m--> <a href='file:///c%3A/Users/rayan_/AppData/Local/Programs/Python/Python310/lib/site-packages/sklearn/neighbors/_regression.py?line=221'>222</a>\u001b[0m     neigh_ind \u001b[39m=\u001b[39m \u001b[39mself\u001b[39;49m\u001b[39m.\u001b[39;49mkneighbors(X, return_distance\u001b[39m=\u001b[39;49m\u001b[39mFalse\u001b[39;49;00m)\n\u001b[0;32m    <a href='file:///c%3A/Users/rayan_/AppData/Local/Programs/Python/Python310/lib/site-packages/sklearn/neighbors/_regression.py?line=222'>223</a>\u001b[0m     neigh_dist \u001b[39m=\u001b[39m \u001b[39mNone\u001b[39;00m\n\u001b[0;32m    <a href='file:///c%3A/Users/rayan_/AppData/Local/Programs/Python/Python310/lib/site-packages/sklearn/neighbors/_regression.py?line=223'>224</a>\u001b[0m \u001b[39melse\u001b[39;00m:\n",
      "File \u001b[1;32mc:\\Users\\rayan_\\AppData\\Local\\Programs\\Python\\Python310\\lib\\site-packages\\sklearn\\neighbors\\_base.py:763\u001b[0m, in \u001b[0;36mKNeighborsMixin.kneighbors\u001b[1;34m(self, X, n_neighbors, return_distance)\u001b[0m\n\u001b[0;32m    <a href='file:///c%3A/Users/rayan_/AppData/Local/Programs/Python/Python310/lib/site-packages/sklearn/neighbors/_base.py?line=755'>756</a>\u001b[0m use_pairwise_distances_reductions \u001b[39m=\u001b[39m (\n\u001b[0;32m    <a href='file:///c%3A/Users/rayan_/AppData/Local/Programs/Python/Python310/lib/site-packages/sklearn/neighbors/_base.py?line=756'>757</a>\u001b[0m     \u001b[39mself\u001b[39m\u001b[39m.\u001b[39m_fit_method \u001b[39m==\u001b[39m \u001b[39m\"\u001b[39m\u001b[39mbrute\u001b[39m\u001b[39m\"\u001b[39m\n\u001b[0;32m    <a href='file:///c%3A/Users/rayan_/AppData/Local/Programs/Python/Python310/lib/site-packages/sklearn/neighbors/_base.py?line=757'>758</a>\u001b[0m     \u001b[39mand\u001b[39;00m PairwiseDistancesArgKmin\u001b[39m.\u001b[39mis_usable_for(\n\u001b[0;32m    <a href='file:///c%3A/Users/rayan_/AppData/Local/Programs/Python/Python310/lib/site-packages/sklearn/neighbors/_base.py?line=758'>759</a>\u001b[0m         X \u001b[39mif\u001b[39;00m X \u001b[39mis\u001b[39;00m \u001b[39mnot\u001b[39;00m \u001b[39mNone\u001b[39;00m \u001b[39melse\u001b[39;00m \u001b[39mself\u001b[39m\u001b[39m.\u001b[39m_fit_X, \u001b[39mself\u001b[39m\u001b[39m.\u001b[39m_fit_X, \u001b[39mself\u001b[39m\u001b[39m.\u001b[39meffective_metric_\n\u001b[0;32m    <a href='file:///c%3A/Users/rayan_/AppData/Local/Programs/Python/Python310/lib/site-packages/sklearn/neighbors/_base.py?line=759'>760</a>\u001b[0m     )\n\u001b[0;32m    <a href='file:///c%3A/Users/rayan_/AppData/Local/Programs/Python/Python310/lib/site-packages/sklearn/neighbors/_base.py?line=760'>761</a>\u001b[0m )\n\u001b[0;32m    <a href='file:///c%3A/Users/rayan_/AppData/Local/Programs/Python/Python310/lib/site-packages/sklearn/neighbors/_base.py?line=761'>762</a>\u001b[0m \u001b[39mif\u001b[39;00m use_pairwise_distances_reductions:\n\u001b[1;32m--> <a href='file:///c%3A/Users/rayan_/AppData/Local/Programs/Python/Python310/lib/site-packages/sklearn/neighbors/_base.py?line=762'>763</a>\u001b[0m     results \u001b[39m=\u001b[39m PairwiseDistancesArgKmin\u001b[39m.\u001b[39;49mcompute(\n\u001b[0;32m    <a href='file:///c%3A/Users/rayan_/AppData/Local/Programs/Python/Python310/lib/site-packages/sklearn/neighbors/_base.py?line=763'>764</a>\u001b[0m         X\u001b[39m=\u001b[39;49mX,\n\u001b[0;32m    <a href='file:///c%3A/Users/rayan_/AppData/Local/Programs/Python/Python310/lib/site-packages/sklearn/neighbors/_base.py?line=764'>765</a>\u001b[0m         Y\u001b[39m=\u001b[39;49m\u001b[39mself\u001b[39;49m\u001b[39m.\u001b[39;49m_fit_X,\n\u001b[0;32m    <a href='file:///c%3A/Users/rayan_/AppData/Local/Programs/Python/Python310/lib/site-packages/sklearn/neighbors/_base.py?line=765'>766</a>\u001b[0m         k\u001b[39m=\u001b[39;49mn_neighbors,\n\u001b[0;32m    <a href='file:///c%3A/Users/rayan_/AppData/Local/Programs/Python/Python310/lib/site-packages/sklearn/neighbors/_base.py?line=766'>767</a>\u001b[0m         metric\u001b[39m=\u001b[39;49m\u001b[39mself\u001b[39;49m\u001b[39m.\u001b[39;49meffective_metric_,\n\u001b[0;32m    <a href='file:///c%3A/Users/rayan_/AppData/Local/Programs/Python/Python310/lib/site-packages/sklearn/neighbors/_base.py?line=767'>768</a>\u001b[0m         metric_kwargs\u001b[39m=\u001b[39;49m\u001b[39mself\u001b[39;49m\u001b[39m.\u001b[39;49meffective_metric_params_,\n\u001b[0;32m    <a href='file:///c%3A/Users/rayan_/AppData/Local/Programs/Python/Python310/lib/site-packages/sklearn/neighbors/_base.py?line=768'>769</a>\u001b[0m         strategy\u001b[39m=\u001b[39;49m\u001b[39m\"\u001b[39;49m\u001b[39mauto\u001b[39;49m\u001b[39m\"\u001b[39;49m,\n\u001b[0;32m    <a href='file:///c%3A/Users/rayan_/AppData/Local/Programs/Python/Python310/lib/site-packages/sklearn/neighbors/_base.py?line=769'>770</a>\u001b[0m         return_distance\u001b[39m=\u001b[39;49mreturn_distance,\n\u001b[0;32m    <a href='file:///c%3A/Users/rayan_/AppData/Local/Programs/Python/Python310/lib/site-packages/sklearn/neighbors/_base.py?line=770'>771</a>\u001b[0m     )\n\u001b[0;32m    <a href='file:///c%3A/Users/rayan_/AppData/Local/Programs/Python/Python310/lib/site-packages/sklearn/neighbors/_base.py?line=772'>773</a>\u001b[0m \u001b[39melif\u001b[39;00m (\n\u001b[0;32m    <a href='file:///c%3A/Users/rayan_/AppData/Local/Programs/Python/Python310/lib/site-packages/sklearn/neighbors/_base.py?line=773'>774</a>\u001b[0m     \u001b[39mself\u001b[39m\u001b[39m.\u001b[39m_fit_method \u001b[39m==\u001b[39m \u001b[39m\"\u001b[39m\u001b[39mbrute\u001b[39m\u001b[39m\"\u001b[39m \u001b[39mand\u001b[39;00m \u001b[39mself\u001b[39m\u001b[39m.\u001b[39mmetric \u001b[39m==\u001b[39m \u001b[39m\"\u001b[39m\u001b[39mprecomputed\u001b[39m\u001b[39m\"\u001b[39m \u001b[39mand\u001b[39;00m issparse(X)\n\u001b[0;32m    <a href='file:///c%3A/Users/rayan_/AppData/Local/Programs/Python/Python310/lib/site-packages/sklearn/neighbors/_base.py?line=774'>775</a>\u001b[0m ):\n\u001b[0;32m    <a href='file:///c%3A/Users/rayan_/AppData/Local/Programs/Python/Python310/lib/site-packages/sklearn/neighbors/_base.py?line=775'>776</a>\u001b[0m     results \u001b[39m=\u001b[39m _kneighbors_from_graph(\n\u001b[0;32m    <a href='file:///c%3A/Users/rayan_/AppData/Local/Programs/Python/Python310/lib/site-packages/sklearn/neighbors/_base.py?line=776'>777</a>\u001b[0m         X, n_neighbors\u001b[39m=\u001b[39mn_neighbors, return_distance\u001b[39m=\u001b[39mreturn_distance\n\u001b[0;32m    <a href='file:///c%3A/Users/rayan_/AppData/Local/Programs/Python/Python310/lib/site-packages/sklearn/neighbors/_base.py?line=777'>778</a>\u001b[0m     )\n",
      "File \u001b[1;32msklearn\\metrics\\_pairwise_distances_reduction.pyx:691\u001b[0m, in \u001b[0;36msklearn.metrics._pairwise_distances_reduction.PairwiseDistancesArgKmin.compute\u001b[1;34m()\u001b[0m\n",
      "File \u001b[1;32mc:\\Users\\rayan_\\AppData\\Local\\Programs\\Python\\Python310\\lib\\site-packages\\threadpoolctl.py:171\u001b[0m, in \u001b[0;36m_ThreadpoolLimiter.__exit__\u001b[1;34m(self, type, value, traceback)\u001b[0m\n\u001b[0;32m    <a href='file:///c%3A/Users/rayan_/AppData/Local/Programs/Python/Python310/lib/site-packages/threadpoolctl.py?line=167'>168</a>\u001b[0m \u001b[39mdef\u001b[39;00m \u001b[39m__enter__\u001b[39m(\u001b[39mself\u001b[39m):\n\u001b[0;32m    <a href='file:///c%3A/Users/rayan_/AppData/Local/Programs/Python/Python310/lib/site-packages/threadpoolctl.py?line=168'>169</a>\u001b[0m     \u001b[39mreturn\u001b[39;00m \u001b[39mself\u001b[39m\n\u001b[1;32m--> <a href='file:///c%3A/Users/rayan_/AppData/Local/Programs/Python/Python310/lib/site-packages/threadpoolctl.py?line=170'>171</a>\u001b[0m \u001b[39mdef\u001b[39;00m \u001b[39m__exit__\u001b[39m(\u001b[39mself\u001b[39m, \u001b[39mtype\u001b[39m, value, traceback):\n\u001b[0;32m    <a href='file:///c%3A/Users/rayan_/AppData/Local/Programs/Python/Python310/lib/site-packages/threadpoolctl.py?line=171'>172</a>\u001b[0m     \u001b[39mself\u001b[39m\u001b[39m.\u001b[39mrestore_original_limits()\n\u001b[0;32m    <a href='file:///c%3A/Users/rayan_/AppData/Local/Programs/Python/Python310/lib/site-packages/threadpoolctl.py?line=173'>174</a>\u001b[0m \u001b[39m@classmethod\u001b[39m\n\u001b[0;32m    <a href='file:///c%3A/Users/rayan_/AppData/Local/Programs/Python/Python310/lib/site-packages/threadpoolctl.py?line=174'>175</a>\u001b[0m \u001b[39mdef\u001b[39;00m \u001b[39mwrap\u001b[39m(\u001b[39mcls\u001b[39m, controller, \u001b[39m*\u001b[39m, limits\u001b[39m=\u001b[39m\u001b[39mNone\u001b[39;00m, user_api\u001b[39m=\u001b[39m\u001b[39mNone\u001b[39;00m):\n",
      "\u001b[1;31mKeyboardInterrupt\u001b[0m: "
     ]
    }
   ],
   "source": [
    "k_neighbors_opti = neighbors.KNeighborsRegressor()\n",
    "k = np.arange(1, 10)\n",
    "\n",
    "train_score, val_score = validation_curve(k_neighbors_opti, x_train, y_train, param_name = 'n_neighbors', param_range = k, cv = 5)"
   ]
  },
  {
   "cell_type": "code",
   "execution_count": null,
   "id": "da18dc09",
   "metadata": {},
   "outputs": [
    {
     "data": {
      "image/png": "[encoded data removed]",
      "text/plain": [
       "<Figure size 432x288 with 1 Axes>"
      ]
     },
     "metadata": {},
     "output_type": "display_data"
    }
   ],
   "source": [
    "x_ax = range(len(y_test))\n",
    "plt.plot(x_ax, y_test, linewidth = 1, label = 'original')\n",
    "plt.plot(x_ax, prediction, linewidth = 1, label = 'prediction')\n",
    "plt.title('Comparaison entre y_test et y_pred')\n",
    "plt.xlabel('x')\n",
    "plt.ylabel('y')\n",
    "plt.legend(loc = 'best', fancybox = True, shadow = True)\n",
    "plt.show()"
   ]
  },
  {
   "cell_type": "markdown",
   "id": "e5c26d3b",
   "metadata": {},
   "source": [
    "## 3.4 Forêts aléatoires\n",
    "\n",
    "Les Random Forest peuvent être utilisées à la fois pour des problèmes de classification et des problèmes de régresssion.\n",
    "\n",
    "#### Mode de fonctionnement\n",
    "\n",
    "On créer des arbres de décision basée sur différents échantillons et on récupère la moyenne dans le cadre d'une régression. Ce modèle se base sur un des méthodes de tirage, ce qui signifie combiner de multiples modèles. On utilise ainsi une collection de modèle plutôt qu'un modèle individuel.\n",
    "\n",
    "#### Méthode de tirage: Bagging\n",
    "\n",
    "Cette méthode construit, à partir d'un échantillon tiré aléatoirement, de nouveaux échantillons tirés aléatoirement.\n",
    "\n",
    "#### Algorithme forêt aléatoire\n",
    "- on tire n random forest que l'on tire du dataset avec k nombre de lignes\n",
    "- on construit des arbres de décision pour chaque échantillon\n",
    "- chaque arbre génère un output\n",
    "- l'output final est déterminé par la moyenne des output\n",
    "\n",
    "Pour évaluer notre modèle, on se réfère au r2, qui démontre la qualité du modèle."
   ]
  },
  {
   "cell_type": "markdown",
   "id": "a6a33ce7",
   "metadata": {},
   "source": [
    "On instancie un objet RandomForestRegressor et on applique le modèle."
   ]
  },
  {
   "cell_type": "code",
   "execution_count": null,
   "id": "7882070e",
   "metadata": {},
   "outputs": [
    {
     "ename": "KeyboardInterrupt",
     "evalue": "",
     "output_type": "error",
     "traceback": [
      "\u001b[1;31m---------------------------------------------------------------------------\u001b[0m",
      "\u001b[1;31mKeyboardInterrupt\u001b[0m                         Traceback (most recent call last)",
      "\u001b[1;32mc:\\Users\\rayan_\\Documents\\jupyter\\yellow taxi\\02_projet.ipynb Cell 93'\u001b[0m in \u001b[0;36m<cell line: 2>\u001b[1;34m()\u001b[0m\n\u001b[0;32m      <a href='vscode-notebook-cell:/c%3A/Users/rayan_/Documents/jupyter/yellow%20taxi/02_projet.ipynb#ch0000092?line=0'>1</a>\u001b[0m regressor \u001b[39m=\u001b[39m RandomForestRegressor(n_estimators \u001b[39m=\u001b[39m \u001b[39m100\u001b[39m, random_state \u001b[39m=\u001b[39m \u001b[39m0\u001b[39m)\n\u001b[1;32m----> <a href='vscode-notebook-cell:/c%3A/Users/rayan_/Documents/jupyter/yellow%20taxi/02_projet.ipynb#ch0000092?line=1'>2</a>\u001b[0m regressor\u001b[39m.\u001b[39;49mfit(x, y)\n",
      "File \u001b[1;32mc:\\Users\\rayan_\\AppData\\Local\\Programs\\Python\\Python310\\lib\\site-packages\\sklearn\\ensemble\\_forest.py:476\u001b[0m, in \u001b[0;36mBaseForest.fit\u001b[1;34m(self, X, y, sample_weight)\u001b[0m\n\u001b[0;32m    <a href='file:///c%3A/Users/rayan_/AppData/Local/Programs/Python/Python310/lib/site-packages/sklearn/ensemble/_forest.py?line=464'>465</a>\u001b[0m trees \u001b[39m=\u001b[39m [\n\u001b[0;32m    <a href='file:///c%3A/Users/rayan_/AppData/Local/Programs/Python/Python310/lib/site-packages/sklearn/ensemble/_forest.py?line=465'>466</a>\u001b[0m     \u001b[39mself\u001b[39m\u001b[39m.\u001b[39m_make_estimator(append\u001b[39m=\u001b[39m\u001b[39mFalse\u001b[39;00m, random_state\u001b[39m=\u001b[39mrandom_state)\n\u001b[0;32m    <a href='file:///c%3A/Users/rayan_/AppData/Local/Programs/Python/Python310/lib/site-packages/sklearn/ensemble/_forest.py?line=466'>467</a>\u001b[0m     \u001b[39mfor\u001b[39;00m i \u001b[39min\u001b[39;00m \u001b[39mrange\u001b[39m(n_more_estimators)\n\u001b[0;32m    <a href='file:///c%3A/Users/rayan_/AppData/Local/Programs/Python/Python310/lib/site-packages/sklearn/ensemble/_forest.py?line=467'>468</a>\u001b[0m ]\n\u001b[0;32m    <a href='file:///c%3A/Users/rayan_/AppData/Local/Programs/Python/Python310/lib/site-packages/sklearn/ensemble/_forest.py?line=469'>470</a>\u001b[0m \u001b[39m# Parallel loop: we prefer the threading backend as the Cython code\u001b[39;00m\n\u001b[0;32m    <a href='file:///c%3A/Users/rayan_/AppData/Local/Programs/Python/Python310/lib/site-packages/sklearn/ensemble/_forest.py?line=470'>471</a>\u001b[0m \u001b[39m# for fitting the trees is internally releasing the Python GIL\u001b[39;00m\n\u001b[0;32m    <a href='file:///c%3A/Users/rayan_/AppData/Local/Programs/Python/Python310/lib/site-packages/sklearn/ensemble/_forest.py?line=471'>472</a>\u001b[0m \u001b[39m# making threading more efficient than multiprocessing in\u001b[39;00m\n\u001b[0;32m    <a href='file:///c%3A/Users/rayan_/AppData/Local/Programs/Python/Python310/lib/site-packages/sklearn/ensemble/_forest.py?line=472'>473</a>\u001b[0m \u001b[39m# that case. However, for joblib 0.12+ we respect any\u001b[39;00m\n\u001b[0;32m    <a href='file:///c%3A/Users/rayan_/AppData/Local/Programs/Python/Python310/lib/site-packages/sklearn/ensemble/_forest.py?line=473'>474</a>\u001b[0m \u001b[39m# parallel_backend contexts set at a higher level,\u001b[39;00m\n\u001b[0;32m    <a href='file:///c%3A/Users/rayan_/AppData/Local/Programs/Python/Python310/lib/site-packages/sklearn/ensemble/_forest.py?line=474'>475</a>\u001b[0m \u001b[39m# since correctness does not rely on using threads.\u001b[39;00m\n\u001b[1;32m--> <a href='file:///c%3A/Users/rayan_/AppData/Local/Programs/Python/Python310/lib/site-packages/sklearn/ensemble/_forest.py?line=475'>476</a>\u001b[0m trees \u001b[39m=\u001b[39m Parallel(\n\u001b[0;32m    <a href='file:///c%3A/Users/rayan_/AppData/Local/Programs/Python/Python310/lib/site-packages/sklearn/ensemble/_forest.py?line=476'>477</a>\u001b[0m     n_jobs\u001b[39m=\u001b[39;49m\u001b[39mself\u001b[39;49m\u001b[39m.\u001b[39;49mn_jobs,\n\u001b[0;32m    <a href='file:///c%3A/Users/rayan_/AppData/Local/Programs/Python/Python310/lib/site-packages/sklearn/ensemble/_forest.py?line=477'>478</a>\u001b[0m     verbose\u001b[39m=\u001b[39;49m\u001b[39mself\u001b[39;49m\u001b[39m.\u001b[39;49mverbose,\n\u001b[0;32m    <a href='file:///c%3A/Users/rayan_/AppData/Local/Programs/Python/Python310/lib/site-packages/sklearn/ensemble/_forest.py?line=478'>479</a>\u001b[0m     prefer\u001b[39m=\u001b[39;49m\u001b[39m\"\u001b[39;49m\u001b[39mthreads\u001b[39;49m\u001b[39m\"\u001b[39;49m,\n\u001b[0;32m    <a href='file:///c%3A/Users/rayan_/AppData/Local/Programs/Python/Python310/lib/site-packages/sklearn/ensemble/_forest.py?line=479'>480</a>\u001b[0m )(\n\u001b[0;32m    <a href='file:///c%3A/Users/rayan_/AppData/Local/Programs/Python/Python310/lib/site-packages/sklearn/ensemble/_forest.py?line=480'>481</a>\u001b[0m     delayed(_parallel_build_trees)(\n\u001b[0;32m    <a href='file:///c%3A/Users/rayan_/AppData/Local/Programs/Python/Python310/lib/site-packages/sklearn/ensemble/_forest.py?line=481'>482</a>\u001b[0m         t,\n\u001b[0;32m    <a href='file:///c%3A/Users/rayan_/AppData/Local/Programs/Python/Python310/lib/site-packages/sklearn/ensemble/_forest.py?line=482'>483</a>\u001b[0m         \u001b[39mself\u001b[39;49m\u001b[39m.\u001b[39;49mbootstrap,\n\u001b[0;32m    <a href='file:///c%3A/Users/rayan_/AppData/Local/Programs/Python/Python310/lib/site-packages/sklearn/ensemble/_forest.py?line=483'>484</a>\u001b[0m         X,\n\u001b[0;32m    <a href='file:///c%3A/Users/rayan_/AppData/Local/Programs/Python/Python310/lib/site-packages/sklearn/ensemble/_forest.py?line=484'>485</a>\u001b[0m         y,\n\u001b[0;32m    <a href='file:///c%3A/Users/rayan_/AppData/Local/Programs/Python/Python310/lib/site-packages/sklearn/ensemble/_forest.py?line=485'>486</a>\u001b[0m         sample_weight,\n\u001b[0;32m    <a href='file:///c%3A/Users/rayan_/AppData/Local/Programs/Python/Python310/lib/site-packages/sklearn/ensemble/_forest.py?line=486'>487</a>\u001b[0m         i,\n\u001b[0;32m    <a href='file:///c%3A/Users/rayan_/AppData/Local/Programs/Python/Python310/lib/site-packages/sklearn/ensemble/_forest.py?line=487'>488</a>\u001b[0m         \u001b[39mlen\u001b[39;49m(trees),\n\u001b[0;32m    <a href='file:///c%3A/Users/rayan_/AppData/Local/Programs/Python/Python310/lib/site-packages/sklearn/ensemble/_forest.py?line=488'>489</a>\u001b[0m         verbose\u001b[39m=\u001b[39;49m\u001b[39mself\u001b[39;49m\u001b[39m.\u001b[39;49mverbose,\n\u001b[0;32m    <a href='file:///c%3A/Users/rayan_/AppData/Local/Programs/Python/Python310/lib/site-packages/sklearn/ensemble/_forest.py?line=489'>490</a>\u001b[0m         class_weight\u001b[39m=\u001b[39;49m\u001b[39mself\u001b[39;49m\u001b[39m.\u001b[39;49mclass_weight,\n\u001b[0;32m    <a href='file:///c%3A/Users/rayan_/AppData/Local/Programs/Python/Python310/lib/site-packages/sklearn/ensemble/_forest.py?line=490'>491</a>\u001b[0m         n_samples_bootstrap\u001b[39m=\u001b[39;49mn_samples_bootstrap,\n\u001b[0;32m    <a href='file:///c%3A/Users/rayan_/AppData/Local/Programs/Python/Python310/lib/site-packages/sklearn/ensemble/_forest.py?line=491'>492</a>\u001b[0m     )\n\u001b[0;32m    <a href='file:///c%3A/Users/rayan_/AppData/Local/Programs/Python/Python310/lib/site-packages/sklearn/ensemble/_forest.py?line=492'>493</a>\u001b[0m     \u001b[39mfor\u001b[39;49;00m i, t \u001b[39min\u001b[39;49;00m \u001b[39menumerate\u001b[39;49m(trees)\n\u001b[0;32m    <a href='file:///c%3A/Users/rayan_/AppData/Local/Programs/Python/Python310/lib/site-packages/sklearn/ensemble/_forest.py?line=493'>494</a>\u001b[0m )\n\u001b[0;32m    <a href='file:///c%3A/Users/rayan_/AppData/Local/Programs/Python/Python310/lib/site-packages/sklearn/ensemble/_forest.py?line=495'>496</a>\u001b[0m \u001b[39m# Collect newly grown trees\u001b[39;00m\n\u001b[0;32m    <a href='file:///c%3A/Users/rayan_/AppData/Local/Programs/Python/Python310/lib/site-packages/sklearn/ensemble/_forest.py?line=496'>497</a>\u001b[0m \u001b[39mself\u001b[39m\u001b[39m.\u001b[39mestimators_\u001b[39m.\u001b[39mextend(trees)\n",
      "File \u001b[1;32mc:\\Users\\rayan_\\AppData\\Local\\Programs\\Python\\Python310\\lib\\site-packages\\joblib\\parallel.py:1046\u001b[0m, in \u001b[0;36mParallel.__call__\u001b[1;34m(self, iterable)\u001b[0m\n\u001b[0;32m   <a href='file:///c%3A/Users/rayan_/AppData/Local/Programs/Python/Python310/lib/site-packages/joblib/parallel.py?line=1042'>1043</a>\u001b[0m \u001b[39mif\u001b[39;00m \u001b[39mself\u001b[39m\u001b[39m.\u001b[39mdispatch_one_batch(iterator):\n\u001b[0;32m   <a href='file:///c%3A/Users/rayan_/AppData/Local/Programs/Python/Python310/lib/site-packages/joblib/parallel.py?line=1043'>1044</a>\u001b[0m     \u001b[39mself\u001b[39m\u001b[39m.\u001b[39m_iterating \u001b[39m=\u001b[39m \u001b[39mself\u001b[39m\u001b[39m.\u001b[39m_original_iterator \u001b[39mis\u001b[39;00m \u001b[39mnot\u001b[39;00m \u001b[39mNone\u001b[39;00m\n\u001b[1;32m-> <a href='file:///c%3A/Users/rayan_/AppData/Local/Programs/Python/Python310/lib/site-packages/joblib/parallel.py?line=1045'>1046</a>\u001b[0m \u001b[39mwhile\u001b[39;00m \u001b[39mself\u001b[39;49m\u001b[39m.\u001b[39;49mdispatch_one_batch(iterator):\n\u001b[0;32m   <a href='file:///c%3A/Users/rayan_/AppData/Local/Programs/Python/Python310/lib/site-packages/joblib/parallel.py?line=1046'>1047</a>\u001b[0m     \u001b[39mpass\u001b[39;00m\n\u001b[0;32m   <a href='file:///c%3A/Users/rayan_/AppData/Local/Programs/Python/Python310/lib/site-packages/joblib/parallel.py?line=1048'>1049</a>\u001b[0m \u001b[39mif\u001b[39;00m pre_dispatch \u001b[39m==\u001b[39m \u001b[39m\"\u001b[39m\u001b[39mall\u001b[39m\u001b[39m\"\u001b[39m \u001b[39mor\u001b[39;00m n_jobs \u001b[39m==\u001b[39m \u001b[39m1\u001b[39m:\n\u001b[0;32m   <a href='file:///c%3A/Users/rayan_/AppData/Local/Programs/Python/Python310/lib/site-packages/joblib/parallel.py?line=1049'>1050</a>\u001b[0m     \u001b[39m# The iterable was consumed all at once by the above for loop.\u001b[39;00m\n\u001b[0;32m   <a href='file:///c%3A/Users/rayan_/AppData/Local/Programs/Python/Python310/lib/site-packages/joblib/parallel.py?line=1050'>1051</a>\u001b[0m     \u001b[39m# No need to wait for async callbacks to trigger to\u001b[39;00m\n\u001b[0;32m   <a href='file:///c%3A/Users/rayan_/AppData/Local/Programs/Python/Python310/lib/site-packages/joblib/parallel.py?line=1051'>1052</a>\u001b[0m     \u001b[39m# consumption.\u001b[39;00m\n",
      "File \u001b[1;32mc:\\Users\\rayan_\\AppData\\Local\\Programs\\Python\\Python310\\lib\\site-packages\\joblib\\parallel.py:861\u001b[0m, in \u001b[0;36mParallel.dispatch_one_batch\u001b[1;34m(self, iterator)\u001b[0m\n\u001b[0;32m    <a href='file:///c%3A/Users/rayan_/AppData/Local/Programs/Python/Python310/lib/site-packages/joblib/parallel.py?line=858'>859</a>\u001b[0m     \u001b[39mreturn\u001b[39;00m \u001b[39mFalse\u001b[39;00m\n\u001b[0;32m    <a href='file:///c%3A/Users/rayan_/AppData/Local/Programs/Python/Python310/lib/site-packages/joblib/parallel.py?line=859'>860</a>\u001b[0m \u001b[39melse\u001b[39;00m:\n\u001b[1;32m--> <a href='file:///c%3A/Users/rayan_/AppData/Local/Programs/Python/Python310/lib/site-packages/joblib/parallel.py?line=860'>861</a>\u001b[0m     \u001b[39mself\u001b[39;49m\u001b[39m.\u001b[39;49m_dispatch(tasks)\n\u001b[0;32m    <a href='file:///c%3A/Users/rayan_/AppData/Local/Programs/Python/Python310/lib/site-packages/joblib/parallel.py?line=861'>862</a>\u001b[0m     \u001b[39mreturn\u001b[39;00m \u001b[39mTrue\u001b[39;00m\n",
      "File \u001b[1;32mc:\\Users\\rayan_\\AppData\\Local\\Programs\\Python\\Python310\\lib\\site-packages\\joblib\\parallel.py:779\u001b[0m, in \u001b[0;36mParallel._dispatch\u001b[1;34m(self, batch)\u001b[0m\n\u001b[0;32m    <a href='file:///c%3A/Users/rayan_/AppData/Local/Programs/Python/Python310/lib/site-packages/joblib/parallel.py?line=776'>777</a>\u001b[0m \u001b[39mwith\u001b[39;00m \u001b[39mself\u001b[39m\u001b[39m.\u001b[39m_lock:\n\u001b[0;32m    <a href='file:///c%3A/Users/rayan_/AppData/Local/Programs/Python/Python310/lib/site-packages/joblib/parallel.py?line=777'>778</a>\u001b[0m     job_idx \u001b[39m=\u001b[39m \u001b[39mlen\u001b[39m(\u001b[39mself\u001b[39m\u001b[39m.\u001b[39m_jobs)\n\u001b[1;32m--> <a href='file:///c%3A/Users/rayan_/AppData/Local/Programs/Python/Python310/lib/site-packages/joblib/parallel.py?line=778'>779</a>\u001b[0m     job \u001b[39m=\u001b[39m \u001b[39mself\u001b[39;49m\u001b[39m.\u001b[39;49m_backend\u001b[39m.\u001b[39;49mapply_async(batch, callback\u001b[39m=\u001b[39;49mcb)\n\u001b[0;32m    <a href='file:///c%3A/Users/rayan_/AppData/Local/Programs/Python/Python310/lib/site-packages/joblib/parallel.py?line=779'>780</a>\u001b[0m     \u001b[39m# A job can complete so quickly than its callback is\u001b[39;00m\n\u001b[0;32m    <a href='file:///c%3A/Users/rayan_/AppData/Local/Programs/Python/Python310/lib/site-packages/joblib/parallel.py?line=780'>781</a>\u001b[0m     \u001b[39m# called before we get here, causing self._jobs to\u001b[39;00m\n\u001b[0;32m    <a href='file:///c%3A/Users/rayan_/AppData/Local/Programs/Python/Python310/lib/site-packages/joblib/parallel.py?line=781'>782</a>\u001b[0m     \u001b[39m# grow. To ensure correct results ordering, .insert is\u001b[39;00m\n\u001b[0;32m    <a href='file:///c%3A/Users/rayan_/AppData/Local/Programs/Python/Python310/lib/site-packages/joblib/parallel.py?line=782'>783</a>\u001b[0m     \u001b[39m# used (rather than .append) in the following line\u001b[39;00m\n\u001b[0;32m    <a href='file:///c%3A/Users/rayan_/AppData/Local/Programs/Python/Python310/lib/site-packages/joblib/parallel.py?line=783'>784</a>\u001b[0m     \u001b[39mself\u001b[39m\u001b[39m.\u001b[39m_jobs\u001b[39m.\u001b[39minsert(job_idx, job)\n",
      "File \u001b[1;32mc:\\Users\\rayan_\\AppData\\Local\\Programs\\Python\\Python310\\lib\\site-packages\\joblib\\_parallel_backends.py:208\u001b[0m, in \u001b[0;36mSequentialBackend.apply_async\u001b[1;34m(self, func, callback)\u001b[0m\n\u001b[0;32m    <a href='file:///c%3A/Users/rayan_/AppData/Local/Programs/Python/Python310/lib/site-packages/joblib/_parallel_backends.py?line=205'>206</a>\u001b[0m \u001b[39mdef\u001b[39;00m \u001b[39mapply_async\u001b[39m(\u001b[39mself\u001b[39m, func, callback\u001b[39m=\u001b[39m\u001b[39mNone\u001b[39;00m):\n\u001b[0;32m    <a href='file:///c%3A/Users/rayan_/AppData/Local/Programs/Python/Python310/lib/site-packages/joblib/_parallel_backends.py?line=206'>207</a>\u001b[0m     \u001b[39m\"\"\"Schedule a func to be run\"\"\"\u001b[39;00m\n\u001b[1;32m--> <a href='file:///c%3A/Users/rayan_/AppData/Local/Programs/Python/Python310/lib/site-packages/joblib/_parallel_backends.py?line=207'>208</a>\u001b[0m     result \u001b[39m=\u001b[39m ImmediateResult(func)\n\u001b[0;32m    <a href='file:///c%3A/Users/rayan_/AppData/Local/Programs/Python/Python310/lib/site-packages/joblib/_parallel_backends.py?line=208'>209</a>\u001b[0m     \u001b[39mif\u001b[39;00m callback:\n\u001b[0;32m    <a href='file:///c%3A/Users/rayan_/AppData/Local/Programs/Python/Python310/lib/site-packages/joblib/_parallel_backends.py?line=209'>210</a>\u001b[0m         callback(result)\n",
      "File \u001b[1;32mc:\\Users\\rayan_\\AppData\\Local\\Programs\\Python\\Python310\\lib\\site-packages\\joblib\\_parallel_backends.py:572\u001b[0m, in \u001b[0;36mImmediateResult.__init__\u001b[1;34m(self, batch)\u001b[0m\n\u001b[0;32m    <a href='file:///c%3A/Users/rayan_/AppData/Local/Programs/Python/Python310/lib/site-packages/joblib/_parallel_backends.py?line=568'>569</a>\u001b[0m \u001b[39mdef\u001b[39;00m \u001b[39m__init__\u001b[39m(\u001b[39mself\u001b[39m, batch):\n\u001b[0;32m    <a href='file:///c%3A/Users/rayan_/AppData/Local/Programs/Python/Python310/lib/site-packages/joblib/_parallel_backends.py?line=569'>570</a>\u001b[0m     \u001b[39m# Don't delay the application, to avoid keeping the input\u001b[39;00m\n\u001b[0;32m    <a href='file:///c%3A/Users/rayan_/AppData/Local/Programs/Python/Python310/lib/site-packages/joblib/_parallel_backends.py?line=570'>571</a>\u001b[0m     \u001b[39m# arguments in memory\u001b[39;00m\n\u001b[1;32m--> <a href='file:///c%3A/Users/rayan_/AppData/Local/Programs/Python/Python310/lib/site-packages/joblib/_parallel_backends.py?line=571'>572</a>\u001b[0m     \u001b[39mself\u001b[39m\u001b[39m.\u001b[39mresults \u001b[39m=\u001b[39m batch()\n",
      "File \u001b[1;32mc:\\Users\\rayan_\\AppData\\Local\\Programs\\Python\\Python310\\lib\\site-packages\\joblib\\parallel.py:262\u001b[0m, in \u001b[0;36mBatchedCalls.__call__\u001b[1;34m(self)\u001b[0m\n\u001b[0;32m    <a href='file:///c%3A/Users/rayan_/AppData/Local/Programs/Python/Python310/lib/site-packages/joblib/parallel.py?line=257'>258</a>\u001b[0m \u001b[39mdef\u001b[39;00m \u001b[39m__call__\u001b[39m(\u001b[39mself\u001b[39m):\n\u001b[0;32m    <a href='file:///c%3A/Users/rayan_/AppData/Local/Programs/Python/Python310/lib/site-packages/joblib/parallel.py?line=258'>259</a>\u001b[0m     \u001b[39m# Set the default nested backend to self._backend but do not set the\u001b[39;00m\n\u001b[0;32m    <a href='file:///c%3A/Users/rayan_/AppData/Local/Programs/Python/Python310/lib/site-packages/joblib/parallel.py?line=259'>260</a>\u001b[0m     \u001b[39m# change the default number of processes to -1\u001b[39;00m\n\u001b[0;32m    <a href='file:///c%3A/Users/rayan_/AppData/Local/Programs/Python/Python310/lib/site-packages/joblib/parallel.py?line=260'>261</a>\u001b[0m     \u001b[39mwith\u001b[39;00m parallel_backend(\u001b[39mself\u001b[39m\u001b[39m.\u001b[39m_backend, n_jobs\u001b[39m=\u001b[39m\u001b[39mself\u001b[39m\u001b[39m.\u001b[39m_n_jobs):\n\u001b[1;32m--> <a href='file:///c%3A/Users/rayan_/AppData/Local/Programs/Python/Python310/lib/site-packages/joblib/parallel.py?line=261'>262</a>\u001b[0m         \u001b[39mreturn\u001b[39;00m [func(\u001b[39m*\u001b[39margs, \u001b[39m*\u001b[39m\u001b[39m*\u001b[39mkwargs)\n\u001b[0;32m    <a href='file:///c%3A/Users/rayan_/AppData/Local/Programs/Python/Python310/lib/site-packages/joblib/parallel.py?line=262'>263</a>\u001b[0m                 \u001b[39mfor\u001b[39;00m func, args, kwargs \u001b[39min\u001b[39;00m \u001b[39mself\u001b[39m\u001b[39m.\u001b[39mitems]\n",
      "File \u001b[1;32mc:\\Users\\rayan_\\AppData\\Local\\Programs\\Python\\Python310\\lib\\site-packages\\joblib\\parallel.py:262\u001b[0m, in \u001b[0;36m<listcomp>\u001b[1;34m(.0)\u001b[0m\n\u001b[0;32m    <a href='file:///c%3A/Users/rayan_/AppData/Local/Programs/Python/Python310/lib/site-packages/joblib/parallel.py?line=257'>258</a>\u001b[0m \u001b[39mdef\u001b[39;00m \u001b[39m__call__\u001b[39m(\u001b[39mself\u001b[39m):\n\u001b[0;32m    <a href='file:///c%3A/Users/rayan_/AppData/Local/Programs/Python/Python310/lib/site-packages/joblib/parallel.py?line=258'>259</a>\u001b[0m     \u001b[39m# Set the default nested backend to self._backend but do not set the\u001b[39;00m\n\u001b[0;32m    <a href='file:///c%3A/Users/rayan_/AppData/Local/Programs/Python/Python310/lib/site-packages/joblib/parallel.py?line=259'>260</a>\u001b[0m     \u001b[39m# change the default number of processes to -1\u001b[39;00m\n\u001b[0;32m    <a href='file:///c%3A/Users/rayan_/AppData/Local/Programs/Python/Python310/lib/site-packages/joblib/parallel.py?line=260'>261</a>\u001b[0m     \u001b[39mwith\u001b[39;00m parallel_backend(\u001b[39mself\u001b[39m\u001b[39m.\u001b[39m_backend, n_jobs\u001b[39m=\u001b[39m\u001b[39mself\u001b[39m\u001b[39m.\u001b[39m_n_jobs):\n\u001b[1;32m--> <a href='file:///c%3A/Users/rayan_/AppData/Local/Programs/Python/Python310/lib/site-packages/joblib/parallel.py?line=261'>262</a>\u001b[0m         \u001b[39mreturn\u001b[39;00m [func(\u001b[39m*\u001b[39margs, \u001b[39m*\u001b[39m\u001b[39m*\u001b[39mkwargs)\n\u001b[0;32m    <a href='file:///c%3A/Users/rayan_/AppData/Local/Programs/Python/Python310/lib/site-packages/joblib/parallel.py?line=262'>263</a>\u001b[0m                 \u001b[39mfor\u001b[39;00m func, args, kwargs \u001b[39min\u001b[39;00m \u001b[39mself\u001b[39m\u001b[39m.\u001b[39mitems]\n",
      "File \u001b[1;32mc:\\Users\\rayan_\\AppData\\Local\\Programs\\Python\\Python310\\lib\\site-packages\\sklearn\\utils\\fixes.py:117\u001b[0m, in \u001b[0;36m_FuncWrapper.__call__\u001b[1;34m(self, *args, **kwargs)\u001b[0m\n\u001b[0;32m    <a href='file:///c%3A/Users/rayan_/AppData/Local/Programs/Python/Python310/lib/site-packages/sklearn/utils/fixes.py?line=114'>115</a>\u001b[0m \u001b[39mdef\u001b[39;00m \u001b[39m__call__\u001b[39m(\u001b[39mself\u001b[39m, \u001b[39m*\u001b[39margs, \u001b[39m*\u001b[39m\u001b[39m*\u001b[39mkwargs):\n\u001b[0;32m    <a href='file:///c%3A/Users/rayan_/AppData/Local/Programs/Python/Python310/lib/site-packages/sklearn/utils/fixes.py?line=115'>116</a>\u001b[0m     \u001b[39mwith\u001b[39;00m config_context(\u001b[39m*\u001b[39m\u001b[39m*\u001b[39m\u001b[39mself\u001b[39m\u001b[39m.\u001b[39mconfig):\n\u001b[1;32m--> <a href='file:///c%3A/Users/rayan_/AppData/Local/Programs/Python/Python310/lib/site-packages/sklearn/utils/fixes.py?line=116'>117</a>\u001b[0m         \u001b[39mreturn\u001b[39;00m \u001b[39mself\u001b[39m\u001b[39m.\u001b[39mfunction(\u001b[39m*\u001b[39margs, \u001b[39m*\u001b[39m\u001b[39m*\u001b[39mkwargs)\n",
      "File \u001b[1;32mc:\\Users\\rayan_\\AppData\\Local\\Programs\\Python\\Python310\\lib\\site-packages\\sklearn\\ensemble\\_forest.py:189\u001b[0m, in \u001b[0;36m_parallel_build_trees\u001b[1;34m(tree, bootstrap, X, y, sample_weight, tree_idx, n_trees, verbose, class_weight, n_samples_bootstrap)\u001b[0m\n\u001b[0;32m    <a href='file:///c%3A/Users/rayan_/AppData/Local/Programs/Python/Python310/lib/site-packages/sklearn/ensemble/_forest.py?line=185'>186</a>\u001b[0m     \u001b[39melif\u001b[39;00m class_weight \u001b[39m==\u001b[39m \u001b[39m\"\u001b[39m\u001b[39mbalanced_subsample\u001b[39m\u001b[39m\"\u001b[39m:\n\u001b[0;32m    <a href='file:///c%3A/Users/rayan_/AppData/Local/Programs/Python/Python310/lib/site-packages/sklearn/ensemble/_forest.py?line=186'>187</a>\u001b[0m         curr_sample_weight \u001b[39m*\u001b[39m\u001b[39m=\u001b[39m compute_sample_weight(\u001b[39m\"\u001b[39m\u001b[39mbalanced\u001b[39m\u001b[39m\"\u001b[39m, y, indices\u001b[39m=\u001b[39mindices)\n\u001b[1;32m--> <a href='file:///c%3A/Users/rayan_/AppData/Local/Programs/Python/Python310/lib/site-packages/sklearn/ensemble/_forest.py?line=188'>189</a>\u001b[0m     tree\u001b[39m.\u001b[39;49mfit(X, y, sample_weight\u001b[39m=\u001b[39;49mcurr_sample_weight, check_input\u001b[39m=\u001b[39;49m\u001b[39mFalse\u001b[39;49;00m)\n\u001b[0;32m    <a href='file:///c%3A/Users/rayan_/AppData/Local/Programs/Python/Python310/lib/site-packages/sklearn/ensemble/_forest.py?line=189'>190</a>\u001b[0m \u001b[39melse\u001b[39;00m:\n\u001b[0;32m    <a href='file:///c%3A/Users/rayan_/AppData/Local/Programs/Python/Python310/lib/site-packages/sklearn/ensemble/_forest.py?line=190'>191</a>\u001b[0m     tree\u001b[39m.\u001b[39mfit(X, y, sample_weight\u001b[39m=\u001b[39msample_weight, check_input\u001b[39m=\u001b[39m\u001b[39mFalse\u001b[39;00m)\n",
      "File \u001b[1;32mc:\\Users\\rayan_\\AppData\\Local\\Programs\\Python\\Python310\\lib\\site-packages\\sklearn\\tree\\_classes.py:1342\u001b[0m, in \u001b[0;36mDecisionTreeRegressor.fit\u001b[1;34m(self, X, y, sample_weight, check_input)\u001b[0m\n\u001b[0;32m   <a href='file:///c%3A/Users/rayan_/AppData/Local/Programs/Python/Python310/lib/site-packages/sklearn/tree/_classes.py?line=1312'>1313</a>\u001b[0m \u001b[39mdef\u001b[39;00m \u001b[39mfit\u001b[39m(\u001b[39mself\u001b[39m, X, y, sample_weight\u001b[39m=\u001b[39m\u001b[39mNone\u001b[39;00m, check_input\u001b[39m=\u001b[39m\u001b[39mTrue\u001b[39;00m):\n\u001b[0;32m   <a href='file:///c%3A/Users/rayan_/AppData/Local/Programs/Python/Python310/lib/site-packages/sklearn/tree/_classes.py?line=1313'>1314</a>\u001b[0m     \u001b[39m\"\"\"Build a decision tree regressor from the training set (X, y).\u001b[39;00m\n\u001b[0;32m   <a href='file:///c%3A/Users/rayan_/AppData/Local/Programs/Python/Python310/lib/site-packages/sklearn/tree/_classes.py?line=1314'>1315</a>\u001b[0m \n\u001b[0;32m   <a href='file:///c%3A/Users/rayan_/AppData/Local/Programs/Python/Python310/lib/site-packages/sklearn/tree/_classes.py?line=1315'>1316</a>\u001b[0m \u001b[39m    Parameters\u001b[39;00m\n\u001b[1;32m   (...)\u001b[0m\n\u001b[0;32m   <a href='file:///c%3A/Users/rayan_/AppData/Local/Programs/Python/Python310/lib/site-packages/sklearn/tree/_classes.py?line=1338'>1339</a>\u001b[0m \u001b[39m        Fitted estimator.\u001b[39;00m\n\u001b[0;32m   <a href='file:///c%3A/Users/rayan_/AppData/Local/Programs/Python/Python310/lib/site-packages/sklearn/tree/_classes.py?line=1339'>1340</a>\u001b[0m \u001b[39m    \"\"\"\u001b[39;00m\n\u001b[1;32m-> <a href='file:///c%3A/Users/rayan_/AppData/Local/Programs/Python/Python310/lib/site-packages/sklearn/tree/_classes.py?line=1341'>1342</a>\u001b[0m     \u001b[39msuper\u001b[39;49m()\u001b[39m.\u001b[39;49mfit(\n\u001b[0;32m   <a href='file:///c%3A/Users/rayan_/AppData/Local/Programs/Python/Python310/lib/site-packages/sklearn/tree/_classes.py?line=1342'>1343</a>\u001b[0m         X,\n\u001b[0;32m   <a href='file:///c%3A/Users/rayan_/AppData/Local/Programs/Python/Python310/lib/site-packages/sklearn/tree/_classes.py?line=1343'>1344</a>\u001b[0m         y,\n\u001b[0;32m   <a href='file:///c%3A/Users/rayan_/AppData/Local/Programs/Python/Python310/lib/site-packages/sklearn/tree/_classes.py?line=1344'>1345</a>\u001b[0m         sample_weight\u001b[39m=\u001b[39;49msample_weight,\n\u001b[0;32m   <a href='file:///c%3A/Users/rayan_/AppData/Local/Programs/Python/Python310/lib/site-packages/sklearn/tree/_classes.py?line=1345'>1346</a>\u001b[0m         check_input\u001b[39m=\u001b[39;49mcheck_input,\n\u001b[0;32m   <a href='file:///c%3A/Users/rayan_/AppData/Local/Programs/Python/Python310/lib/site-packages/sklearn/tree/_classes.py?line=1346'>1347</a>\u001b[0m     )\n\u001b[0;32m   <a href='file:///c%3A/Users/rayan_/AppData/Local/Programs/Python/Python310/lib/site-packages/sklearn/tree/_classes.py?line=1347'>1348</a>\u001b[0m     \u001b[39mreturn\u001b[39;00m \u001b[39mself\u001b[39m\n",
      "File \u001b[1;32mc:\\Users\\rayan_\\AppData\\Local\\Programs\\Python\\Python310\\lib\\site-packages\\sklearn\\tree\\_classes.py:458\u001b[0m, in \u001b[0;36mBaseDecisionTree.fit\u001b[1;34m(self, X, y, sample_weight, check_input)\u001b[0m\n\u001b[0;32m    <a href='file:///c%3A/Users/rayan_/AppData/Local/Programs/Python/Python310/lib/site-packages/sklearn/tree/_classes.py?line=446'>447</a>\u001b[0m \u001b[39melse\u001b[39;00m:\n\u001b[0;32m    <a href='file:///c%3A/Users/rayan_/AppData/Local/Programs/Python/Python310/lib/site-packages/sklearn/tree/_classes.py?line=447'>448</a>\u001b[0m     builder \u001b[39m=\u001b[39m BestFirstTreeBuilder(\n\u001b[0;32m    <a href='file:///c%3A/Users/rayan_/AppData/Local/Programs/Python/Python310/lib/site-packages/sklearn/tree/_classes.py?line=448'>449</a>\u001b[0m         splitter,\n\u001b[0;32m    <a href='file:///c%3A/Users/rayan_/AppData/Local/Programs/Python/Python310/lib/site-packages/sklearn/tree/_classes.py?line=449'>450</a>\u001b[0m         min_samples_split,\n\u001b[1;32m   (...)\u001b[0m\n\u001b[0;32m    <a href='file:///c%3A/Users/rayan_/AppData/Local/Programs/Python/Python310/lib/site-packages/sklearn/tree/_classes.py?line=454'>455</a>\u001b[0m         \u001b[39mself\u001b[39m\u001b[39m.\u001b[39mmin_impurity_decrease,\n\u001b[0;32m    <a href='file:///c%3A/Users/rayan_/AppData/Local/Programs/Python/Python310/lib/site-packages/sklearn/tree/_classes.py?line=455'>456</a>\u001b[0m     )\n\u001b[1;32m--> <a href='file:///c%3A/Users/rayan_/AppData/Local/Programs/Python/Python310/lib/site-packages/sklearn/tree/_classes.py?line=457'>458</a>\u001b[0m builder\u001b[39m.\u001b[39;49mbuild(\u001b[39mself\u001b[39;49m\u001b[39m.\u001b[39;49mtree_, X, y, sample_weight)\n\u001b[0;32m    <a href='file:///c%3A/Users/rayan_/AppData/Local/Programs/Python/Python310/lib/site-packages/sklearn/tree/_classes.py?line=459'>460</a>\u001b[0m \u001b[39mif\u001b[39;00m \u001b[39mself\u001b[39m\u001b[39m.\u001b[39mn_outputs_ \u001b[39m==\u001b[39m \u001b[39m1\u001b[39m \u001b[39mand\u001b[39;00m is_classifier(\u001b[39mself\u001b[39m):\n\u001b[0;32m    <a href='file:///c%3A/Users/rayan_/AppData/Local/Programs/Python/Python310/lib/site-packages/sklearn/tree/_classes.py?line=460'>461</a>\u001b[0m     \u001b[39mself\u001b[39m\u001b[39m.\u001b[39mn_classes_ \u001b[39m=\u001b[39m \u001b[39mself\u001b[39m\u001b[39m.\u001b[39mn_classes_[\u001b[39m0\u001b[39m]\n",
      "\u001b[1;31mKeyboardInterrupt\u001b[0m: "
     ]
    }
   ],
   "source": [
    "regressor = RandomForestRegressor(n_estimators = 100, random_state = 0)\n",
    "regressor.fit(x, y) "
   ]
  },
  {
   "cell_type": "code",
   "execution_count": null,
   "id": "4f8062d0",
   "metadata": {},
   "outputs": [],
   "source": [
    "Y_pred = regressor.predict(x_test)  "
   ]
  },
  {
   "cell_type": "code",
   "execution_count": null,
   "id": "49a73fdd",
   "metadata": {},
   "outputs": [],
   "source": [
    "score = regressor.score(x_train, y_train)\n",
    "score_test = regressor.score(x_test, y_test)\n"
   ]
  },
  {
   "cell_type": "code",
   "execution_count": null,
   "id": "de4df554",
   "metadata": {},
   "outputs": [
    {
     "name": "stdout",
     "output_type": "stream",
     "text": [
      "R carré train: 0.9880684825453325.\n",
      "R carré test: 0.9885934760901396.\n",
      "\n"
     ]
    }
   ],
   "source": [
    "result = (\n",
    "    f\"R carré train: {score}.\\n\"\n",
    "    f\"R carré test: {score_test}.\\n\")\n",
    "\n",
    "print(result)"
   ]
  }
 ],
 "metadata": {
  "interpreter": {
   "hash": "425d60e2d6878b0471c49ec31addd1c7abd258e9c436f62d2cd2b383976a0ee1"
  },
  "kernelspec": {
   "display_name": "Python 3",
   "language": "python",
   "name": "python3"
  },
  "language_info": {
   "codemirror_mode": {
    "name": "ipython",
    "version": 3
   },
   "file_extension": ".py",
   "mimetype": "text/x-python",
   "name": "python",
   "nbconvert_exporter": "python",
   "pygments_lexer": "ipython3",
   "version": "3.10.3"
  }
 },
 "nbformat": 4,
 "nbformat_minor": 5
}
